{
 "cells": [
  {
   "cell_type": "markdown",
   "id": "b77c77ef",
   "metadata": {},
   "source": [
    "# DB Scan with Mall_Customers Dataset"
   ]
  },
  {
   "cell_type": "code",
   "execution_count": 3,
   "id": "a85169e9",
   "metadata": {},
   "outputs": [],
   "source": [
    "# DBSCAN Clustering\n",
    "\n",
    "# Importing the libraries\n",
    "import numpy as np\n",
    "import pandas as pd\n",
    "\n"
   ]
  },
  {
   "cell_type": "code",
   "execution_count": 4,
   "id": "55f2a8f6",
   "metadata": {},
   "outputs": [],
   "source": [
    "# Importing the dataset\n",
    "dataset = pd.read_csv('C:/Users/ngbyju/Dropbox/1. BNGPersonal/Purdue-SimpliLearn/3. AI & ML/InterviewPrep/ByjuMLScripts/DBSCAN-Algorithm-master/Mall_Customers.csv')\n",
    "X = dataset.iloc[:, [3, 4]].values\n"
   ]
  },
  {
   "cell_type": "code",
   "execution_count": 6,
   "id": "5f5e6680",
   "metadata": {},
   "outputs": [
    {
     "name": "stdout",
     "output_type": "stream",
     "text": [
      "9\n",
      "-0.1908319132560097\n"
     ]
    }
   ],
   "source": [
    "\n",
    "\n",
    "# Using the elbow method to find the optimal number of clusters\n",
    "from sklearn.cluster import DBSCAN\n",
    "dbscan=DBSCAN(eps=3,min_samples=4)\n",
    "\n",
    "# Fitting the model\n",
    "\n",
    "model=dbscan.fit(X)\n",
    "\n",
    "labels=model.labels_\n",
    "\n",
    "\n",
    "from sklearn import metrics\n",
    "\n",
    "#identifying the points which makes up our core points\n",
    "sample_cores=np.zeros_like(labels,dtype=bool)\n",
    "\n",
    "sample_cores[dbscan.core_sample_indices_]=True\n",
    "\n",
    "#Calculating the number of clusters\n",
    "\n",
    "n_clusters=len(set(labels))- (1 if -1 in labels else 0)\n",
    "print(n_clusters)\n",
    "\n",
    "\n",
    "print(metrics.silhouette_score(X,labels))\n"
   ]
  },
  {
   "cell_type": "code",
   "execution_count": null,
   "id": "f41db04b",
   "metadata": {},
   "outputs": [],
   "source": []
  }
 ],
 "metadata": {
  "kernelspec": {
   "display_name": "Python 3",
   "language": "python",
   "name": "python3"
  },
  "language_info": {
   "codemirror_mode": {
    "name": "ipython",
    "version": 3
   },
   "file_extension": ".py",
   "mimetype": "text/x-python",
   "name": "python",
   "nbconvert_exporter": "python",
   "pygments_lexer": "ipython3",
   "version": "3.8.8"
  }
 },
 "nbformat": 4,
 "nbformat_minor": 5
}

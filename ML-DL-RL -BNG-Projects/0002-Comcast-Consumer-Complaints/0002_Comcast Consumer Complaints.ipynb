{
 "cells": [
  {
   "cell_type": "markdown",
   "metadata": {},
   "source": [
    "Assesment 1: Comcast Telecom Consumer Complaints - Submitted by Byju Nambidiyattil Govindan\n",
    "\n",
    "Domain: Finance and Housing"
   ]
  },
  {
   "cell_type": "markdown",
   "metadata": {},
   "source": [
    "DESCRIPTION\n",
    "\n",
    "Comcast is an American global telecommunication company. The firm has been providing terrible customer service. They continue to fall short despite repeated promises to improve. Only last month (October 2016) the authority fined them a $2.3 million, after receiving over 1000 consumer complaints.\n",
    "The existing database will serve as a repository of public customer complaints filed against Comcast.\n",
    "It will help to pin down what is wrong with Comcast's customer service.\n",
    "\n",
    "Data Dictionary\n",
    "\n",
    "Ticket #: Ticket number assigned to each complaint\n",
    "<br>\n",
    "Customer Complaint: Description of complaint\n",
    "<br>\n",
    "Date: Date of complaint\n",
    "<br>\n",
    "Time: Time of complaint\n",
    "<br>\n",
    "Received Via: Mode of communication of the complaint\n",
    "<br>\n",
    "City: Customer city\n",
    "<br>\n",
    "State: Customer state\n",
    "<br>\n",
    "Zipcode: Customer zip\n",
    "<br>\n",
    "Status: Status of complaint\n",
    "<br>\n",
    "Filing on behalf of someone"
   ]
  },
  {
   "cell_type": "markdown",
   "metadata": {},
   "source": [
    "Project Objectives:\n",
    "\n",
    "Using any of the different Python libraries such as NumPy, SciPy, Pandas, scikit-learn, matplotlib, and BeautifulSoup:\n",
    "\n",
    "- Import data into Python environment.\n",
    "- Provide the trend chart for the number of complaints at monthly and daily granularity levels.\n",
    "- Provide a table with the frequency of complaint types.\n",
    "\n",
    "Which complaint types are maximum i.e., around internet, network issues, or across any other domains.\n",
    "- Create a new categorical variable with value as Open and Closed. Open & Pending is to be categorized as Open and Closed & Solved is to be categorized as Closed.\n",
    "- Provide state wise status of complaints in a stacked bar chart. Use the categorized variable from Q3. Provide insights on:\n",
    "\n",
    "Which state has the maximum complaints\n",
    "Which state has the highest percentage of unresolved complaints\n",
    "- Provide the percentage of complaints resolved till date, which were received through the Internet and customer care calls.\n",
    "\n",
    "The analysis results to be provided with insights wherever applicable."
   ]
  },
  {
   "cell_type": "markdown",
   "metadata": {},
   "source": [
    "[A link to formatting of markdown cells](https://www.tutorialspoint.com/jupyter/jupyter_notebook_markdown_cells.htm)\n",
    "<br>\n",
    "The above link provides tips on how to format the contents in markdown cells"
   ]
  },
  {
   "cell_type": "markdown",
   "metadata": {},
   "source": [
    "# Import libraries"
   ]
  },
  {
   "cell_type": "code",
   "execution_count": 1,
   "metadata": {},
   "outputs": [],
   "source": [
    "import os\n",
    "import pandas as pd\n",
    "import numpy as np\n",
    "import matplotlib\n",
    "import matplotlib.pyplot as plt\n",
    "import math\n",
    "import seaborn as sns\n",
    "import dateutil\n",
    "\n",
    "from datetime import datetime # Import datetime from the datetime module\n",
    "\n",
    "%matplotlib inline"
   ]
  },
  {
   "cell_type": "markdown",
   "metadata": {},
   "source": [
    "## Get the current working directory"
   ]
  },
  {
   "cell_type": "code",
   "execution_count": 2,
   "metadata": {},
   "outputs": [
    {
     "data": {
      "text/plain": [
       "'C:\\\\Users\\\\Byju\\\\Dropbox\\\\1. BNGPersonal\\\\Purdue-SimpliLearn\\\\3. AI & ML\\\\AssesmentProjects\\\\Module1'"
      ]
     },
     "execution_count": 2,
     "metadata": {},
     "output_type": "execute_result"
    }
   ],
   "source": [
    "os.getcwd()"
   ]
  },
  {
   "cell_type": "markdown",
   "metadata": {},
   "source": [
    "# Data Loading, Preparation and Cleaning"
   ]
  },
  {
   "cell_type": "code",
   "execution_count": 3,
   "metadata": {},
   "outputs": [],
   "source": [
    "# Import data into Python environment.\n",
    "\n",
    "#Change the directory settings as needed\n",
    "#os.chdir('/home/labsuser/Byju')\n",
    "#os.chdir('C:/Users/ngbyju/Dropbox/1. BNGPersonal/Purdue-SimpliLearn/3. AI & ML/AssesmentProjects/Module1')\n",
    "\n",
    "os.chdir('C:/Users/Byju/Dropbox/1. BNGPersonal/Purdue-SimpliLearn/3. AI & ML/AssesmentProjects/Module1')\n",
    "\n",
    "\n",
    "#Read the “Comcast_telecom_complaints_data.csv” file from the folder into the program, and store into the dataframe \"ctcc_df\".\n",
    "\n",
    "ctcc_df=pd.read_csv('Comcast_telecom_complaints_data.csv', index_col=0)"
   ]
  },
  {
   "cell_type": "code",
   "execution_count": 4,
   "metadata": {},
   "outputs": [
    {
     "data": {
      "text/html": [
       "<div>\n",
       "<style scoped>\n",
       "    .dataframe tbody tr th:only-of-type {\n",
       "        vertical-align: middle;\n",
       "    }\n",
       "\n",
       "    .dataframe tbody tr th {\n",
       "        vertical-align: top;\n",
       "    }\n",
       "\n",
       "    .dataframe thead th {\n",
       "        text-align: right;\n",
       "    }\n",
       "</style>\n",
       "<table border=\"1\" class=\"dataframe\">\n",
       "  <thead>\n",
       "    <tr style=\"text-align: right;\">\n",
       "      <th></th>\n",
       "      <th>Customer Complaint</th>\n",
       "      <th>Date</th>\n",
       "      <th>Date_month_year</th>\n",
       "      <th>Time</th>\n",
       "      <th>Received Via</th>\n",
       "      <th>City</th>\n",
       "      <th>State</th>\n",
       "      <th>Zip code</th>\n",
       "      <th>Status</th>\n",
       "      <th>Filing on Behalf of Someone</th>\n",
       "    </tr>\n",
       "    <tr>\n",
       "      <th>Ticket #</th>\n",
       "      <th></th>\n",
       "      <th></th>\n",
       "      <th></th>\n",
       "      <th></th>\n",
       "      <th></th>\n",
       "      <th></th>\n",
       "      <th></th>\n",
       "      <th></th>\n",
       "      <th></th>\n",
       "      <th></th>\n",
       "    </tr>\n",
       "  </thead>\n",
       "  <tbody>\n",
       "    <tr>\n",
       "      <th>250635</th>\n",
       "      <td>Comcast Cable Internet Speeds</td>\n",
       "      <td>22-04-15</td>\n",
       "      <td>22-Apr-15</td>\n",
       "      <td>3:53:50 PM</td>\n",
       "      <td>Customer Care Call</td>\n",
       "      <td>Abingdon</td>\n",
       "      <td>Maryland</td>\n",
       "      <td>21009</td>\n",
       "      <td>Closed</td>\n",
       "      <td>No</td>\n",
       "    </tr>\n",
       "    <tr>\n",
       "      <th>223441</th>\n",
       "      <td>Payment disappear - service got disconnected</td>\n",
       "      <td>04-08-15</td>\n",
       "      <td>04-Aug-15</td>\n",
       "      <td>10:22:56 AM</td>\n",
       "      <td>Internet</td>\n",
       "      <td>Acworth</td>\n",
       "      <td>Georgia</td>\n",
       "      <td>30102</td>\n",
       "      <td>Closed</td>\n",
       "      <td>No</td>\n",
       "    </tr>\n",
       "    <tr>\n",
       "      <th>242732</th>\n",
       "      <td>Speed and Service</td>\n",
       "      <td>18-04-15</td>\n",
       "      <td>18-Apr-15</td>\n",
       "      <td>9:55:47 AM</td>\n",
       "      <td>Internet</td>\n",
       "      <td>Acworth</td>\n",
       "      <td>Georgia</td>\n",
       "      <td>30101</td>\n",
       "      <td>Closed</td>\n",
       "      <td>Yes</td>\n",
       "    </tr>\n",
       "    <tr>\n",
       "      <th>277946</th>\n",
       "      <td>Comcast Imposed a New Usage Cap of 300GB that ...</td>\n",
       "      <td>05-07-15</td>\n",
       "      <td>05-Jul-15</td>\n",
       "      <td>11:59:35 AM</td>\n",
       "      <td>Internet</td>\n",
       "      <td>Acworth</td>\n",
       "      <td>Georgia</td>\n",
       "      <td>30101</td>\n",
       "      <td>Open</td>\n",
       "      <td>Yes</td>\n",
       "    </tr>\n",
       "    <tr>\n",
       "      <th>307175</th>\n",
       "      <td>Comcast not working and no service to boot</td>\n",
       "      <td>26-05-15</td>\n",
       "      <td>26-May-15</td>\n",
       "      <td>1:25:26 PM</td>\n",
       "      <td>Internet</td>\n",
       "      <td>Acworth</td>\n",
       "      <td>Georgia</td>\n",
       "      <td>30101</td>\n",
       "      <td>Solved</td>\n",
       "      <td>No</td>\n",
       "    </tr>\n",
       "  </tbody>\n",
       "</table>\n",
       "</div>"
      ],
      "text/plain": [
       "                                         Customer Complaint      Date  \\\n",
       "Ticket #                                                                \n",
       "250635                        Comcast Cable Internet Speeds  22-04-15   \n",
       "223441         Payment disappear - service got disconnected  04-08-15   \n",
       "242732                                    Speed and Service  18-04-15   \n",
       "277946    Comcast Imposed a New Usage Cap of 300GB that ...  05-07-15   \n",
       "307175           Comcast not working and no service to boot  26-05-15   \n",
       "\n",
       "         Date_month_year         Time        Received Via      City     State  \\\n",
       "Ticket #                                                                        \n",
       "250635         22-Apr-15   3:53:50 PM  Customer Care Call  Abingdon  Maryland   \n",
       "223441         04-Aug-15  10:22:56 AM            Internet   Acworth   Georgia   \n",
       "242732         18-Apr-15   9:55:47 AM            Internet   Acworth   Georgia   \n",
       "277946         05-Jul-15  11:59:35 AM            Internet   Acworth   Georgia   \n",
       "307175         26-May-15   1:25:26 PM            Internet   Acworth   Georgia   \n",
       "\n",
       "          Zip code  Status Filing on Behalf of Someone  \n",
       "Ticket #                                                \n",
       "250635       21009  Closed                          No  \n",
       "223441       30102  Closed                          No  \n",
       "242732       30101  Closed                         Yes  \n",
       "277946       30101    Open                         Yes  \n",
       "307175       30101  Solved                          No  "
      ]
     },
     "execution_count": 4,
     "metadata": {},
     "output_type": "execute_result"
    }
   ],
   "source": [
    "ctcc_df.head()"
   ]
  },
  {
   "cell_type": "code",
   "execution_count": 5,
   "metadata": {},
   "outputs": [
    {
     "data": {
      "text/plain": [
       "Customer Complaint               0\n",
       "Date                             0\n",
       "Date_month_year                  0\n",
       "Time                             0\n",
       "Received Via                     0\n",
       "City                             0\n",
       "State                            0\n",
       "Zip code                       0.0\n",
       "Status                           0\n",
       "Filing on Behalf of Someone      0\n",
       "dtype: object"
      ]
     },
     "execution_count": 5,
     "metadata": {},
     "output_type": "execute_result"
    }
   ],
   "source": [
    "#Check for null values in the dataset\n",
    "ctcc_df[ctcc_df.isnull()].sum() \n",
    "\n",
    "#There are no missing values in the dataset"
   ]
  },
  {
   "cell_type": "code",
   "execution_count": 6,
   "metadata": {},
   "outputs": [
    {
     "data": {
      "text/plain": [
       "(2224, 10)"
      ]
     },
     "execution_count": 6,
     "metadata": {},
     "output_type": "execute_result"
    }
   ],
   "source": [
    "ctcc_df.shape"
   ]
  },
  {
   "cell_type": "code",
   "execution_count": 7,
   "metadata": {},
   "outputs": [
    {
     "data": {
      "text/plain": [
       "pandas.core.frame.DataFrame"
      ]
     },
     "execution_count": 7,
     "metadata": {},
     "output_type": "execute_result"
    }
   ],
   "source": [
    "type(ctcc_df)"
   ]
  },
  {
   "cell_type": "code",
   "execution_count": 8,
   "metadata": {},
   "outputs": [
    {
     "data": {
      "text/plain": [
       "'                                         Customer Complaint      Date  \\\\\\nTicket #                                                                \\n250635                        Comcast Cable Internet Speeds  22-04-15   \\n223441         Payment disappear - service got disconnected  04-08-15   \\n242732                                    Speed and Service  18-04-15   \\n277946    Comcast Imposed a New Usage Cap of 300GB that ...  05-07-15   \\n307175           Comcast not working and no service to boot  26-05-15   \\n...                                                     ...       ...   \\n213550                                 Service Availability  04-02-15   \\n318775           Comcast Monthly Billing for Returned Modem  06-02-15   \\n331188                              complaint about comcast  06-09-15   \\n360489               Extremely unsatisfied Comcast customer  23-06-15   \\n363614                 Comcast, Ypsilanti MI Internet Speed  24-06-15   \\n\\n         Date_month_year         Time        Received Via        City  \\\\\\nTicket #                                                                \\n250635         22-Apr-15   3:53:50 PM  Customer Care Call    Abingdon   \\n223441         04-Aug-15  10:22:56 AM            Internet     Acworth   \\n242732         18-Apr-15   9:55:47 AM            Internet     Acworth   \\n277946         05-Jul-15  11:59:35 AM            Internet     Acworth   \\n307175         26-May-15   1:25:26 PM            Internet     Acworth   \\n...                  ...          ...                 ...         ...   \\n213550         04-Feb-15   9:13:18 AM  Customer Care Call  Youngstown   \\n318775         06-Feb-15   1:24:39 PM  Customer Care Call   Ypsilanti   \\n331188         06-Sep-15   5:28:41 PM            Internet   Ypsilanti   \\n360489         23-Jun-15  11:13:30 PM  Customer Care Call   Ypsilanti   \\n363614         24-Jun-15  10:28:33 PM  Customer Care Call   Ypsilanti   \\n\\n             State  Zip code  Status Filing on Behalf of Someone  \\nTicket #                                                          \\n250635    Maryland     21009  Closed                          No  \\n223441     Georgia     30102  Closed                          No  \\n242732     Georgia     30101  Closed                         Yes  \\n277946     Georgia     30101    Open                         Yes  \\n307175     Georgia     30101  Solved                          No  \\n...            ...       ...     ...                         ...  \\n213550     Florida     32466  Closed                          No  \\n318775    Michigan     48197  Solved                          No  \\n331188    Michigan     48197  Solved                          No  \\n360489    Michigan     48197  Solved                          No  \\n363614    Michigan     48198    Open                         Yes  \\n\\n[2224 rows x 10 columns]'"
      ]
     },
     "execution_count": 8,
     "metadata": {},
     "output_type": "execute_result"
    }
   ],
   "source": [
    "str(ctcc_df)"
   ]
  },
  {
   "cell_type": "code",
   "execution_count": 9,
   "metadata": {},
   "outputs": [
    {
     "data": {
      "text/html": [
       "<div>\n",
       "<style scoped>\n",
       "    .dataframe tbody tr th:only-of-type {\n",
       "        vertical-align: middle;\n",
       "    }\n",
       "\n",
       "    .dataframe tbody tr th {\n",
       "        vertical-align: top;\n",
       "    }\n",
       "\n",
       "    .dataframe thead th {\n",
       "        text-align: right;\n",
       "    }\n",
       "</style>\n",
       "<table border=\"1\" class=\"dataframe\">\n",
       "  <thead>\n",
       "    <tr style=\"text-align: right;\">\n",
       "      <th></th>\n",
       "      <th>Customer Complaint</th>\n",
       "      <th>Date</th>\n",
       "      <th>Date_month_year</th>\n",
       "      <th>Time</th>\n",
       "      <th>Received Via</th>\n",
       "      <th>City</th>\n",
       "      <th>State</th>\n",
       "      <th>Zip code</th>\n",
       "      <th>Status</th>\n",
       "      <th>Filing on Behalf of Someone</th>\n",
       "    </tr>\n",
       "  </thead>\n",
       "  <tbody>\n",
       "    <tr>\n",
       "      <th>count</th>\n",
       "      <td>2224</td>\n",
       "      <td>2224</td>\n",
       "      <td>2224</td>\n",
       "      <td>2224</td>\n",
       "      <td>2224</td>\n",
       "      <td>2224</td>\n",
       "      <td>2224</td>\n",
       "      <td>2224.000000</td>\n",
       "      <td>2224</td>\n",
       "      <td>2224</td>\n",
       "    </tr>\n",
       "    <tr>\n",
       "      <th>unique</th>\n",
       "      <td>1841</td>\n",
       "      <td>91</td>\n",
       "      <td>91</td>\n",
       "      <td>2190</td>\n",
       "      <td>2</td>\n",
       "      <td>928</td>\n",
       "      <td>43</td>\n",
       "      <td>NaN</td>\n",
       "      <td>4</td>\n",
       "      <td>2</td>\n",
       "    </tr>\n",
       "    <tr>\n",
       "      <th>top</th>\n",
       "      <td>Comcast</td>\n",
       "      <td>24-06-15</td>\n",
       "      <td>24-Jun-15</td>\n",
       "      <td>2:45:12 PM</td>\n",
       "      <td>Customer Care Call</td>\n",
       "      <td>Atlanta</td>\n",
       "      <td>Georgia</td>\n",
       "      <td>NaN</td>\n",
       "      <td>Solved</td>\n",
       "      <td>No</td>\n",
       "    </tr>\n",
       "    <tr>\n",
       "      <th>freq</th>\n",
       "      <td>83</td>\n",
       "      <td>218</td>\n",
       "      <td>218</td>\n",
       "      <td>2</td>\n",
       "      <td>1119</td>\n",
       "      <td>63</td>\n",
       "      <td>288</td>\n",
       "      <td>NaN</td>\n",
       "      <td>973</td>\n",
       "      <td>2021</td>\n",
       "    </tr>\n",
       "    <tr>\n",
       "      <th>mean</th>\n",
       "      <td>NaN</td>\n",
       "      <td>NaN</td>\n",
       "      <td>NaN</td>\n",
       "      <td>NaN</td>\n",
       "      <td>NaN</td>\n",
       "      <td>NaN</td>\n",
       "      <td>NaN</td>\n",
       "      <td>47994.393435</td>\n",
       "      <td>NaN</td>\n",
       "      <td>NaN</td>\n",
       "    </tr>\n",
       "    <tr>\n",
       "      <th>std</th>\n",
       "      <td>NaN</td>\n",
       "      <td>NaN</td>\n",
       "      <td>NaN</td>\n",
       "      <td>NaN</td>\n",
       "      <td>NaN</td>\n",
       "      <td>NaN</td>\n",
       "      <td>NaN</td>\n",
       "      <td>28885.279427</td>\n",
       "      <td>NaN</td>\n",
       "      <td>NaN</td>\n",
       "    </tr>\n",
       "    <tr>\n",
       "      <th>min</th>\n",
       "      <td>NaN</td>\n",
       "      <td>NaN</td>\n",
       "      <td>NaN</td>\n",
       "      <td>NaN</td>\n",
       "      <td>NaN</td>\n",
       "      <td>NaN</td>\n",
       "      <td>NaN</td>\n",
       "      <td>1075.000000</td>\n",
       "      <td>NaN</td>\n",
       "      <td>NaN</td>\n",
       "    </tr>\n",
       "    <tr>\n",
       "      <th>25%</th>\n",
       "      <td>NaN</td>\n",
       "      <td>NaN</td>\n",
       "      <td>NaN</td>\n",
       "      <td>NaN</td>\n",
       "      <td>NaN</td>\n",
       "      <td>NaN</td>\n",
       "      <td>NaN</td>\n",
       "      <td>30056.500000</td>\n",
       "      <td>NaN</td>\n",
       "      <td>NaN</td>\n",
       "    </tr>\n",
       "    <tr>\n",
       "      <th>50%</th>\n",
       "      <td>NaN</td>\n",
       "      <td>NaN</td>\n",
       "      <td>NaN</td>\n",
       "      <td>NaN</td>\n",
       "      <td>NaN</td>\n",
       "      <td>NaN</td>\n",
       "      <td>NaN</td>\n",
       "      <td>37211.000000</td>\n",
       "      <td>NaN</td>\n",
       "      <td>NaN</td>\n",
       "    </tr>\n",
       "    <tr>\n",
       "      <th>75%</th>\n",
       "      <td>NaN</td>\n",
       "      <td>NaN</td>\n",
       "      <td>NaN</td>\n",
       "      <td>NaN</td>\n",
       "      <td>NaN</td>\n",
       "      <td>NaN</td>\n",
       "      <td>NaN</td>\n",
       "      <td>77058.750000</td>\n",
       "      <td>NaN</td>\n",
       "      <td>NaN</td>\n",
       "    </tr>\n",
       "    <tr>\n",
       "      <th>max</th>\n",
       "      <td>NaN</td>\n",
       "      <td>NaN</td>\n",
       "      <td>NaN</td>\n",
       "      <td>NaN</td>\n",
       "      <td>NaN</td>\n",
       "      <td>NaN</td>\n",
       "      <td>NaN</td>\n",
       "      <td>99223.000000</td>\n",
       "      <td>NaN</td>\n",
       "      <td>NaN</td>\n",
       "    </tr>\n",
       "  </tbody>\n",
       "</table>\n",
       "</div>"
      ],
      "text/plain": [
       "       Customer Complaint      Date Date_month_year        Time  \\\n",
       "count                2224      2224            2224        2224   \n",
       "unique               1841        91              91        2190   \n",
       "top               Comcast  24-06-15       24-Jun-15  2:45:12 PM   \n",
       "freq                   83       218             218           2   \n",
       "mean                  NaN       NaN             NaN         NaN   \n",
       "std                   NaN       NaN             NaN         NaN   \n",
       "min                   NaN       NaN             NaN         NaN   \n",
       "25%                   NaN       NaN             NaN         NaN   \n",
       "50%                   NaN       NaN             NaN         NaN   \n",
       "75%                   NaN       NaN             NaN         NaN   \n",
       "max                   NaN       NaN             NaN         NaN   \n",
       "\n",
       "              Received Via     City    State      Zip code  Status  \\\n",
       "count                 2224     2224     2224   2224.000000    2224   \n",
       "unique                   2      928       43           NaN       4   \n",
       "top     Customer Care Call  Atlanta  Georgia           NaN  Solved   \n",
       "freq                  1119       63      288           NaN     973   \n",
       "mean                   NaN      NaN      NaN  47994.393435     NaN   \n",
       "std                    NaN      NaN      NaN  28885.279427     NaN   \n",
       "min                    NaN      NaN      NaN   1075.000000     NaN   \n",
       "25%                    NaN      NaN      NaN  30056.500000     NaN   \n",
       "50%                    NaN      NaN      NaN  37211.000000     NaN   \n",
       "75%                    NaN      NaN      NaN  77058.750000     NaN   \n",
       "max                    NaN      NaN      NaN  99223.000000     NaN   \n",
       "\n",
       "       Filing on Behalf of Someone  \n",
       "count                         2224  \n",
       "unique                           2  \n",
       "top                             No  \n",
       "freq                          2021  \n",
       "mean                           NaN  \n",
       "std                            NaN  \n",
       "min                            NaN  \n",
       "25%                            NaN  \n",
       "50%                            NaN  \n",
       "75%                            NaN  \n",
       "max                            NaN  "
      ]
     },
     "execution_count": 9,
     "metadata": {},
     "output_type": "execute_result"
    }
   ],
   "source": [
    "ctcc_df.describe(include='all')"
   ]
  },
  {
   "cell_type": "code",
   "execution_count": 10,
   "metadata": {},
   "outputs": [
    {
     "name": "stdout",
     "output_type": "stream",
     "text": [
      "<class 'pandas.core.frame.DataFrame'>\n",
      "Index: 2224 entries, 250635 to 363614\n",
      "Data columns (total 10 columns):\n",
      " #   Column                       Non-Null Count  Dtype \n",
      "---  ------                       --------------  ----- \n",
      " 0   Customer Complaint           2224 non-null   object\n",
      " 1   Date                         2224 non-null   object\n",
      " 2   Date_month_year              2224 non-null   object\n",
      " 3   Time                         2224 non-null   object\n",
      " 4   Received Via                 2224 non-null   object\n",
      " 5   City                         2224 non-null   object\n",
      " 6   State                        2224 non-null   object\n",
      " 7   Zip code                     2224 non-null   int64 \n",
      " 8   Status                       2224 non-null   object\n",
      " 9   Filing on Behalf of Someone  2224 non-null   object\n",
      "dtypes: int64(1), object(9)\n",
      "memory usage: 191.1+ KB\n"
     ]
    }
   ],
   "source": [
    "ctcc_df.info()"
   ]
  },
  {
   "cell_type": "markdown",
   "metadata": {},
   "source": [
    "Of the 10 objects in the dataframe, all are string datatypes except the zip code. However, zipcode donot convey any additional information than that it represents one location. So we will convert zipcode column to string data type. The date object is defined as string data type and we will convert it to date datatype."
   ]
  },
  {
   "cell_type": "code",
   "execution_count": 11,
   "metadata": {},
   "outputs": [],
   "source": [
    "# convert \"zipcode\" to string data type\n",
    "ctcc_df['Zip code'] = ctcc_df['Zip code'].astype(str)"
   ]
  },
  {
   "cell_type": "code",
   "execution_count": 12,
   "metadata": {},
   "outputs": [],
   "source": [
    "# convert \"Date\" object to datetime data type\n",
    "ctcc_df['Date'] = pd.to_datetime(ctcc_df['Date'])"
   ]
  },
  {
   "cell_type": "code",
   "execution_count": 13,
   "metadata": {},
   "outputs": [
    {
     "name": "stdout",
     "output_type": "stream",
     "text": [
      "<class 'pandas.core.frame.DataFrame'>\n",
      "Index: 2224 entries, 250635 to 363614\n",
      "Data columns (total 10 columns):\n",
      " #   Column                       Non-Null Count  Dtype         \n",
      "---  ------                       --------------  -----         \n",
      " 0   Customer Complaint           2224 non-null   object        \n",
      " 1   Date                         2224 non-null   datetime64[ns]\n",
      " 2   Date_month_year              2224 non-null   object        \n",
      " 3   Time                         2224 non-null   object        \n",
      " 4   Received Via                 2224 non-null   object        \n",
      " 5   City                         2224 non-null   object        \n",
      " 6   State                        2224 non-null   object        \n",
      " 7   Zip code                     2224 non-null   object        \n",
      " 8   Status                       2224 non-null   object        \n",
      " 9   Filing on Behalf of Someone  2224 non-null   object        \n",
      "dtypes: datetime64[ns](1), object(9)\n",
      "memory usage: 191.1+ KB\n"
     ]
    }
   ],
   "source": [
    "ctcc_df.info()"
   ]
  },
  {
   "cell_type": "code",
   "execution_count": 14,
   "metadata": {},
   "outputs": [
    {
     "name": "stderr",
     "output_type": "stream",
     "text": [
      "<ipython-input-14-ca7a48d6f4f0>:1: FutureWarning: Treating datetime data as categorical rather than numeric in `.describe` is deprecated and will be removed in a future version of pandas. Specify `datetime_is_numeric=True` to silence this warning and adopt the future behavior now.\n",
      "  ctcc_df.describe(include='all')\n"
     ]
    },
    {
     "data": {
      "text/html": [
       "<div>\n",
       "<style scoped>\n",
       "    .dataframe tbody tr th:only-of-type {\n",
       "        vertical-align: middle;\n",
       "    }\n",
       "\n",
       "    .dataframe tbody tr th {\n",
       "        vertical-align: top;\n",
       "    }\n",
       "\n",
       "    .dataframe thead th {\n",
       "        text-align: right;\n",
       "    }\n",
       "</style>\n",
       "<table border=\"1\" class=\"dataframe\">\n",
       "  <thead>\n",
       "    <tr style=\"text-align: right;\">\n",
       "      <th></th>\n",
       "      <th>Customer Complaint</th>\n",
       "      <th>Date</th>\n",
       "      <th>Date_month_year</th>\n",
       "      <th>Time</th>\n",
       "      <th>Received Via</th>\n",
       "      <th>City</th>\n",
       "      <th>State</th>\n",
       "      <th>Zip code</th>\n",
       "      <th>Status</th>\n",
       "      <th>Filing on Behalf of Someone</th>\n",
       "    </tr>\n",
       "  </thead>\n",
       "  <tbody>\n",
       "    <tr>\n",
       "      <th>count</th>\n",
       "      <td>2224</td>\n",
       "      <td>2224</td>\n",
       "      <td>2224</td>\n",
       "      <td>2224</td>\n",
       "      <td>2224</td>\n",
       "      <td>2224</td>\n",
       "      <td>2224</td>\n",
       "      <td>2224</td>\n",
       "      <td>2224</td>\n",
       "      <td>2224</td>\n",
       "    </tr>\n",
       "    <tr>\n",
       "      <th>unique</th>\n",
       "      <td>1841</td>\n",
       "      <td>91</td>\n",
       "      <td>91</td>\n",
       "      <td>2190</td>\n",
       "      <td>2</td>\n",
       "      <td>928</td>\n",
       "      <td>43</td>\n",
       "      <td>1543</td>\n",
       "      <td>4</td>\n",
       "      <td>2</td>\n",
       "    </tr>\n",
       "    <tr>\n",
       "      <th>top</th>\n",
       "      <td>Comcast</td>\n",
       "      <td>2015-06-24 00:00:00</td>\n",
       "      <td>24-Jun-15</td>\n",
       "      <td>2:45:12 PM</td>\n",
       "      <td>Customer Care Call</td>\n",
       "      <td>Atlanta</td>\n",
       "      <td>Georgia</td>\n",
       "      <td>30144</td>\n",
       "      <td>Solved</td>\n",
       "      <td>No</td>\n",
       "    </tr>\n",
       "    <tr>\n",
       "      <th>freq</th>\n",
       "      <td>83</td>\n",
       "      <td>218</td>\n",
       "      <td>218</td>\n",
       "      <td>2</td>\n",
       "      <td>1119</td>\n",
       "      <td>63</td>\n",
       "      <td>288</td>\n",
       "      <td>8</td>\n",
       "      <td>973</td>\n",
       "      <td>2021</td>\n",
       "    </tr>\n",
       "    <tr>\n",
       "      <th>first</th>\n",
       "      <td>NaN</td>\n",
       "      <td>2015-04-01 00:00:00</td>\n",
       "      <td>NaN</td>\n",
       "      <td>NaN</td>\n",
       "      <td>NaN</td>\n",
       "      <td>NaN</td>\n",
       "      <td>NaN</td>\n",
       "      <td>NaN</td>\n",
       "      <td>NaN</td>\n",
       "      <td>NaN</td>\n",
       "    </tr>\n",
       "    <tr>\n",
       "      <th>last</th>\n",
       "      <td>NaN</td>\n",
       "      <td>2015-06-30 00:00:00</td>\n",
       "      <td>NaN</td>\n",
       "      <td>NaN</td>\n",
       "      <td>NaN</td>\n",
       "      <td>NaN</td>\n",
       "      <td>NaN</td>\n",
       "      <td>NaN</td>\n",
       "      <td>NaN</td>\n",
       "      <td>NaN</td>\n",
       "    </tr>\n",
       "  </tbody>\n",
       "</table>\n",
       "</div>"
      ],
      "text/plain": [
       "       Customer Complaint                 Date Date_month_year        Time  \\\n",
       "count                2224                 2224            2224        2224   \n",
       "unique               1841                   91              91        2190   \n",
       "top               Comcast  2015-06-24 00:00:00       24-Jun-15  2:45:12 PM   \n",
       "freq                   83                  218             218           2   \n",
       "first                 NaN  2015-04-01 00:00:00             NaN         NaN   \n",
       "last                  NaN  2015-06-30 00:00:00             NaN         NaN   \n",
       "\n",
       "              Received Via     City    State Zip code  Status  \\\n",
       "count                 2224     2224     2224     2224    2224   \n",
       "unique                   2      928       43     1543       4   \n",
       "top     Customer Care Call  Atlanta  Georgia    30144  Solved   \n",
       "freq                  1119       63      288        8     973   \n",
       "first                  NaN      NaN      NaN      NaN     NaN   \n",
       "last                   NaN      NaN      NaN      NaN     NaN   \n",
       "\n",
       "       Filing on Behalf of Someone  \n",
       "count                         2224  \n",
       "unique                           2  \n",
       "top                             No  \n",
       "freq                          2021  \n",
       "first                          NaN  \n",
       "last                           NaN  "
      ]
     },
     "execution_count": 14,
     "metadata": {},
     "output_type": "execute_result"
    }
   ],
   "source": [
    "ctcc_df.describe(include='all')"
   ]
  },
  {
   "cell_type": "markdown",
   "metadata": {},
   "source": [
    "To plot the number of complaints at monthly granularity levels, we must extract month information from the date object"
   ]
  },
  {
   "cell_type": "markdown",
   "metadata": {},
   "source": [
    "### Extract month from date column"
   ]
  },
  {
   "cell_type": "code",
   "execution_count": 15,
   "metadata": {},
   "outputs": [],
   "source": [
    "#Series.dt can be used to access the values of the series as datetimelike and return several properties. \n",
    "#Pandas Series.dt.month attribute return a numpy array containing the month of the datetime in the underlying data of the given series object.\n",
    "\n",
    "ctcc_df['month']=ctcc_df.Date.dt.month"
   ]
  },
  {
   "cell_type": "code",
   "execution_count": 16,
   "metadata": {},
   "outputs": [],
   "source": [
    "#ctcc_df['month'] = ctcc_df['month'].replace([1,2,3,4,5,6,7,8,9,10,11,12],['Jan','Feb','March','April','May','June','July','Aug','Sep','Oct','Nov','Dec'])"
   ]
  },
  {
   "cell_type": "code",
   "execution_count": 17,
   "metadata": {},
   "outputs": [],
   "source": [
    "# Lets create a date time index by concatenating the \"Date_month_year\" and \"Time\" columns\n",
    "ctcc_df[\"date_index\"] = ctcc_df[\"Date_month_year\"] + \" \" + ctcc_df[\"Time\"]"
   ]
  },
  {
   "cell_type": "code",
   "execution_count": 18,
   "metadata": {},
   "outputs": [],
   "source": [
    "#Use to_datetime to Convert argument to datetime\n",
    "ctcc_df[\"date_index\"] = pd.to_datetime(ctcc_df[\"date_index\"])\n",
    "ctcc_df[\"Date_month_year\"] = pd.to_datetime(ctcc_df[\"Date_month_year\"])"
   ]
  },
  {
   "cell_type": "code",
   "execution_count": 19,
   "metadata": {},
   "outputs": [
    {
     "data": {
      "text/plain": [
       "Customer Complaint                     object\n",
       "Date                           datetime64[ns]\n",
       "Date_month_year                datetime64[ns]\n",
       "Time                                   object\n",
       "Received Via                           object\n",
       "City                                   object\n",
       "State                                  object\n",
       "Zip code                               object\n",
       "Status                                 object\n",
       "Filing on Behalf of Someone            object\n",
       "month                                   int64\n",
       "date_index                     datetime64[ns]\n",
       "dtype: object"
      ]
     },
     "execution_count": 19,
     "metadata": {},
     "output_type": "execute_result"
    }
   ],
   "source": [
    "ctcc_df.dtypes"
   ]
  },
  {
   "cell_type": "code",
   "execution_count": 20,
   "metadata": {},
   "outputs": [
    {
     "data": {
      "text/html": [
       "<div>\n",
       "<style scoped>\n",
       "    .dataframe tbody tr th:only-of-type {\n",
       "        vertical-align: middle;\n",
       "    }\n",
       "\n",
       "    .dataframe tbody tr th {\n",
       "        vertical-align: top;\n",
       "    }\n",
       "\n",
       "    .dataframe thead th {\n",
       "        text-align: right;\n",
       "    }\n",
       "</style>\n",
       "<table border=\"1\" class=\"dataframe\">\n",
       "  <thead>\n",
       "    <tr style=\"text-align: right;\">\n",
       "      <th></th>\n",
       "      <th>Customer Complaint</th>\n",
       "      <th>Date</th>\n",
       "      <th>Date_month_year</th>\n",
       "      <th>Time</th>\n",
       "      <th>Received Via</th>\n",
       "      <th>City</th>\n",
       "      <th>State</th>\n",
       "      <th>Zip code</th>\n",
       "      <th>Status</th>\n",
       "      <th>Filing on Behalf of Someone</th>\n",
       "      <th>month</th>\n",
       "      <th>date_index</th>\n",
       "    </tr>\n",
       "    <tr>\n",
       "      <th>Ticket #</th>\n",
       "      <th></th>\n",
       "      <th></th>\n",
       "      <th></th>\n",
       "      <th></th>\n",
       "      <th></th>\n",
       "      <th></th>\n",
       "      <th></th>\n",
       "      <th></th>\n",
       "      <th></th>\n",
       "      <th></th>\n",
       "      <th></th>\n",
       "      <th></th>\n",
       "    </tr>\n",
       "  </thead>\n",
       "  <tbody>\n",
       "    <tr>\n",
       "      <th>250635</th>\n",
       "      <td>Comcast Cable Internet Speeds</td>\n",
       "      <td>2015-04-22</td>\n",
       "      <td>2015-04-22</td>\n",
       "      <td>3:53:50 PM</td>\n",
       "      <td>Customer Care Call</td>\n",
       "      <td>Abingdon</td>\n",
       "      <td>Maryland</td>\n",
       "      <td>21009</td>\n",
       "      <td>Closed</td>\n",
       "      <td>No</td>\n",
       "      <td>4</td>\n",
       "      <td>2015-04-22 15:53:50</td>\n",
       "    </tr>\n",
       "    <tr>\n",
       "      <th>223441</th>\n",
       "      <td>Payment disappear - service got disconnected</td>\n",
       "      <td>2015-04-08</td>\n",
       "      <td>2015-08-04</td>\n",
       "      <td>10:22:56 AM</td>\n",
       "      <td>Internet</td>\n",
       "      <td>Acworth</td>\n",
       "      <td>Georgia</td>\n",
       "      <td>30102</td>\n",
       "      <td>Closed</td>\n",
       "      <td>No</td>\n",
       "      <td>4</td>\n",
       "      <td>2015-08-04 10:22:56</td>\n",
       "    </tr>\n",
       "    <tr>\n",
       "      <th>242732</th>\n",
       "      <td>Speed and Service</td>\n",
       "      <td>2015-04-18</td>\n",
       "      <td>2015-04-18</td>\n",
       "      <td>9:55:47 AM</td>\n",
       "      <td>Internet</td>\n",
       "      <td>Acworth</td>\n",
       "      <td>Georgia</td>\n",
       "      <td>30101</td>\n",
       "      <td>Closed</td>\n",
       "      <td>Yes</td>\n",
       "      <td>4</td>\n",
       "      <td>2015-04-18 09:55:47</td>\n",
       "    </tr>\n",
       "    <tr>\n",
       "      <th>277946</th>\n",
       "      <td>Comcast Imposed a New Usage Cap of 300GB that ...</td>\n",
       "      <td>2015-05-07</td>\n",
       "      <td>2015-07-05</td>\n",
       "      <td>11:59:35 AM</td>\n",
       "      <td>Internet</td>\n",
       "      <td>Acworth</td>\n",
       "      <td>Georgia</td>\n",
       "      <td>30101</td>\n",
       "      <td>Open</td>\n",
       "      <td>Yes</td>\n",
       "      <td>5</td>\n",
       "      <td>2015-07-05 11:59:35</td>\n",
       "    </tr>\n",
       "    <tr>\n",
       "      <th>307175</th>\n",
       "      <td>Comcast not working and no service to boot</td>\n",
       "      <td>2015-05-26</td>\n",
       "      <td>2015-05-26</td>\n",
       "      <td>1:25:26 PM</td>\n",
       "      <td>Internet</td>\n",
       "      <td>Acworth</td>\n",
       "      <td>Georgia</td>\n",
       "      <td>30101</td>\n",
       "      <td>Solved</td>\n",
       "      <td>No</td>\n",
       "      <td>5</td>\n",
       "      <td>2015-05-26 13:25:26</td>\n",
       "    </tr>\n",
       "  </tbody>\n",
       "</table>\n",
       "</div>"
      ],
      "text/plain": [
       "                                         Customer Complaint       Date  \\\n",
       "Ticket #                                                                 \n",
       "250635                        Comcast Cable Internet Speeds 2015-04-22   \n",
       "223441         Payment disappear - service got disconnected 2015-04-08   \n",
       "242732                                    Speed and Service 2015-04-18   \n",
       "277946    Comcast Imposed a New Usage Cap of 300GB that ... 2015-05-07   \n",
       "307175           Comcast not working and no service to boot 2015-05-26   \n",
       "\n",
       "         Date_month_year         Time        Received Via      City     State  \\\n",
       "Ticket #                                                                        \n",
       "250635        2015-04-22   3:53:50 PM  Customer Care Call  Abingdon  Maryland   \n",
       "223441        2015-08-04  10:22:56 AM            Internet   Acworth   Georgia   \n",
       "242732        2015-04-18   9:55:47 AM            Internet   Acworth   Georgia   \n",
       "277946        2015-07-05  11:59:35 AM            Internet   Acworth   Georgia   \n",
       "307175        2015-05-26   1:25:26 PM            Internet   Acworth   Georgia   \n",
       "\n",
       "         Zip code  Status Filing on Behalf of Someone  month  \\\n",
       "Ticket #                                                       \n",
       "250635      21009  Closed                          No      4   \n",
       "223441      30102  Closed                          No      4   \n",
       "242732      30101  Closed                         Yes      4   \n",
       "277946      30101    Open                         Yes      5   \n",
       "307175      30101  Solved                          No      5   \n",
       "\n",
       "                  date_index  \n",
       "Ticket #                      \n",
       "250635   2015-04-22 15:53:50  \n",
       "223441   2015-08-04 10:22:56  \n",
       "242732   2015-04-18 09:55:47  \n",
       "277946   2015-07-05 11:59:35  \n",
       "307175   2015-05-26 13:25:26  "
      ]
     },
     "execution_count": 20,
     "metadata": {},
     "output_type": "execute_result"
    }
   ],
   "source": [
    "ctcc_df.head()"
   ]
  },
  {
   "cell_type": "code",
   "execution_count": 21,
   "metadata": {},
   "outputs": [],
   "source": [
    "ctcc_df = ctcc_df.set_index(ctcc_df[\"date_index\"])"
   ]
  },
  {
   "cell_type": "code",
   "execution_count": 22,
   "metadata": {},
   "outputs": [
    {
     "data": {
      "text/html": [
       "<div>\n",
       "<style scoped>\n",
       "    .dataframe tbody tr th:only-of-type {\n",
       "        vertical-align: middle;\n",
       "    }\n",
       "\n",
       "    .dataframe tbody tr th {\n",
       "        vertical-align: top;\n",
       "    }\n",
       "\n",
       "    .dataframe thead th {\n",
       "        text-align: right;\n",
       "    }\n",
       "</style>\n",
       "<table border=\"1\" class=\"dataframe\">\n",
       "  <thead>\n",
       "    <tr style=\"text-align: right;\">\n",
       "      <th></th>\n",
       "      <th>Customer Complaint</th>\n",
       "      <th>Date</th>\n",
       "      <th>Date_month_year</th>\n",
       "      <th>Time</th>\n",
       "      <th>Received Via</th>\n",
       "      <th>City</th>\n",
       "      <th>State</th>\n",
       "      <th>Zip code</th>\n",
       "      <th>Status</th>\n",
       "      <th>Filing on Behalf of Someone</th>\n",
       "      <th>month</th>\n",
       "      <th>date_index</th>\n",
       "    </tr>\n",
       "    <tr>\n",
       "      <th>date_index</th>\n",
       "      <th></th>\n",
       "      <th></th>\n",
       "      <th></th>\n",
       "      <th></th>\n",
       "      <th></th>\n",
       "      <th></th>\n",
       "      <th></th>\n",
       "      <th></th>\n",
       "      <th></th>\n",
       "      <th></th>\n",
       "      <th></th>\n",
       "      <th></th>\n",
       "    </tr>\n",
       "  </thead>\n",
       "  <tbody>\n",
       "    <tr>\n",
       "      <th>2015-04-22 15:53:50</th>\n",
       "      <td>Comcast Cable Internet Speeds</td>\n",
       "      <td>2015-04-22</td>\n",
       "      <td>2015-04-22</td>\n",
       "      <td>3:53:50 PM</td>\n",
       "      <td>Customer Care Call</td>\n",
       "      <td>Abingdon</td>\n",
       "      <td>Maryland</td>\n",
       "      <td>21009</td>\n",
       "      <td>Closed</td>\n",
       "      <td>No</td>\n",
       "      <td>4</td>\n",
       "      <td>2015-04-22 15:53:50</td>\n",
       "    </tr>\n",
       "    <tr>\n",
       "      <th>2015-08-04 10:22:56</th>\n",
       "      <td>Payment disappear - service got disconnected</td>\n",
       "      <td>2015-04-08</td>\n",
       "      <td>2015-08-04</td>\n",
       "      <td>10:22:56 AM</td>\n",
       "      <td>Internet</td>\n",
       "      <td>Acworth</td>\n",
       "      <td>Georgia</td>\n",
       "      <td>30102</td>\n",
       "      <td>Closed</td>\n",
       "      <td>No</td>\n",
       "      <td>4</td>\n",
       "      <td>2015-08-04 10:22:56</td>\n",
       "    </tr>\n",
       "    <tr>\n",
       "      <th>2015-04-18 09:55:47</th>\n",
       "      <td>Speed and Service</td>\n",
       "      <td>2015-04-18</td>\n",
       "      <td>2015-04-18</td>\n",
       "      <td>9:55:47 AM</td>\n",
       "      <td>Internet</td>\n",
       "      <td>Acworth</td>\n",
       "      <td>Georgia</td>\n",
       "      <td>30101</td>\n",
       "      <td>Closed</td>\n",
       "      <td>Yes</td>\n",
       "      <td>4</td>\n",
       "      <td>2015-04-18 09:55:47</td>\n",
       "    </tr>\n",
       "    <tr>\n",
       "      <th>2015-07-05 11:59:35</th>\n",
       "      <td>Comcast Imposed a New Usage Cap of 300GB that ...</td>\n",
       "      <td>2015-05-07</td>\n",
       "      <td>2015-07-05</td>\n",
       "      <td>11:59:35 AM</td>\n",
       "      <td>Internet</td>\n",
       "      <td>Acworth</td>\n",
       "      <td>Georgia</td>\n",
       "      <td>30101</td>\n",
       "      <td>Open</td>\n",
       "      <td>Yes</td>\n",
       "      <td>5</td>\n",
       "      <td>2015-07-05 11:59:35</td>\n",
       "    </tr>\n",
       "    <tr>\n",
       "      <th>2015-05-26 13:25:26</th>\n",
       "      <td>Comcast not working and no service to boot</td>\n",
       "      <td>2015-05-26</td>\n",
       "      <td>2015-05-26</td>\n",
       "      <td>1:25:26 PM</td>\n",
       "      <td>Internet</td>\n",
       "      <td>Acworth</td>\n",
       "      <td>Georgia</td>\n",
       "      <td>30101</td>\n",
       "      <td>Solved</td>\n",
       "      <td>No</td>\n",
       "      <td>5</td>\n",
       "      <td>2015-05-26 13:25:26</td>\n",
       "    </tr>\n",
       "  </tbody>\n",
       "</table>\n",
       "</div>"
      ],
      "text/plain": [
       "                                                    Customer Complaint  \\\n",
       "date_index                                                               \n",
       "2015-04-22 15:53:50                      Comcast Cable Internet Speeds   \n",
       "2015-08-04 10:22:56       Payment disappear - service got disconnected   \n",
       "2015-04-18 09:55:47                                  Speed and Service   \n",
       "2015-07-05 11:59:35  Comcast Imposed a New Usage Cap of 300GB that ...   \n",
       "2015-05-26 13:25:26         Comcast not working and no service to boot   \n",
       "\n",
       "                          Date Date_month_year         Time  \\\n",
       "date_index                                                    \n",
       "2015-04-22 15:53:50 2015-04-22      2015-04-22   3:53:50 PM   \n",
       "2015-08-04 10:22:56 2015-04-08      2015-08-04  10:22:56 AM   \n",
       "2015-04-18 09:55:47 2015-04-18      2015-04-18   9:55:47 AM   \n",
       "2015-07-05 11:59:35 2015-05-07      2015-07-05  11:59:35 AM   \n",
       "2015-05-26 13:25:26 2015-05-26      2015-05-26   1:25:26 PM   \n",
       "\n",
       "                           Received Via      City     State Zip code  Status  \\\n",
       "date_index                                                                     \n",
       "2015-04-22 15:53:50  Customer Care Call  Abingdon  Maryland    21009  Closed   \n",
       "2015-08-04 10:22:56            Internet   Acworth   Georgia    30102  Closed   \n",
       "2015-04-18 09:55:47            Internet   Acworth   Georgia    30101  Closed   \n",
       "2015-07-05 11:59:35            Internet   Acworth   Georgia    30101    Open   \n",
       "2015-05-26 13:25:26            Internet   Acworth   Georgia    30101  Solved   \n",
       "\n",
       "                    Filing on Behalf of Someone  month          date_index  \n",
       "date_index                                                                  \n",
       "2015-04-22 15:53:50                          No      4 2015-04-22 15:53:50  \n",
       "2015-08-04 10:22:56                          No      4 2015-08-04 10:22:56  \n",
       "2015-04-18 09:55:47                         Yes      4 2015-04-18 09:55:47  \n",
       "2015-07-05 11:59:35                         Yes      5 2015-07-05 11:59:35  \n",
       "2015-05-26 13:25:26                          No      5 2015-05-26 13:25:26  "
      ]
     },
     "execution_count": 22,
     "metadata": {},
     "output_type": "execute_result"
    }
   ],
   "source": [
    "ctcc_df.head()"
   ]
  },
  {
   "cell_type": "markdown",
   "metadata": {},
   "source": [
    "# Exploratory Data Analysis and Visualization"
   ]
  },
  {
   "cell_type": "code",
   "execution_count": 23,
   "metadata": {},
   "outputs": [
    {
     "data": {
      "text/plain": [
       "2015-06-24    218\n",
       "2015-06-23    190\n",
       "2015-06-25     98\n",
       "2015-06-26     55\n",
       "2015-06-30     53\n",
       "             ... \n",
       "2015-05-10      7\n",
       "2015-05-24      7\n",
       "2015-04-05      6\n",
       "2015-04-11      5\n",
       "2015-05-03      5\n",
       "Name: Date, Length: 91, dtype: int64"
      ]
     },
     "execution_count": 23,
     "metadata": {},
     "output_type": "execute_result"
    }
   ],
   "source": [
    "ctcc_df1 = ctcc_df.Date.value_counts()\n",
    "\n",
    "\n",
    "ctcc_df1\n"
   ]
  },
  {
   "cell_type": "markdown",
   "metadata": {},
   "source": [
    "## Q2: Provide the trend chart for the number of complaints at monthly and daily granularity levels."
   ]
  },
  {
   "cell_type": "code",
   "execution_count": 24,
   "metadata": {},
   "outputs": [
    {
     "data": {
      "text/plain": [
       "date_index\n",
       "2015-01-04    18\n",
       "2015-01-05    12\n",
       "2015-01-06    25\n",
       "2015-01-07     0\n",
       "2015-01-08     0\n",
       "              ..\n",
       "2015-12-02     0\n",
       "2015-12-03     0\n",
       "2015-12-04    15\n",
       "2015-12-05     7\n",
       "2015-12-06    43\n",
       "Freq: D, Length: 337, dtype: int64"
      ]
     },
     "execution_count": 24,
     "metadata": {},
     "output_type": "execute_result"
    }
   ],
   "source": [
    "ctcc_df.groupby(pd.Grouper(freq=\"D\")).size()"
   ]
  },
  {
   "cell_type": "code",
   "execution_count": 25,
   "metadata": {},
   "outputs": [
    {
     "data": {
      "image/png": "[encoded data removed]",
      "text/plain": [
       "<Figure size 432x288 with 1 Axes>"
      ]
     },
     "metadata": {
      "needs_background": "light"
     },
     "output_type": "display_data"
    }
   ],
   "source": [
    "#ctcc_df.groupby(pd.Grouper(freq=\"D\")).size().plot()\n",
    "ax = ctcc_df.groupby(pd.Grouper(freq=\"D\")).size().plot(lw=2, colormap='jet', marker='.', markersize=10, title='')\n",
    "ax.set_xlabel(\"Days\", fontsize= 15)\n",
    "ax.set_ylabel(\"# Complaints\",fontsize= 15)\n",
    "\n",
    "matplotlib.rc('xtick', labelsize=7) \n",
    "matplotlib.rc('ytick', labelsize=7)\n"
   ]
  },
  {
   "cell_type": "markdown",
   "metadata": {},
   "source": [
    "### On June 24 th of 2015, there were maximum complaints of 218."
   ]
  },
  {
   "cell_type": "code",
   "execution_count": 26,
   "metadata": {},
   "outputs": [
    {
     "data": {
      "text/plain": [
       "date_index\n",
       "2015-01-31      55\n",
       "2015-02-28      59\n",
       "2015-03-31      45\n",
       "2015-04-30     375\n",
       "2015-05-31     317\n",
       "2015-06-30    1046\n",
       "2015-07-31      49\n",
       "2015-08-31      67\n",
       "2015-09-30      55\n",
       "2015-10-31      53\n",
       "2015-11-30      38\n",
       "2015-12-31      65\n",
       "Freq: M, dtype: int64"
      ]
     },
     "execution_count": 26,
     "metadata": {},
     "output_type": "execute_result"
    }
   ],
   "source": [
    "ctcc_df.groupby(pd.Grouper(freq=\"M\")).size()"
   ]
  },
  {
   "cell_type": "code",
   "execution_count": 27,
   "metadata": {},
   "outputs": [
    {
     "data": {
      "image/png": "[encoded data removed]",
      "text/plain": [
       "<Figure size 432x288 with 1 Axes>"
      ]
     },
     "metadata": {
      "needs_background": "light"
     },
     "output_type": "display_data"
    }
   ],
   "source": [
    "#ctcc_df.groupby(pd.Grouper(freq=\"M\")).size().plot()\n",
    "ax = ctcc_df.groupby(pd.Grouper(freq=\"M\")).size().plot(lw=2, colormap='jet', marker='.', markersize=10, title='')\n",
    "ax.set_xlabel(\"Months\", fontsize = 15)\n",
    "ax.set_ylabel(\"# Complaints\", fontsize = 15)\n",
    "matplotlib.rc('xtick', labelsize=15) \n",
    "matplotlib.rc('ytick', labelsize=15)"
   ]
  },
  {
   "cell_type": "markdown",
   "metadata": {},
   "source": [
    "## The maximum complaints were recieved in the month of June in 2015."
   ]
  },
  {
   "cell_type": "code",
   "execution_count": 28,
   "metadata": {},
   "outputs": [
    {
     "data": {
      "text/plain": [
       "2224"
      ]
     },
     "execution_count": 28,
     "metadata": {},
     "output_type": "execute_result"
    }
   ],
   "source": [
    "# How many rows are there in the dataset\n",
    "ctcc_df['Date'].count()"
   ]
  },
  {
   "cell_type": "code",
   "execution_count": 29,
   "metadata": {},
   "outputs": [
    {
     "data": {
      "text/plain": [
       "2015-06-24    218\n",
       "2015-06-23    190\n",
       "2015-06-25     98\n",
       "2015-06-26     55\n",
       "2015-06-30     53\n",
       "             ... \n",
       "2015-05-10      7\n",
       "2015-05-24      7\n",
       "2015-04-05      6\n",
       "2015-04-11      5\n",
       "2015-05-03      5\n",
       "Name: Date, Length: 91, dtype: int64"
      ]
     },
     "execution_count": 29,
     "metadata": {},
     "output_type": "execute_result"
    }
   ],
   "source": [
    "# How many entries are there for each date?\n",
    "ctcc_df['Date'].value_counts()"
   ]
  },
  {
   "cell_type": "markdown",
   "metadata": {},
   "source": [
    "## Q3- Create a new categorical variable with value as Open and Closed. Open & Pending is to be categorized as Open and Closed & Solved is to be categorized as Closed."
   ]
  },
  {
   "cell_type": "code",
   "execution_count": 30,
   "metadata": {},
   "outputs": [
    {
     "data": {
      "text/plain": [
       "array(['Closed', 'Open', 'Solved', 'Pending'], dtype=object)"
      ]
     },
     "execution_count": 30,
     "metadata": {},
     "output_type": "execute_result"
    }
   ],
   "source": [
    "ctcc_df.Status.unique()"
   ]
  },
  {
   "cell_type": "code",
   "execution_count": 31,
   "metadata": {},
   "outputs": [],
   "source": [
    "ctcc_df['Open_Closed'] = ctcc_df['Status'].apply(lambda x:'Open' if (x== 'Open' or x == 'Pending') else 'Closed')"
   ]
  },
  {
   "cell_type": "code",
   "execution_count": 32,
   "metadata": {},
   "outputs": [
    {
     "data": {
      "text/html": [
       "<div>\n",
       "<style scoped>\n",
       "    .dataframe tbody tr th:only-of-type {\n",
       "        vertical-align: middle;\n",
       "    }\n",
       "\n",
       "    .dataframe tbody tr th {\n",
       "        vertical-align: top;\n",
       "    }\n",
       "\n",
       "    .dataframe thead th {\n",
       "        text-align: right;\n",
       "    }\n",
       "</style>\n",
       "<table border=\"1\" class=\"dataframe\">\n",
       "  <thead>\n",
       "    <tr style=\"text-align: right;\">\n",
       "      <th></th>\n",
       "      <th>Customer Complaint</th>\n",
       "      <th>Date</th>\n",
       "      <th>Date_month_year</th>\n",
       "      <th>Time</th>\n",
       "      <th>Received Via</th>\n",
       "      <th>City</th>\n",
       "      <th>State</th>\n",
       "      <th>Zip code</th>\n",
       "      <th>Status</th>\n",
       "      <th>Filing on Behalf of Someone</th>\n",
       "      <th>month</th>\n",
       "      <th>date_index</th>\n",
       "      <th>Open_Closed</th>\n",
       "    </tr>\n",
       "    <tr>\n",
       "      <th>date_index</th>\n",
       "      <th></th>\n",
       "      <th></th>\n",
       "      <th></th>\n",
       "      <th></th>\n",
       "      <th></th>\n",
       "      <th></th>\n",
       "      <th></th>\n",
       "      <th></th>\n",
       "      <th></th>\n",
       "      <th></th>\n",
       "      <th></th>\n",
       "      <th></th>\n",
       "      <th></th>\n",
       "    </tr>\n",
       "  </thead>\n",
       "  <tbody>\n",
       "    <tr>\n",
       "      <th>2015-04-22 15:53:50</th>\n",
       "      <td>Comcast Cable Internet Speeds</td>\n",
       "      <td>2015-04-22</td>\n",
       "      <td>2015-04-22</td>\n",
       "      <td>3:53:50 PM</td>\n",
       "      <td>Customer Care Call</td>\n",
       "      <td>Abingdon</td>\n",
       "      <td>Maryland</td>\n",
       "      <td>21009</td>\n",
       "      <td>Closed</td>\n",
       "      <td>No</td>\n",
       "      <td>4</td>\n",
       "      <td>2015-04-22 15:53:50</td>\n",
       "      <td>Closed</td>\n",
       "    </tr>\n",
       "    <tr>\n",
       "      <th>2015-08-04 10:22:56</th>\n",
       "      <td>Payment disappear - service got disconnected</td>\n",
       "      <td>2015-04-08</td>\n",
       "      <td>2015-08-04</td>\n",
       "      <td>10:22:56 AM</td>\n",
       "      <td>Internet</td>\n",
       "      <td>Acworth</td>\n",
       "      <td>Georgia</td>\n",
       "      <td>30102</td>\n",
       "      <td>Closed</td>\n",
       "      <td>No</td>\n",
       "      <td>4</td>\n",
       "      <td>2015-08-04 10:22:56</td>\n",
       "      <td>Closed</td>\n",
       "    </tr>\n",
       "    <tr>\n",
       "      <th>2015-04-18 09:55:47</th>\n",
       "      <td>Speed and Service</td>\n",
       "      <td>2015-04-18</td>\n",
       "      <td>2015-04-18</td>\n",
       "      <td>9:55:47 AM</td>\n",
       "      <td>Internet</td>\n",
       "      <td>Acworth</td>\n",
       "      <td>Georgia</td>\n",
       "      <td>30101</td>\n",
       "      <td>Closed</td>\n",
       "      <td>Yes</td>\n",
       "      <td>4</td>\n",
       "      <td>2015-04-18 09:55:47</td>\n",
       "      <td>Closed</td>\n",
       "    </tr>\n",
       "    <tr>\n",
       "      <th>2015-07-05 11:59:35</th>\n",
       "      <td>Comcast Imposed a New Usage Cap of 300GB that ...</td>\n",
       "      <td>2015-05-07</td>\n",
       "      <td>2015-07-05</td>\n",
       "      <td>11:59:35 AM</td>\n",
       "      <td>Internet</td>\n",
       "      <td>Acworth</td>\n",
       "      <td>Georgia</td>\n",
       "      <td>30101</td>\n",
       "      <td>Open</td>\n",
       "      <td>Yes</td>\n",
       "      <td>5</td>\n",
       "      <td>2015-07-05 11:59:35</td>\n",
       "      <td>Open</td>\n",
       "    </tr>\n",
       "    <tr>\n",
       "      <th>2015-05-26 13:25:26</th>\n",
       "      <td>Comcast not working and no service to boot</td>\n",
       "      <td>2015-05-26</td>\n",
       "      <td>2015-05-26</td>\n",
       "      <td>1:25:26 PM</td>\n",
       "      <td>Internet</td>\n",
       "      <td>Acworth</td>\n",
       "      <td>Georgia</td>\n",
       "      <td>30101</td>\n",
       "      <td>Solved</td>\n",
       "      <td>No</td>\n",
       "      <td>5</td>\n",
       "      <td>2015-05-26 13:25:26</td>\n",
       "      <td>Closed</td>\n",
       "    </tr>\n",
       "  </tbody>\n",
       "</table>\n",
       "</div>"
      ],
      "text/plain": [
       "                                                    Customer Complaint  \\\n",
       "date_index                                                               \n",
       "2015-04-22 15:53:50                      Comcast Cable Internet Speeds   \n",
       "2015-08-04 10:22:56       Payment disappear - service got disconnected   \n",
       "2015-04-18 09:55:47                                  Speed and Service   \n",
       "2015-07-05 11:59:35  Comcast Imposed a New Usage Cap of 300GB that ...   \n",
       "2015-05-26 13:25:26         Comcast not working and no service to boot   \n",
       "\n",
       "                          Date Date_month_year         Time  \\\n",
       "date_index                                                    \n",
       "2015-04-22 15:53:50 2015-04-22      2015-04-22   3:53:50 PM   \n",
       "2015-08-04 10:22:56 2015-04-08      2015-08-04  10:22:56 AM   \n",
       "2015-04-18 09:55:47 2015-04-18      2015-04-18   9:55:47 AM   \n",
       "2015-07-05 11:59:35 2015-05-07      2015-07-05  11:59:35 AM   \n",
       "2015-05-26 13:25:26 2015-05-26      2015-05-26   1:25:26 PM   \n",
       "\n",
       "                           Received Via      City     State Zip code  Status  \\\n",
       "date_index                                                                     \n",
       "2015-04-22 15:53:50  Customer Care Call  Abingdon  Maryland    21009  Closed   \n",
       "2015-08-04 10:22:56            Internet   Acworth   Georgia    30102  Closed   \n",
       "2015-04-18 09:55:47            Internet   Acworth   Georgia    30101  Closed   \n",
       "2015-07-05 11:59:35            Internet   Acworth   Georgia    30101    Open   \n",
       "2015-05-26 13:25:26            Internet   Acworth   Georgia    30101  Solved   \n",
       "\n",
       "                    Filing on Behalf of Someone  month          date_index  \\\n",
       "date_index                                                                   \n",
       "2015-04-22 15:53:50                          No      4 2015-04-22 15:53:50   \n",
       "2015-08-04 10:22:56                          No      4 2015-08-04 10:22:56   \n",
       "2015-04-18 09:55:47                         Yes      4 2015-04-18 09:55:47   \n",
       "2015-07-05 11:59:35                         Yes      5 2015-07-05 11:59:35   \n",
       "2015-05-26 13:25:26                          No      5 2015-05-26 13:25:26   \n",
       "\n",
       "                    Open_Closed  \n",
       "date_index                       \n",
       "2015-04-22 15:53:50      Closed  \n",
       "2015-08-04 10:22:56      Closed  \n",
       "2015-04-18 09:55:47      Closed  \n",
       "2015-07-05 11:59:35        Open  \n",
       "2015-05-26 13:25:26      Closed  "
      ]
     },
     "execution_count": 32,
     "metadata": {},
     "output_type": "execute_result"
    }
   ],
   "source": [
    "ctcc_df.head()"
   ]
  },
  {
   "cell_type": "markdown",
   "metadata": {},
   "source": [
    "## Q4: Provide state wise status of complaints in a stacked bar chart. Use the categorized variable from Q3. Provide insights on:\n",
    "\n",
    "## Which state has the maximum complaints\n",
    "## Which state has the highest percentage of unresolved complaints"
   ]
  },
  {
   "cell_type": "code",
   "execution_count": 33,
   "metadata": {},
   "outputs": [
    {
     "data": {
      "text/plain": [
       "State          Open_Closed\n",
       "Alabama        Closed         17\n",
       "               Open            9\n",
       "Arizona        Closed         14\n",
       "               Open            6\n",
       "Arkansas       Closed          6\n",
       "                              ..\n",
       "Virginia       Open           11\n",
       "Washington     Closed         75\n",
       "               Open           23\n",
       "West Virginia  Closed          8\n",
       "               Open            3\n",
       "Name: Open_Closed, Length: 77, dtype: int64"
      ]
     },
     "execution_count": 33,
     "metadata": {},
     "output_type": "execute_result"
    }
   ],
   "source": [
    "#ctcc_df['Customer Complaint'].groupby(ctcc_df.month).count().plot(kind='bar',figsize=(22,6))\n",
    "ctcc_df.groupby(['State', 'Open_Closed'])['Open_Closed'].count()"
   ]
  },
  {
   "cell_type": "code",
   "execution_count": 34,
   "metadata": {},
   "outputs": [
    {
     "data": {
      "text/html": [
       "<div>\n",
       "<style scoped>\n",
       "    .dataframe tbody tr th:only-of-type {\n",
       "        vertical-align: middle;\n",
       "    }\n",
       "\n",
       "    .dataframe tbody tr th {\n",
       "        vertical-align: top;\n",
       "    }\n",
       "\n",
       "    .dataframe thead th {\n",
       "        text-align: right;\n",
       "    }\n",
       "</style>\n",
       "<table border=\"1\" class=\"dataframe\">\n",
       "  <thead>\n",
       "    <tr style=\"text-align: right;\">\n",
       "      <th></th>\n",
       "      <th>Date</th>\n",
       "    </tr>\n",
       "    <tr>\n",
       "      <th>State</th>\n",
       "      <th></th>\n",
       "    </tr>\n",
       "  </thead>\n",
       "  <tbody>\n",
       "    <tr>\n",
       "      <th>Georgia</th>\n",
       "      <td>288</td>\n",
       "    </tr>\n",
       "    <tr>\n",
       "      <th>Florida</th>\n",
       "      <td>240</td>\n",
       "    </tr>\n",
       "    <tr>\n",
       "      <th>California</th>\n",
       "      <td>220</td>\n",
       "    </tr>\n",
       "    <tr>\n",
       "      <th>Illinois</th>\n",
       "      <td>164</td>\n",
       "    </tr>\n",
       "    <tr>\n",
       "      <th>Tennessee</th>\n",
       "      <td>143</td>\n",
       "    </tr>\n",
       "  </tbody>\n",
       "</table>\n",
       "</div>"
      ],
      "text/plain": [
       "            Date\n",
       "State           \n",
       "Georgia      288\n",
       "Florida      240\n",
       "California   220\n",
       "Illinois     164\n",
       "Tennessee    143"
      ]
     },
     "execution_count": 34,
     "metadata": {},
     "output_type": "execute_result"
    }
   ],
   "source": [
    "statewise_ctccdf=ctcc_df[['Date', 'State']].groupby('State').count().sort_values(by='Date',ascending=False)\n",
    "statewise_ctccdf.head()"
   ]
  },
  {
   "cell_type": "markdown",
   "metadata": {},
   "source": [
    "### Georgia state has the maxium number of compliants"
   ]
  },
  {
   "cell_type": "code",
   "execution_count": 35,
   "metadata": {},
   "outputs": [
    {
     "data": {
      "text/html": [
       "<div>\n",
       "<style scoped>\n",
       "    .dataframe tbody tr th:only-of-type {\n",
       "        vertical-align: middle;\n",
       "    }\n",
       "\n",
       "    .dataframe tbody tr th {\n",
       "        vertical-align: top;\n",
       "    }\n",
       "\n",
       "    .dataframe thead th {\n",
       "        text-align: right;\n",
       "    }\n",
       "</style>\n",
       "<table border=\"1\" class=\"dataframe\">\n",
       "  <thead>\n",
       "    <tr style=\"text-align: right;\">\n",
       "      <th>Open_Closed</th>\n",
       "      <th>Closed</th>\n",
       "      <th>Open</th>\n",
       "    </tr>\n",
       "    <tr>\n",
       "      <th>State</th>\n",
       "      <th></th>\n",
       "      <th></th>\n",
       "    </tr>\n",
       "  </thead>\n",
       "  <tbody>\n",
       "    <tr>\n",
       "      <th>Alabama</th>\n",
       "      <td>17.0</td>\n",
       "      <td>9.0</td>\n",
       "    </tr>\n",
       "    <tr>\n",
       "      <th>Arizona</th>\n",
       "      <td>14.0</td>\n",
       "      <td>6.0</td>\n",
       "    </tr>\n",
       "  </tbody>\n",
       "</table>\n",
       "</div>"
      ],
      "text/plain": [
       "Open_Closed  Closed  Open\n",
       "State                    \n",
       "Alabama        17.0   9.0\n",
       "Arizona        14.0   6.0"
      ]
     },
     "execution_count": 35,
     "metadata": {},
     "output_type": "execute_result"
    }
   ],
   "source": [
    "Statewise_solving_rate=ctcc_df.groupby(['State','Open_Closed'])['Open_Closed'].count().unstack().fillna(0)\n",
    "Statewise_solving_rate=pd.DataFrame(Statewise_solving_rate)\n",
    "Statewise_solving_rate.head(2)\n"
   ]
  },
  {
   "cell_type": "code",
   "execution_count": 36,
   "metadata": {},
   "outputs": [
    {
     "data": {
      "text/html": [
       "<div>\n",
       "<style scoped>\n",
       "    .dataframe tbody tr th:only-of-type {\n",
       "        vertical-align: middle;\n",
       "    }\n",
       "\n",
       "    .dataframe tbody tr th {\n",
       "        vertical-align: top;\n",
       "    }\n",
       "\n",
       "    .dataframe thead th {\n",
       "        text-align: right;\n",
       "    }\n",
       "</style>\n",
       "<table border=\"1\" class=\"dataframe\">\n",
       "  <thead>\n",
       "    <tr style=\"text-align: right;\">\n",
       "      <th>Open_Closed</th>\n",
       "      <th>Closed</th>\n",
       "      <th>Open</th>\n",
       "      <th>unresolved complaint percent</th>\n",
       "    </tr>\n",
       "    <tr>\n",
       "      <th>State</th>\n",
       "      <th></th>\n",
       "      <th></th>\n",
       "      <th></th>\n",
       "    </tr>\n",
       "  </thead>\n",
       "  <tbody>\n",
       "    <tr>\n",
       "      <th>Alabama</th>\n",
       "      <td>17.0</td>\n",
       "      <td>9.0</td>\n",
       "      <td>52.941176</td>\n",
       "    </tr>\n",
       "    <tr>\n",
       "      <th>Arizona</th>\n",
       "      <td>14.0</td>\n",
       "      <td>6.0</td>\n",
       "      <td>42.857143</td>\n",
       "    </tr>\n",
       "    <tr>\n",
       "      <th>Arkansas</th>\n",
       "      <td>6.0</td>\n",
       "      <td>0.0</td>\n",
       "      <td>0.000000</td>\n",
       "    </tr>\n",
       "    <tr>\n",
       "      <th>California</th>\n",
       "      <td>159.0</td>\n",
       "      <td>61.0</td>\n",
       "      <td>38.364780</td>\n",
       "    </tr>\n",
       "    <tr>\n",
       "      <th>Colorado</th>\n",
       "      <td>58.0</td>\n",
       "      <td>22.0</td>\n",
       "      <td>37.931034</td>\n",
       "    </tr>\n",
       "  </tbody>\n",
       "</table>\n",
       "</div>"
      ],
      "text/plain": [
       "Open_Closed  Closed  Open  unresolved complaint percent\n",
       "State                                                  \n",
       "Alabama        17.0   9.0                     52.941176\n",
       "Arizona        14.0   6.0                     42.857143\n",
       "Arkansas        6.0   0.0                      0.000000\n",
       "California    159.0  61.0                     38.364780\n",
       "Colorado       58.0  22.0                     37.931034"
      ]
     },
     "execution_count": 36,
     "metadata": {},
     "output_type": "execute_result"
    }
   ],
   "source": [
    "Statewise_solving_rate['unresolved complaint percent']=(Statewise_solving_rate['Open']/Statewise_solving_rate['Closed']*100)\n",
    "Statewise_solving_rate.head(5)"
   ]
  },
  {
   "cell_type": "code",
   "execution_count": 37,
   "metadata": {},
   "outputs": [
    {
     "data": {
      "text/plain": [
       "Text(0, 0.5, 'States')"
      ]
     },
     "execution_count": 37,
     "metadata": {},
     "output_type": "execute_result"
    },
    {
     "data": {
      "image/png": "[encoded data removed]",
      "text/plain": [
       "<Figure size 2160x3600 with 1 Axes>"
      ]
     },
     "metadata": {
      "needs_background": "light"
     },
     "output_type": "display_data"
    }
   ],
   "source": [
    "#Statewise_solving_rate.plot(kind='bar',stacked=True,figsize=(15,4))\n",
    "ax1 = Statewise_solving_rate.plot(kind='barh',stacked=True,figsize=(30,50))\n",
    "matplotlib.rc('xtick', labelsize=30) \n",
    "matplotlib.rc('ytick', labelsize=30)\n",
    "plt.legend(title = \"Complaint Status\", fontsize=25, title_fontsize= 40) # using a size in points plt.legend()\n",
    "\n",
    "ax1.set_xlabel(\"Solving Rate(%)\", fontsize= 40)\n",
    "ax1.set_ylabel(\"States\",fontsize= 40)"
   ]
  },
  {
   "cell_type": "markdown",
   "metadata": {},
   "source": [
    "### Kansas with 1 out of 1 complaint not solved has 100% unresolved complaint, followed by Kentucky with 75% unresolved complaints."
   ]
  },
  {
   "cell_type": "markdown",
   "metadata": {},
   "source": [
    "Status_complaints.plot(kind=\"barh\", figsize=(30,50), stacked=True)\n",
    "Statewise_solving_rate.plot(kind='barh',stacked=True,figsize=(15,4))"
   ]
  },
  {
   "cell_type": "markdown",
   "metadata": {},
   "source": [
    "## Q5: Provide the percentage of complaints resolved till date, which were received through the Internet and customer care calls."
   ]
  },
  {
   "cell_type": "code",
   "execution_count": 38,
   "metadata": {},
   "outputs": [
    {
     "data": {
      "text/html": [
       "<div>\n",
       "<style scoped>\n",
       "    .dataframe tbody tr th:only-of-type {\n",
       "        vertical-align: middle;\n",
       "    }\n",
       "\n",
       "    .dataframe tbody tr th {\n",
       "        vertical-align: top;\n",
       "    }\n",
       "\n",
       "    .dataframe thead th {\n",
       "        text-align: right;\n",
       "    }\n",
       "</style>\n",
       "<table border=\"1\" class=\"dataframe\">\n",
       "  <thead>\n",
       "    <tr style=\"text-align: right;\">\n",
       "      <th>Open_Closed</th>\n",
       "      <th>Closed</th>\n",
       "      <th>Open</th>\n",
       "    </tr>\n",
       "    <tr>\n",
       "      <th>Received Via</th>\n",
       "      <th></th>\n",
       "      <th></th>\n",
       "    </tr>\n",
       "  </thead>\n",
       "  <tbody>\n",
       "    <tr>\n",
       "      <th>Customer Care Call</th>\n",
       "      <td>864</td>\n",
       "      <td>255</td>\n",
       "    </tr>\n",
       "    <tr>\n",
       "      <th>Internet</th>\n",
       "      <td>843</td>\n",
       "      <td>262</td>\n",
       "    </tr>\n",
       "  </tbody>\n",
       "</table>\n",
       "</div>"
      ],
      "text/plain": [
       "Open_Closed         Closed  Open\n",
       "Received Via                    \n",
       "Customer Care Call     864   255\n",
       "Internet               843   262"
      ]
     },
     "execution_count": 38,
     "metadata": {},
     "output_type": "execute_result"
    }
   ],
   "source": [
    "Resolved_by_Recieved = ctcc_df.groupby(['Received Via','Open_Closed'])['Received Via'].count().unstack()\n",
    "Resolved_by_Recieved"
   ]
  },
  {
   "cell_type": "code",
   "execution_count": 39,
   "metadata": {},
   "outputs": [
    {
     "data": {
      "text/plain": [
       "Closed    1707\n",
       "Open       517\n",
       "Name: Open_Closed, dtype: int64"
      ]
     },
     "execution_count": 39,
     "metadata": {},
     "output_type": "execute_result"
    }
   ],
   "source": [
    "compl = ctcc_df['Open_Closed'].value_counts()\n",
    "compl"
   ]
  },
  {
   "cell_type": "code",
   "execution_count": 40,
   "metadata": {},
   "outputs": [
    {
     "data": {
      "text/plain": [
       "2224"
      ]
     },
     "execution_count": 40,
     "metadata": {},
     "output_type": "execute_result"
    }
   ],
   "source": [
    "totalcomplaint=len(ctcc_df)\n",
    "totalcomplaint"
   ]
  },
  {
   "cell_type": "code",
   "execution_count": 41,
   "metadata": {},
   "outputs": [],
   "source": [
    "Resolved_by_Recieved.loc['Grand  colTotal', :] = Resolved_by_Recieved.sum()"
   ]
  },
  {
   "cell_type": "code",
   "execution_count": 42,
   "metadata": {},
   "outputs": [
    {
     "data": {
      "text/html": [
       "<div>\n",
       "<style scoped>\n",
       "    .dataframe tbody tr th:only-of-type {\n",
       "        vertical-align: middle;\n",
       "    }\n",
       "\n",
       "    .dataframe tbody tr th {\n",
       "        vertical-align: top;\n",
       "    }\n",
       "\n",
       "    .dataframe thead th {\n",
       "        text-align: right;\n",
       "    }\n",
       "</style>\n",
       "<table border=\"1\" class=\"dataframe\">\n",
       "  <thead>\n",
       "    <tr style=\"text-align: right;\">\n",
       "      <th>Open_Closed</th>\n",
       "      <th>Closed</th>\n",
       "      <th>Open</th>\n",
       "    </tr>\n",
       "    <tr>\n",
       "      <th>Received Via</th>\n",
       "      <th></th>\n",
       "      <th></th>\n",
       "    </tr>\n",
       "  </thead>\n",
       "  <tbody>\n",
       "    <tr>\n",
       "      <th>Customer Care Call</th>\n",
       "      <td>864.0</td>\n",
       "      <td>255.0</td>\n",
       "    </tr>\n",
       "    <tr>\n",
       "      <th>Internet</th>\n",
       "      <td>843.0</td>\n",
       "      <td>262.0</td>\n",
       "    </tr>\n",
       "    <tr>\n",
       "      <th>Grand  colTotal</th>\n",
       "      <td>1707.0</td>\n",
       "      <td>517.0</td>\n",
       "    </tr>\n",
       "  </tbody>\n",
       "</table>\n",
       "</div>"
      ],
      "text/plain": [
       "Open_Closed         Closed   Open\n",
       "Received Via                     \n",
       "Customer Care Call   864.0  255.0\n",
       "Internet             843.0  262.0\n",
       "Grand  colTotal     1707.0  517.0"
      ]
     },
     "execution_count": 42,
     "metadata": {},
     "output_type": "execute_result"
    }
   ],
   "source": [
    "Resolved_by_Recieved"
   ]
  },
  {
   "cell_type": "code",
   "execution_count": 43,
   "metadata": {},
   "outputs": [],
   "source": [
    "Resolved_by_Recieved['Grand rowTotal'] = Resolved_by_Recieved.sum(axis=1)"
   ]
  },
  {
   "cell_type": "code",
   "execution_count": 44,
   "metadata": {},
   "outputs": [
    {
     "data": {
      "text/html": [
       "<div>\n",
       "<style scoped>\n",
       "    .dataframe tbody tr th:only-of-type {\n",
       "        vertical-align: middle;\n",
       "    }\n",
       "\n",
       "    .dataframe tbody tr th {\n",
       "        vertical-align: top;\n",
       "    }\n",
       "\n",
       "    .dataframe thead th {\n",
       "        text-align: right;\n",
       "    }\n",
       "</style>\n",
       "<table border=\"1\" class=\"dataframe\">\n",
       "  <thead>\n",
       "    <tr style=\"text-align: right;\">\n",
       "      <th>Open_Closed</th>\n",
       "      <th>Closed</th>\n",
       "      <th>Open</th>\n",
       "      <th>Grand rowTotal</th>\n",
       "    </tr>\n",
       "    <tr>\n",
       "      <th>Received Via</th>\n",
       "      <th></th>\n",
       "      <th></th>\n",
       "      <th></th>\n",
       "    </tr>\n",
       "  </thead>\n",
       "  <tbody>\n",
       "    <tr>\n",
       "      <th>Customer Care Call</th>\n",
       "      <td>864.0</td>\n",
       "      <td>255.0</td>\n",
       "      <td>1119.0</td>\n",
       "    </tr>\n",
       "    <tr>\n",
       "      <th>Internet</th>\n",
       "      <td>843.0</td>\n",
       "      <td>262.0</td>\n",
       "      <td>1105.0</td>\n",
       "    </tr>\n",
       "    <tr>\n",
       "      <th>Grand  colTotal</th>\n",
       "      <td>1707.0</td>\n",
       "      <td>517.0</td>\n",
       "      <td>2224.0</td>\n",
       "    </tr>\n",
       "  </tbody>\n",
       "</table>\n",
       "</div>"
      ],
      "text/plain": [
       "Open_Closed         Closed   Open  Grand rowTotal\n",
       "Received Via                                     \n",
       "Customer Care Call   864.0  255.0          1119.0\n",
       "Internet             843.0  262.0          1105.0\n",
       "Grand  colTotal     1707.0  517.0          2224.0"
      ]
     },
     "execution_count": 44,
     "metadata": {},
     "output_type": "execute_result"
    }
   ],
   "source": [
    "Resolved_by_Recieved"
   ]
  },
  {
   "cell_type": "code",
   "execution_count": 45,
   "metadata": {},
   "outputs": [
    {
     "data": {
      "text/html": [
       "<div>\n",
       "<style scoped>\n",
       "    .dataframe tbody tr th:only-of-type {\n",
       "        vertical-align: middle;\n",
       "    }\n",
       "\n",
       "    .dataframe tbody tr th {\n",
       "        vertical-align: top;\n",
       "    }\n",
       "\n",
       "    .dataframe thead th {\n",
       "        text-align: right;\n",
       "    }\n",
       "</style>\n",
       "<table border=\"1\" class=\"dataframe\">\n",
       "  <thead>\n",
       "    <tr style=\"text-align: right;\">\n",
       "      <th>Open_Closed</th>\n",
       "      <th>Closed</th>\n",
       "      <th>Open</th>\n",
       "      <th>Grand rowTotal</th>\n",
       "      <th>Percent_Resolved</th>\n",
       "    </tr>\n",
       "    <tr>\n",
       "      <th>Received Via</th>\n",
       "      <th></th>\n",
       "      <th></th>\n",
       "      <th></th>\n",
       "      <th></th>\n",
       "    </tr>\n",
       "  </thead>\n",
       "  <tbody>\n",
       "    <tr>\n",
       "      <th>Customer Care Call</th>\n",
       "      <td>864.0</td>\n",
       "      <td>255.0</td>\n",
       "      <td>1119.0</td>\n",
       "      <td>77.211796</td>\n",
       "    </tr>\n",
       "    <tr>\n",
       "      <th>Internet</th>\n",
       "      <td>843.0</td>\n",
       "      <td>262.0</td>\n",
       "      <td>1105.0</td>\n",
       "      <td>76.289593</td>\n",
       "    </tr>\n",
       "    <tr>\n",
       "      <th>Grand  colTotal</th>\n",
       "      <td>1707.0</td>\n",
       "      <td>517.0</td>\n",
       "      <td>2224.0</td>\n",
       "      <td>76.753597</td>\n",
       "    </tr>\n",
       "  </tbody>\n",
       "</table>\n",
       "</div>"
      ],
      "text/plain": [
       "Open_Closed         Closed   Open  Grand rowTotal  Percent_Resolved\n",
       "Received Via                                                       \n",
       "Customer Care Call   864.0  255.0          1119.0         77.211796\n",
       "Internet             843.0  262.0          1105.0         76.289593\n",
       "Grand  colTotal     1707.0  517.0          2224.0         76.753597"
      ]
     },
     "execution_count": 45,
     "metadata": {},
     "output_type": "execute_result"
    }
   ],
   "source": [
    "Resolved_by_Recieved['Percent_Resolved'] = 100* Resolved_by_Recieved['Closed']/Resolved_by_Recieved['Grand rowTotal']\n",
    "Resolved_by_Recieved"
   ]
  },
  {
   "cell_type": "markdown",
   "metadata": {},
   "source": [
    "### The percentage of complaints resolved till date, received through the Internet and customer care calls, are 76.29 and 77.21, and the overlall percentage of complaints resolved across these two groups are 76.75."
   ]
  },
  {
   "cell_type": "markdown",
   "metadata": {},
   "source": [
    " "
   ]
  },
  {
   "cell_type": "markdown",
   "metadata": {},
   "source": [
    "## Q2: Provide a table with the frequency of complaint types.\n",
    "\n",
    "## Which complaint types are maximum i.e., around internet, network issues, or across any other domains."
   ]
  },
  {
   "cell_type": "code",
   "execution_count": 46,
   "metadata": {},
   "outputs": [
    {
     "name": "stderr",
     "output_type": "stream",
     "text": [
      "[nltk_data] Downloading package stopwords to\n",
      "[nltk_data]     C:\\Users\\Byju\\AppData\\Roaming\\nltk_data...\n",
      "[nltk_data]   Unzipping corpora\\stopwords.zip.\n",
      "[nltk_data] Downloading package wordnet to\n",
      "[nltk_data]     C:\\Users\\Byju\\AppData\\Roaming\\nltk_data...\n",
      "[nltk_data]   Unzipping corpora\\wordnet.zip.\n"
     ]
    }
   ],
   "source": [
    "# nlp in python - nltk\n",
    "import nltk\n",
    "# download the stopwords\n",
    "nltk.download('stopwords')\n",
    "# import the stopwords\n",
    "nltk.download('wordnet')\n",
    "from nltk.corpus import stopwords\n",
    "# import the lemmatizer\n",
    "from nltk.stem.wordnet import WordNetLemmatizer\n",
    "import string"
   ]
  },
  {
   "cell_type": "code",
   "execution_count": 47,
   "metadata": {},
   "outputs": [],
   "source": [
    "stop = set(stopwords.words('english'))\n",
    "exclude = set(string.punctuation)\n",
    "lemma = WordNetLemmatizer()\n",
    "\n",
    "# stemming - removal of suffixes\n",
    "\n",
    "from nltk.stem.porter import PorterStemmer\n",
    "ps=PorterStemmer()\n",
    "\n",
    "def clean_text(text):\n",
    "    stop_free = \" \".join([i for i in text.lower().split() if i not in stop])\n",
    "    punc_free = \"\".join([ch for ch in stop_free if ch not in exclude])\n",
    "    normalised = \" \".join(lemma.lemmatize(word) for word in punc_free.split())\n",
    "    word_stem = \" \".join([ps.stem(i) for i in normalised.split()])\n",
    "    #\" \".join([st.stem(i) for i in sentence.split()])\n",
    "    #return normalised\n",
    "    return word_stem\n",
    "   \n"
   ]
  },
  {
   "cell_type": "code",
   "execution_count": 48,
   "metadata": {},
   "outputs": [],
   "source": [
    "text_complete = ctcc_df[\"Customer Complaint\"].tolist()\n",
    "text_clean = [clean_text(text).split() for text in text_complete]\n",
    "#text_clean"
   ]
  },
  {
   "cell_type": "code",
   "execution_count": 49,
   "metadata": {},
   "outputs": [
    {
     "data": {
      "text/plain": [
       "list"
      ]
     },
     "execution_count": 49,
     "metadata": {},
     "output_type": "execute_result"
    }
   ],
   "source": [
    "type(text_clean)"
   ]
  },
  {
   "cell_type": "code",
   "execution_count": 50,
   "metadata": {},
   "outputs": [
    {
     "data": {
      "text/plain": [
       "[['comcast', 'cabl', 'internet', 'speed'],\n",
       " ['payment', 'disappear', 'servic', 'got', 'disconnect'],\n",
       " ['speed', 'servic'],\n",
       " ['comcast', 'impos', 'new', 'usag', 'cap', '300gb', 'punish', 'stream'],\n",
       " ['comcast', 'work', 'servic', 'boot']]"
      ]
     },
     "execution_count": 50,
     "metadata": {},
     "output_type": "execute_result"
    }
   ],
   "source": [
    "text_clean[:5]"
   ]
  },
  {
   "cell_type": "code",
   "execution_count": 51,
   "metadata": {},
   "outputs": [
    {
     "data": {
      "text/plain": [
       "[['servic', 'avail'],\n",
       " ['comcast', 'monthli', 'bill', 'return', 'modem'],\n",
       " ['complaint', 'comcast'],\n",
       " ['extrem', 'unsatisfi', 'comcast', 'custom'],\n",
       " ['comcast', 'ypsilanti', 'mi', 'internet', 'speed']]"
      ]
     },
     "execution_count": 51,
     "metadata": {},
     "output_type": "execute_result"
    }
   ],
   "source": [
    "#length of the list\n",
    "len(text_clean)\n",
    "#last five elements of the list \n",
    "text_clean[-5:] "
   ]
  },
  {
   "cell_type": "code",
   "execution_count": 52,
   "metadata": {},
   "outputs": [
    {
     "data": {
      "text/plain": [
       "[('comcast', 1200),\n",
       " ('internet', 517),\n",
       " ('servic', 496),\n",
       " ('bill', 361),\n",
       " ('data', 219),\n",
       " ('speed', 187),\n",
       " ('cap', 185),\n",
       " ('charg', 146),\n",
       " ('issu', 121),\n",
       " ('price', 99)]"
      ]
     },
     "execution_count": 52,
     "metadata": {},
     "output_type": "execute_result"
    }
   ],
   "source": [
    "from collections import Counter\n",
    "\n",
    "words = text_clean\n",
    "counter = Counter(words[0])\n",
    "for i in words[1:]: \n",
    "    counter.update(i)\n",
    "\n",
    "#counter.most_common()\n",
    "counter.most_common(10)"
   ]
  },
  {
   "cell_type": "markdown",
   "metadata": {},
   "source": [
    "## The complaint types are maximum around internet, followed by network issues."
   ]
  },
  {
   "cell_type": "code",
   "execution_count": 53,
   "metadata": {},
   "outputs": [],
   "source": [
    "## Ignore the below code. Attempts to find solution using countvectorizer method did not succeed. Need help to understand the issue."
   ]
  },
  {
   "cell_type": "code",
   "execution_count": 54,
   "metadata": {},
   "outputs": [],
   "source": [
    "from sklearn.feature_extraction.text import CountVectorizer, TfidfVectorizer # # convert a collection of documents into tokens\n",
    "# convert the text into a bag of words object so that we can enumerate the features\n",
    "\n",
    "import re\n",
    "re.compile('<title>(.*)</title>')\n",
    "\n",
    "#Function to preprocess the text so that the numbers are removed form the list\n",
    "def preprocess_text(text):\n",
    "    text = text.lower()\n",
    "    text = re.sub(r'\\d+', '', text)\n",
    "    return text\n",
    "\n",
    "\n",
    "\n",
    "CountVec = CountVectorizer(preprocessor=preprocess_text, ngram_range=(1,2), stop_words='english') \n",
    "#CountVec = CountVectorizer(ngram_range=(1,1), stop_words='english') \n",
    "# For example an ngram_range of (1, 1) means only unigrams, (1, 2) means unigrams and bigrams, and (2, 2) means only bigrams\n",
    "#transform\n",
    "Count_data = CountVec.fit_transform(ctcc_df[\"Customer Complaint\"])\n",
    "\n",
    "\n",
    "Count_data\n",
    "#create dataframe\n",
    "cv_dataframe=pd.DataFrame(Count_data.toarray(),columns=CountVec.get_feature_names())\n",
    "#print(cv_dataframe)\n",
    "\n",
    "\n",
    "#bag_of_words_transform =CountVectorizer(ngram_range=(1,1),analyzer=clean_text)\n",
    "#ctcc_bow=bag_of_words_transform.fit_transform(ctcc_df[\"Customer Complaint\"])"
   ]
  },
  {
   "cell_type": "code",
   "execution_count": 55,
   "metadata": {},
   "outputs": [
    {
     "data": {
      "text/plain": [
       "['able',\n",
       " 'able access',\n",
       " 'able use',\n",
       " 'abuse',\n",
       " 'abuses',\n",
       " 'abysmal',\n",
       " 'abysmal customer',\n",
       " 'acceptable',\n",
       " 'acceptable internet',\n",
       " 'access',\n",
       " 'access data',\n",
       " 'access email',\n",
       " 'access hbo',\n",
       " 'access internet',\n",
       " 'access issues',\n",
       " 'access onlinebilling',\n",
       " 'access playstation',\n",
       " 'access recently',\n",
       " 'access right',\n",
       " 'access service',\n",
       " 'access sony',\n",
       " 'access speeds',\n",
       " 'accidentally',\n",
       " 'accidentally comcast',\n",
       " 'according',\n",
       " 'according initial',\n",
       " 'account',\n",
       " 'account closed',\n",
       " 'account comcast',\n",
       " 'account info',\n",
       " 'account information',\n",
       " 'account issues',\n",
       " 'account party',\n",
       " 'account pay',\n",
       " 'account plan',\n",
       " 'account reason',\n",
       " 'account removed',\n",
       " 'account supposed',\n",
       " 'accounts',\n",
       " 'accourt',\n",
       " 'accurate',\n",
       " 'accurate information',\n",
       " 'accusing',\n",
       " 'accusing people',\n",
       " 'acess',\n",
       " 'activation',\n",
       " 'activation kit',\n",
       " 'actually',\n",
       " 'actually used',\n",
       " 'ad']"
      ]
     },
     "execution_count": 55,
     "metadata": {},
     "output_type": "execute_result"
    }
   ],
   "source": [
    "# get the feature names\n",
    "veclist=CountVec.get_feature_names()\n",
    "veclist[:50]"
   ]
  },
  {
   "cell_type": "code",
   "execution_count": 56,
   "metadata": {},
   "outputs": [
    {
     "name": "stdout",
     "output_type": "stream",
     "text": [
      "[('able', 1)]\n"
     ]
    }
   ],
   "source": [
    "from collections import Counter\n",
    "word_counts = Counter(veclist)\n",
    "top_four = word_counts.most_common(1)\n",
    "print(top_four)\n",
    "\n"
   ]
  },
  {
   "cell_type": "code",
   "execution_count": 57,
   "metadata": {},
   "outputs": [
    {
     "data": {
      "text/plain": [
       "(2224, 13)"
      ]
     },
     "execution_count": 57,
     "metadata": {},
     "output_type": "execute_result"
    }
   ],
   "source": [
    "ctcc_df.shape"
   ]
  },
  {
   "cell_type": "code",
   "execution_count": null,
   "metadata": {},
   "outputs": [],
   "source": []
  }
 ],
 "metadata": {
  "kernelspec": {
   "display_name": "Python 3",
   "language": "python",
   "name": "python3"
  },
  "language_info": {
   "codemirror_mode": {
    "name": "ipython",
    "version": 3
   },
   "file_extension": ".py",
   "mimetype": "text/x-python",
   "name": "python",
   "nbconvert_exporter": "python",
   "pygments_lexer": "ipython3",
   "version": "3.8.8"
  }
 },
 "nbformat": 4,
 "nbformat_minor": 4
}

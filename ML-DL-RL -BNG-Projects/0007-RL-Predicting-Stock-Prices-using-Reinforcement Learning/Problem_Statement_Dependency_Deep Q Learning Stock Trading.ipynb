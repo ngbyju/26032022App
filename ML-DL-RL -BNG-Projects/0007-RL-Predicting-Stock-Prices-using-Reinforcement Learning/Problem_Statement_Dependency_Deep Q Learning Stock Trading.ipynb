{
 "cells": [
  {
   "cell_type": "markdown",
   "metadata": {
    "colab_type": "text",
    "id": "fgy74k3DDaf_"
   },
   "source": [
    "#**Stock Trading Using Deep Q-Learning**\n"
   ]
  },
  {
   "cell_type": "markdown",
   "metadata": {
    "colab_type": "text",
    "id": "LW3MPB3pDndR"
   },
   "source": [
    "## **Problem Statement**"
   ]
  },
  {
   "cell_type": "markdown",
   "metadata": {
    "colab_type": "text",
    "id": "FeOMTczqDqdZ"
   },
   "source": [
    "Prepare an agent by implementing Deep Q-Learning that can perform unsupervised trading in stock trade. The aim of this project is to train an agent that uses Q-learning and neural networks to predict the profit or loss by building a model and implementing it on a dataset that is available for evaluation.\n",
    "\n",
    "\n",
    "The stock trading index environment provides the agent with a set of actions:<br>\n",
    "* Buy<br>\n",
    "* Sell<br>\n",
    "* Sit\n",
    "\n",
    "This project has following sections:\n",
    "* Import libraries \n",
    "* Create a DQN agent\n",
    "* Preprocess the data\n",
    "* Train and build the model\n",
    "* Evaluate the model and agent\n",
    "<br><br>\n",
    "\n",
    "**Steps to perform**<br>\n",
    "\n",
    "In the section **create a DQN agent**, create a class called agent where:\n",
    "* Action size is defined as 3\n",
    "* Experience replay memory to deque is 1000\n",
    "* Empty list for stocks that has already been bought\n",
    "* The agent must possess the following hyperparameters:<br>\n",
    "  * gamma= 0.95<br>\n",
    "  * epsilon = 1.0<br>\n",
    "  * epsilon_final = 0.01<br>\n",
    "  * epsilon_decay = 0.995<br>\n",
    "\n",
    "\n",
    "    Note: It is advised to compare the results using different values in hyperparameters.\n",
    "\n",
    "* Neural network has 3 hidden layers\n",
    "* Action and experience replay are defined\n",
    "\n",
    "\n"
   ]
  },
  {
   "cell_type": "markdown",
   "metadata": {
    "colab_type": "text",
    "id": "Lu4reAtsL5EZ"
   },
   "source": [
    "## **Solution**"
   ]
  },
  {
   "cell_type": "markdown",
   "metadata": {
    "colab_type": "text",
    "id": "WBgbvVTRDXpe"
   },
   "source": [
    "### **Import the libraries** "
   ]
  },
  {
   "cell_type": "code",
   "execution_count": 1,
   "metadata": {
    "colab": {},
    "colab_type": "code",
    "id": "zt5QkvOCri3W"
   },
   "outputs": [
    {
     "name": "stdout",
     "output_type": "stream",
     "text": [
      "2.7.0\n"
     ]
    }
   ],
   "source": [
    "import warnings\n",
    "warnings.filterwarnings(\"ignore\")\n",
    "\n",
    "import tensorflow as tf\n",
    "from tensorflow import keras\n",
    "from tensorflow.keras.models import Sequential\n",
    "from tensorflow.keras.models import load_model\n",
    "from tensorflow.keras.layers import Dense\n",
    "from tensorflow.keras.optimizers import Adam\n",
    "import numpy as np\n",
    "import random\n",
    "from collections import deque\n",
    "import matplotlib.pyplot as plt\n",
    "\n",
    "print(tf.__version__)"
   ]
  },
  {
   "cell_type": "code",
   "execution_count": 2,
   "metadata": {},
   "outputs": [],
   "source": [
    "import logging\n",
    "import os\n",
    "\n",
    "os.environ['TF_CPP_MIN_LOG_LEVEL'] = '3'  # FATAL\n",
    "logging.getLogger('tensorflow').setLevel(logging.FATAL)"
   ]
  },
  {
   "cell_type": "markdown",
   "metadata": {
    "colab_type": "text",
    "id": "behdrRbIDXpj"
   },
   "source": [
    "### **Create a DQN agent**"
   ]
  },
  {
   "cell_type": "markdown",
   "metadata": {
    "colab_type": "text",
    "id": "vrJH6vRmNZQw"
   },
   "source": [
    "**Use the instruction below to prepare an agent**\n"
   ]
  },
  {
   "cell_type": "code",
   "execution_count": 3,
   "metadata": {
    "colab": {},
    "colab_type": "code",
    "id": "w7uHLPJWtNmm"
   },
   "outputs": [],
   "source": [
    "# Action space include 3 actions: Buy, Sell, and Sit\n",
    "#Setting up the experience replay memory to deque with 1000 elements inside it\n",
    "#Empty list with inventory is created that contains the stocks that were already bought\n",
    "#Setting up gamma to 0.95, that helps to maximize the current reward over the long-term\n",
    "#Epsilon parameter determines whether to use a random action or to use the model for the action. \n",
    "#In the beginning random actions are encouraged, hence epsilon is set up to 1.0 when the model is not trained.\n",
    "#And over time the epsilon is reduced to 0.01 in order to decrease the random actions and use the trained model\n",
    "#We're then set the speed of decreasing epsililon in the epsilon_decay parameter\n",
    "\n",
    "#Defining our neural network:\n",
    "#Define the neural network function called _model and it just takes the keyword self\n",
    "#Define the model with Sequential()\n",
    "#Define states i.e. the previous n days and stock prices of the days\n",
    "#Defining 3 hidden layers in this network\n",
    "#Changing the activation function to relu because mean-squared error is used for the loss\n",
    "\n",
    "#window_size is the state_size\n",
    "\n",
    "class Agent(): \n",
    "    def __init__(self, window_size, is_eval=False, model_name=\"\"):\n",
    "        self.nS = window_size  # normalized previous days\n",
    "        self.nA = 3\n",
    "        #self.state_size = state_size # normalized previous days\n",
    "        #self.action_size = 3 # sit, buy, sell\n",
    "        self.memory = deque([], maxlen=1000)\n",
    "        #self.inventory = []\n",
    "        self.alpha = 0.001\n",
    "        self.window_size = window_size\n",
    "        self.gamma = 0.95\n",
    "        #Explore/Exploit\n",
    "        self.epsilon = 1\n",
    "        self.epsilon_min = 0.01\n",
    "        self.epsilon_decay = 0.995\n",
    "        self.loss = []  \n",
    "        self.is_eval = is_eval\n",
    "        self.model = load_model(model_name) if self.is_eval else self.build_model()\n",
    "        self.memory  = deque([],maxlen = 1000)\n",
    "        \n",
    "    def build_model(self):\n",
    "        model = Sequential()\n",
    "        model.add(keras.layers.Dense(24, input_dim=self.nS, activation='relu'))\n",
    "        #   Dense: Densely connected layer https://keras.io/layers/core/\n",
    "        #   24: Number of neurons\n",
    "        #   input_dim: Number of input variables\n",
    "        #   activation: Rectified Linear Unit (relu) ranges >= 0\n",
    "        model.add(keras.layers.Dense(24, activation='relu')) #Layer 2 -> 3\n",
    "        model.add(keras.layers.Dense(self.nA, activation='linear')) #Layer 3 -> [output]\n",
    "        #   Size has to match the output (different actions)\n",
    "        #   Linear activation on the last layer\n",
    "        model.compile(loss='mean_squared_error', #Loss function: Mean Squared Error\n",
    "                      optimizer=keras.optimizers.Adam(lr=self.alpha)) #Optimaizer: Adam (Feel free to check other options)\n",
    "        return model\n",
    "    \n",
    "    def act(self, state):#act\n",
    "        if np.random.rand() <= self.epsilon:\n",
    "            return random.randrange(3) #Explore\n",
    "        action_vals = self.model.predict(state) #Exploit: Use the NN to predict the correct action from this state\n",
    "        return np.argmax(action_vals[0])\n",
    "    \n",
    "    def test_action(self, state): #Exploit\n",
    "        action_vals = self.model.predict(state)\n",
    "        return np.argmax(action_vals[0])\n",
    "\n",
    "    def store(self, state, action, reward, nstate, done):\n",
    "        #Store the experience in memory\n",
    "        self.memory.append((state, action, reward, nstate, done))\n",
    "    \n",
    "    def expReplay(self, batch_size):\n",
    "        #Execute the experience replay\n",
    "        minibatch = random.sample( self.memory, batch_size ) #Randomly sample from memory\n",
    "\n",
    "        #Convert to numpy for speed by vectorization\n",
    "        x = []\n",
    "        y = []\n",
    "        np_array = np.array(minibatch)\n",
    "        st = np.zeros((0,self.nS)) #States\n",
    "        nst = np.zeros( (0,self.nS) )#Next States\n",
    "        for i in range(len(np_array)): #Creating the state and next state np arrays\n",
    "            st = np.append( st, np_array[i,0], axis=0)\n",
    "            nst = np.append( nst, np_array[i,3], axis=0)\n",
    "        st_predict = self.model.predict(st) #Here is the speedup! I can predict on the ENTIRE batch\n",
    "        nst_predict = self.model.predict(nst)\n",
    "        index = 0\n",
    "        for state, action, reward, nstate, done in minibatch:\n",
    "            x.append(state)\n",
    "            #Predict from state\n",
    "            nst_action_predict_model = nst_predict[index]\n",
    "            if done == True: #Terminal: Just assign reward much like {* (not done) - QB[state][action]}\n",
    "                target = reward\n",
    "            else:   #Non terminal\n",
    "                target = reward + self.gamma * np.amax(nst_action_predict_model)\n",
    "            target_f = st_predict[index]\n",
    "            target_f[action] = target\n",
    "            y.append(target_f)\n",
    "            index += 1\n",
    "        #Reshape for Keras Fit\n",
    "        x_reshape = np.array(x).reshape(batch_size,self.nS)\n",
    "        y_reshape = np.array(y)\n",
    "        epoch_count = 1 #Epochs is the number or iterations\n",
    "        hist = self.model.fit(x_reshape, y_reshape, epochs=epoch_count, verbose=0)\n",
    "        #Graph Losses\n",
    "        for i in range(epoch_count):\n",
    "            self.loss.append( hist.history['loss'][i] )\n",
    "        #Decay Epsilon\n",
    "        if self.epsilon > self.epsilon_min:\n",
    "            self.epsilon *= self.epsilon_decay\n"
   ]
  },
  {
   "cell_type": "markdown",
   "metadata": {
    "colab_type": "text",
    "id": "-nRItH8mDXpm"
   },
   "source": [
    "### **Preprocess the stock market data**"
   ]
  },
  {
   "cell_type": "code",
   "execution_count": 4,
   "metadata": {
    "colab": {},
    "colab_type": "code",
    "id": "e3NGhJubtfet"
   },
   "outputs": [],
   "source": [
    "import math\n",
    "\n",
    "# prints formatted price\n",
    "def formatPrice(n):\n",
    "\treturn (\"-$\" if n < 0 else \"$\") + \"{0:.2f}\".format(abs(n))\n",
    "\n",
    "# returns the vector containing stock data from a fixed file\n",
    "def getStockDataVec(key):\n",
    "\tvec = []\n",
    "\tlines = open(\"\" + key + \".csv\", \"r\").read().splitlines()\n",
    "\n",
    "\tfor line in lines[1:]:\n",
    "\t\tvec.append(float(line.split(\",\")[4]))\n",
    "\n",
    "\treturn vec\n",
    "\n",
    "# returns the sigmoid\n",
    "def sigmoid(x):\n",
    "\treturn 1 / (1 + math.exp(-x))\n",
    "\n",
    "# returns an an n-day state representation ending at time t\n",
    "def getState(data, t, n):\n",
    "\td = t - n + 1\n",
    "\tblock = data[d:t + 1] if d >= 0 else -d * [data[0]] + data[0:t + 1] # pad with t0\n",
    "\tres = []\n",
    "\tfor i in range(n - 1):\n",
    "\t\tres.append(sigmoid(block[i + 1] - block[i]))\n",
    "\n",
    "\treturn np.array([res])\n"
   ]
  },
  {
   "cell_type": "markdown",
   "metadata": {
    "colab_type": "text",
    "id": "b9oHyPgfDXpp"
   },
   "source": [
    "### **Train and build the model**"
   ]
  },
  {
   "cell_type": "code",
   "execution_count": 5,
   "metadata": {
    "colab": {},
    "colab_type": "code",
    "id": "fCqJzkeJtp3n",
    "scrolled": false
   },
   "outputs": [
    {
     "name": "stdout",
     "output_type": "stream",
     "text": [
      "Usage: python train.py [stock] [window] [episodes]\n",
      "Enter stock_name, window_size, Episode_countGSPC_Training_Dataset\n",
      "10\n",
      "10\n",
      "Episode 0/10\n",
      "--------------------------------\n",
      "----- Episode: 0 -----\n",
      "Total Profit: $2474.11\n",
      "--------------------------------\n",
      "Episode 1/10\n",
      "--------------------------------\n",
      "----- Episode: 1 -----\n",
      "Total Profit: $566.55\n",
      "--------------------------------\n",
      "Episode 2/10\n",
      "--------------------------------\n",
      "----- Episode: 2 -----\n",
      "Total Profit: $539.75\n",
      "--------------------------------\n",
      "Episode 3/10\n",
      "--------------------------------\n",
      "----- Episode: 3 -----\n",
      "Total Profit: $660.34\n",
      "--------------------------------\n",
      "Episode 4/10\n",
      "--------------------------------\n",
      "----- Episode: 4 -----\n",
      "Total Profit: $1487.27\n",
      "--------------------------------\n",
      "Episode 5/10\n",
      "--------------------------------\n",
      "----- Episode: 5 -----\n",
      "Total Profit: $1319.43\n",
      "--------------------------------\n",
      "Episode 6/10\n",
      "--------------------------------\n",
      "----- Episode: 6 -----\n",
      "Total Profit: $1329.54\n",
      "--------------------------------\n",
      "Episode 7/10\n",
      "--------------------------------\n",
      "----- Episode: 7 -----\n",
      "Total Profit: $1160.58\n",
      "--------------------------------\n",
      "Episode 8/10\n",
      "--------------------------------\n",
      "----- Episode: 8 -----\n",
      "Total Profit: $2186.52\n",
      "--------------------------------\n",
      "Episode 9/10\n",
      "--------------------------------\n",
      "----- Episode: 9 -----\n",
      "Total Profit: $1162.16\n",
      "--------------------------------\n",
      "Episode 10/10\n",
      "--------------------------------\n",
      "----- Episode: 10 -----\n",
      "Total Profit: $1578.91\n",
      "--------------------------------\n"
     ]
    }
   ],
   "source": [
    "import sys\n",
    "\n",
    "if len(sys.argv) != 4:\n",
    "\tprint (\"Usage: python train.py [stock] [window] [episodes]\")\n",
    "\texit()\n",
    "\n",
    "\n",
    "stock_name = input(\"Enter stock_name, window_size, Episode_count\")\n",
    "#Fill the given information when prompted: \n",
    "#Enter stock_name = GSPC_Training_Dataset\n",
    "#window_size = 10\n",
    "#Episode_count = 100 or it can be 10 or 20 or 30 and so on.\n",
    "\n",
    "window_size = input()\n",
    "episode_count = input()\n",
    "stock_name = str(stock_name)\n",
    "window_size = int(window_size)\n",
    "episode_count = int(episode_count)\n",
    "\n",
    "agent = Agent(window_size)\n",
    "data = getStockDataVec(stock_name)\n",
    "l = len(data) - 1\n",
    "batch_size = 32\n",
    "\n",
    "for e in range(episode_count + 1):\n",
    "\tprint (\"Episode \" + str(e) + \"/\" + str(episode_count))\n",
    "\tstate = getState(data, 0, window_size + 1)\n",
    "\n",
    "\ttotal_profit = 0\n",
    "\tagent.inventory = []\n",
    "\n",
    "\tfor t in range(l):\n",
    "\t\taction = agent.act(state)\n",
    "\n",
    "\t\t# sit\n",
    "\t\tnext_state = getState(data, t + 1, window_size + 1)\n",
    "\t\treward = 0\n",
    "\n",
    "\t\tif action == 1: # buy\n",
    "\t\t\tagent.inventory.append(data[t])\n",
    "#commented below print statement  \n",
    "#\t\t\tprint (\"Buy: \" + formatPrice(data[t]))\n",
    "\n",
    "\t\telif action == 2 and len(agent.inventory) > 0: # sell\n",
    "\t\t\tbought_price = agent.inventory.pop(0)\n",
    "\t\t\treward = max(data[t] - bought_price, 0)\n",
    "\t\t\ttotal_profit += data[t] - bought_price\n",
    "#commented below print statement            \n",
    "#\t\t\tprint (\"Sell: \" + formatPrice(data[t]) + \" | Profit: \" + formatPrice(data[t] - bought_price))\n",
    "\n",
    "\t\tdone = True if t == l - 1 else False\n",
    "\t\tagent.memory.append((state, action, reward, next_state, done))\n",
    "\t\tstate = next_state\n",
    "\n",
    "\t\tif done:\n",
    "\t\t\tprint (\"--------------------------------\")\n",
    "#adde below print statement  on Episode \n",
    "\t\t\tprint (\"----- Episode: {} -----\".format(e))\n",
    "\t\t\tprint (\"Total Profit: \" + formatPrice(total_profit))\n",
    "\t\t\tprint (\"--------------------------------\")\n",
    "            \n",
    "\t\tif len(agent.memory) > batch_size:\n",
    "\t\t\tagent.expReplay(batch_size)\n",
    "            \n",
    "#uncommented below if statement\n",
    "\tif e % 10 == 0:\n",
    "\t\tagent.model.save(\"model_ep\" + str(e))"
   ]
  },
  {
   "cell_type": "markdown",
   "metadata": {
    "colab_type": "text",
    "id": "UcXCrJUSDXpr"
   },
   "source": [
    "### **Evaluate the model and agent**"
   ]
  },
  {
   "cell_type": "code",
   "execution_count": 1,
   "metadata": {
    "colab": {},
    "colab_type": "code",
    "id": "lmZUVXe5t95k"
   },
   "outputs": [
    {
     "name": "stdout",
     "output_type": "stream",
     "text": [
      "Enter Stock_name, Model_nameGSPC_Training_Dataset\n",
      "model_ep0\n"
     ]
    },
    {
     "ename": "NameError",
     "evalue": "name 'Agent' is not defined",
     "output_type": "error",
     "traceback": [
      "\u001b[1;31m---------------------------------------------------------------------------\u001b[0m",
      "\u001b[1;31mNameError\u001b[0m                                 Traceback (most recent call last)",
      "\u001b[1;32m<ipython-input-1-3a507421ce32>\u001b[0m in \u001b[0;36m<module>\u001b[1;34m\u001b[0m\n\u001b[0;32m     18\u001b[0m \u001b[0mwindow_size\u001b[0m \u001b[1;33m=\u001b[0m \u001b[0mmodel\u001b[0m\u001b[1;33m.\u001b[0m\u001b[0mlayers\u001b[0m\u001b[1;33m[\u001b[0m\u001b[1;36m0\u001b[0m\u001b[1;33m]\u001b[0m\u001b[1;33m.\u001b[0m\u001b[0minput\u001b[0m\u001b[1;33m.\u001b[0m\u001b[0mshape\u001b[0m\u001b[1;33m.\u001b[0m\u001b[0mas_list\u001b[0m\u001b[1;33m(\u001b[0m\u001b[1;33m)\u001b[0m\u001b[1;33m[\u001b[0m\u001b[1;36m1\u001b[0m\u001b[1;33m]\u001b[0m\u001b[1;33m\u001b[0m\u001b[1;33m\u001b[0m\u001b[0m\n\u001b[0;32m     19\u001b[0m \u001b[1;33m\u001b[0m\u001b[0m\n\u001b[1;32m---> 20\u001b[1;33m \u001b[0magent\u001b[0m \u001b[1;33m=\u001b[0m \u001b[0mAgent\u001b[0m\u001b[1;33m(\u001b[0m\u001b[0mwindow_size\u001b[0m\u001b[1;33m,\u001b[0m \u001b[1;32mTrue\u001b[0m\u001b[1;33m,\u001b[0m \u001b[0mmodel_name\u001b[0m\u001b[1;33m)\u001b[0m\u001b[1;33m\u001b[0m\u001b[1;33m\u001b[0m\u001b[0m\n\u001b[0m\u001b[0;32m     21\u001b[0m \u001b[0mdata\u001b[0m \u001b[1;33m=\u001b[0m \u001b[0mgetStockDataVec\u001b[0m\u001b[1;33m(\u001b[0m\u001b[0mstock_name\u001b[0m\u001b[1;33m)\u001b[0m\u001b[1;33m\u001b[0m\u001b[1;33m\u001b[0m\u001b[0m\n\u001b[0;32m     22\u001b[0m \u001b[0ml\u001b[0m \u001b[1;33m=\u001b[0m \u001b[0mlen\u001b[0m\u001b[1;33m(\u001b[0m\u001b[0mdata\u001b[0m\u001b[1;33m)\u001b[0m \u001b[1;33m-\u001b[0m \u001b[1;36m1\u001b[0m\u001b[1;33m\u001b[0m\u001b[1;33m\u001b[0m\u001b[0m\n",
      "\u001b[1;31mNameError\u001b[0m: name 'Agent' is not defined"
     ]
    }
   ],
   "source": [
    "import sys\n",
    "from keras.models import load_model\n",
    "\n",
    "\n",
    "if len(sys.argv) != 3:\n",
    "\tprint (\"Usage: python evaluate.py [stock] [model]\")\n",
    "\texit()\n",
    "\n",
    "\n",
    "stock_name = input(\"Enter Stock_name, Model_name\")\n",
    "model_name = input()\n",
    "#Note: \n",
    "#Fill the given information when prompted: \n",
    "#Enter stock_name = GSPC_Evaluation_Dataset\n",
    "#Model_name = respective model name\n",
    "model = load_model(model_name)\n",
    "#model = load_model(\"\" + model_name)\n",
    "window_size = model.layers[0].input.shape.as_list()[1]\n",
    "\n",
    "agent = Agent(window_size, True, model_name)\n",
    "data = getStockDataVec(stock_name)\n",
    "l = len(data) - 1\n",
    "batch_size = 32\n",
    "\n",
    "state = getState(data, 0, window_size + 1)\n",
    "total_profit = 0\n",
    "agent.inventory = []\n",
    "\n",
    "for t in range(l):\n",
    "\taction = agent.act(state)\n",
    "\n",
    "\t# sit\n",
    "\tnext_state = getState(data, t + 1, window_size + 1)\n",
    "\treward = 0\n",
    "\n",
    "\tif action == 1: # buy\n",
    "\t\tagent.inventory.append(data[t])\n",
    "\t\tprint (\"Buy: \" + formatPrice(data[t]))\n",
    "\n",
    "\telif action == 2 and len(agent.inventory) > 0: # sell\n",
    "\t\tbought_price = agent.inventory.pop(0)\n",
    "\t\treward = max(data[t] - bought_price, 0)\n",
    "\t\ttotal_profit += data[t] - bought_price\n",
    "\t\tprint (\"Sell: \" + formatPrice(data[t]) + \" | Profit: \" + formatPrice(data[t] - bought_price))\n",
    "\n",
    "\tdone = True if t == l - 1 else False\n",
    "\tagent.memory.append((state, action, reward, next_state, done))\n",
    "\tstate = next_state\n",
    "\n",
    "\tif done:\n",
    "\t\tprint (\"--------------------------------\")\n",
    "\t\tprint (stock_name + \" Total Profit: \" + formatPrice(total_profit))\n",
    "\n"
   ]
  },
  {
   "cell_type": "markdown",
   "metadata": {
    "colab_type": "text",
    "id": "aIolgCRWSM-9"
   },
   "source": [
    "**Note: Run the training section for considerable episodes so that while evaluating the model it can generate significant profit.** \n"
   ]
  }
 ],
 "metadata": {
  "colab": {
   "collapsed_sections": [],
   "name": "Problem_Statement_Dependency_Deep Q Learning Stock Trading_CEP_2.ipynb",
   "private_outputs": true,
   "provenance": []
  },
  "kernelspec": {
   "display_name": "Python 3",
   "language": "python",
   "name": "python3"
  },
  "language_info": {
   "codemirror_mode": {
    "name": "ipython",
    "version": 3
   },
   "file_extension": ".py",
   "mimetype": "text/x-python",
   "name": "python",
   "nbconvert_exporter": "python",
   "pygments_lexer": "ipython3",
   "version": "3.8.8"
  }
 },
 "nbformat": 4,
 "nbformat_minor": 1
}

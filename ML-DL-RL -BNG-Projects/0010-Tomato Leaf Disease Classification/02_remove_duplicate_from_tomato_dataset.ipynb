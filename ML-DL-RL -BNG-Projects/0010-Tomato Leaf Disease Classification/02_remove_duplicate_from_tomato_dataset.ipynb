{
 "cells": [
  {
   "cell_type": "markdown",
   "metadata": {},
   "source": [
    "<img src=\"../../images/course-banner.png\">"
   ]
  },
  {
   "cell_type": "code",
   "execution_count": 1,
   "metadata": {},
   "outputs": [],
   "source": [
    "# USAGE\n",
    "# python detect_and_remove.py --dataset dataset\n",
    "# python detect_and_remove.py --dataset dataset --remove 1\n",
    "\n",
    "# import the necessary packages\n",
    "from imutils import paths\n",
    "import numpy as np\n",
    "import argparse\n",
    "import cv2\n",
    "import os"
   ]
  },
  {
   "cell_type": "code",
   "execution_count": 2,
   "metadata": {},
   "outputs": [],
   "source": [
    "last_index=30"
   ]
  },
  {
   "cell_type": "code",
   "execution_count": 3,
   "metadata": {},
   "outputs": [],
   "source": [
    "def dhash(image, hashSize=8):\n",
    "    # convert the image to grayscale and resize the grayscale image,\n",
    "    # adding a single column (width) so we can compute the horizontal\n",
    "    # gradient\n",
    "    gray = cv2.cvtColor(image, cv2.COLOR_BGR2GRAY)\n",
    "    resized = cv2.resize(gray, (hashSize + 1, hashSize))\n",
    "\n",
    "    # compute the (relative) horizontal gradient between adjacent\n",
    "    # column pixels\n",
    "    diff = resized[:, 1:] > resized[:, :-1]\n",
    "\n",
    "    # convert the difference image to a hash and return it\n",
    "    return sum([2 ** i for (i, v) in enumerate(diff.flatten()) if v])"
   ]
  },
  {
   "cell_type": "code",
   "execution_count": 4,
   "metadata": {},
   "outputs": [],
   "source": [
    "#DATASET_PATH='/Users/akoubaa/Desktop/udemy-deep-learning-in-practice/02-[intermediate]-car-classification/dataset'\n",
    "DATASET_PATH=\"C:/Users/Byju/Dropbox/1. BNGPersonal/0. MLDatasets/TLDarchive2/tomato2/All_data\""
   ]
  },
  {
   "cell_type": "code",
   "execution_count": 5,
   "metadata": {},
   "outputs": [
    {
     "name": "stdout",
     "output_type": "stream",
     "text": [
      "[INFO] computing image hashes...\n"
     ]
    }
   ],
   "source": [
    "\n",
    "# grab the paths to all images in our input dataset directory and\n",
    "# then initialize our hashes dictionary\n",
    "print(\"[INFO] computing image hashes...\")\n",
    "imagePaths = list(paths.list_images(DATASET_PATH))\n",
    "hashes = {}"
   ]
  },
  {
   "cell_type": "code",
   "execution_count": 6,
   "metadata": {},
   "outputs": [
    {
     "data": {
      "text/plain": [
       "10984"
      ]
     },
     "execution_count": 6,
     "metadata": {},
     "output_type": "execute_result"
    }
   ],
   "source": [
    "len(imagePaths)"
   ]
  },
  {
   "cell_type": "code",
   "execution_count": null,
   "metadata": {},
   "outputs": [],
   "source": [
    "# loop over our image paths\n",
    "for imagePath in imagePaths:\n",
    "    # load the input image and compute the hash\n",
    "    image = cv2.imread(imagePath)\n",
    "    #print(imagePath)\n",
    "    h = dhash(image)\n",
    "\n",
    "    # grab all image paths with that hash, add the current image\n",
    "    # path to it, and store the list back in the hashes dictionary\n",
    "    p = hashes.get(h, [])\n",
    "    p.append(imagePath)\n",
    "    hashes[h] = p"
   ]
  },
  {
   "cell_type": "code",
   "execution_count": null,
   "metadata": {},
   "outputs": [],
   "source": [
    "count=0\n",
    "\n",
    "for (h, hashedPaths) in hashes.items():\n",
    "    if (len(hashedPaths)>1):\n",
    "        count=count+1\n",
    "        print(hashedPaths[0].split('/')[-1][0:last_index]+\" | \", hashedPaths[1].split('/')[-1][0:last_index])\n",
    "print(len(hashes.items()))"
   ]
  },
  {
   "cell_type": "code",
   "execution_count": null,
   "metadata": {},
   "outputs": [],
   "source": [
    "remove=True\n",
    "#loop over the image hashes\n",
    "for (h, hashedPaths) in hashes.items():\n",
    "    # check to see if there is more than one image with the same hash\n",
    "    if len(hashedPaths) > 1:\n",
    "        # check to see if this is a dry run\n",
    "        if remove == False:\n",
    "            # initialize a montage to store all images with the same\n",
    "            # hash\n",
    "            montage = None\n",
    "\n",
    "            # loop over all image paths with the same hash\n",
    "            for p in hashedPaths:\n",
    "                # load the input image and resize it to a fixed width\n",
    "                # and height\n",
    "                image = cv2.imread(p)\n",
    "                image = cv2.resize(image, (150, 150))\n",
    "                \n",
    "                # if our montage is None, initialize it\n",
    "                if montage is None:\n",
    "                    montage = image\n",
    "\n",
    "                # otherwise, horizontally stack the images\n",
    "                else:\n",
    "                    montage = np.hstack([montage, image])\n",
    "\n",
    "            # show the montage for the hash\n",
    "            print(\"[INFO] hash: {}\".format(h))\n",
    "            cv2.imshow(\"Montage\", montage)\n",
    "            cv2.waitKey(0)\n",
    "\n",
    "        # otherwise, we'll be removing the duplicate images\n",
    "        else:\n",
    "            # loop over all image paths with the same hash *except*\n",
    "            # for the first image in the list (since we want to keep\n",
    "            # one, and only one, of the duplicate images)\n",
    "            for p in hashedPaths[1:]:\n",
    "                print(hashedPaths[0].split('/')[-1]+\" | \", hashedPaths[1].split('/')[-1])\n",
    "                #if (hashedPaths[0].split('/')[-1][0:last_index]==hashedPaths[1].split('/')[-1][0:last_index]):\n",
    "                print(\"remove: \"+p)\n",
    "                os.remove(p)"
   ]
  },
  {
   "cell_type": "code",
   "execution_count": null,
   "metadata": {},
   "outputs": [],
   "source": []
  },
  {
   "cell_type": "code",
   "execution_count": null,
   "metadata": {},
   "outputs": [],
   "source": []
  },
  {
   "cell_type": "code",
   "execution_count": null,
   "metadata": {},
   "outputs": [],
   "source": []
  }
 ],
 "metadata": {
  "kernelspec": {
   "display_name": "Python 3",
   "language": "python",
   "name": "python3"
  },
  "language_info": {
   "codemirror_mode": {
    "name": "ipython",
    "version": 3
   },
   "file_extension": ".py",
   "mimetype": "text/x-python",
   "name": "python",
   "nbconvert_exporter": "python",
   "pygments_lexer": "ipython3",
   "version": "3.8.8"
  }
 },
 "nbformat": 4,
 "nbformat_minor": 4
}

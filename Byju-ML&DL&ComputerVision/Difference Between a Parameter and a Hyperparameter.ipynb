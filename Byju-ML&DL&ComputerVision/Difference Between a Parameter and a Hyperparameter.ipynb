{
 "cells": [
  {
   "cell_type": "markdown",
   "id": "937ba337",
   "metadata": {},
   "source": [
    "# What is the Difference Between a Parameter and a Hyperparameter?\n"
   ]
  },
  {
   "cell_type": "markdown",
   "id": "b38f7b2c",
   "metadata": {},
   "source": [
    "# What is a Model Parameter?"
   ]
  },
  {
   "cell_type": "code",
   "execution_count": null,
   "id": "64bce8c3",
   "metadata": {},
   "outputs": [],
   "source": [
    "\n",
    "A model parameter is a configuration variable that is internal to the model and whose value can be estimated from data.\n",
    "\n",
    "They are required by the model when making predictions.\n",
    "They values define the skill of the model on your problem.\n",
    "They are estimated or learned from data.\n",
    "They are often not set manually by the practitioner.\n",
    "They are often saved as part of the learned model.\n",
    "\n",
    "Parameters are key to machine learning algorithms. They are the part of the model that is learned from historical training data.\n"
   ]
  },
  {
   "cell_type": "raw",
   "id": "edc6488c",
   "metadata": {},
   "source": [
    "\n",
    "In classical machine learning literature, we may think of the model as the hypothesis and the parameters as the tailoring of the hypothesis to a specific set of data.\n",
    "\n",
    "Often model parameters are estimated using an optimization algorithm, which is a type of efficient search through possible parameter values.\n",
    "\n",
    "Statistics: In statistics, you may assume a distribution for a variable, such as a Gaussian distribution. Two parameters of the Gaussian distribution are the mean (mu) and the standard deviation (sigma). This holds in machine learning, where these parameters may be estimated from data and used as part of a predictive model.\n",
    "Programming: In programming, you may pass a parameter to a function. In this case, a parameter is a function argument that could have one of a range of values. In machine learning, the specific model you are using is the function and requires parameters in order to make a prediction on new data.\n",
    "Whether a model has a fixed or variable number of parameters determines whether it may be referred to as “parametric” or “nonparametric“.\n",
    "\n"
   ]
  },
  {
   "cell_type": "code",
   "execution_count": null,
   "id": "9c5d32b0",
   "metadata": {},
   "outputs": [],
   "source": [
    "Some examples of model parameters include:\n",
    "\n",
    "The weights in an artificial neural network.\n",
    "The support vectors in a support vector machine.\n",
    "The coefficients in a linear regression or logistic regression.\n"
   ]
  },
  {
   "cell_type": "markdown",
   "id": "56065f3f",
   "metadata": {},
   "source": [
    "# What is a Model Hyperparameter?"
   ]
  },
  {
   "cell_type": "raw",
   "id": "f6f75f96",
   "metadata": {},
   "source": [
    "A model hyperparameter is a configuration that is external to the model and whose value cannot be estimated from data.\n",
    "\n",
    "They are often used in processes to help estimate model parameters.\n",
    "They are often specified by the practitioner.\n",
    "They can often be set using heuristics.\n",
    "They are often tuned for a given predictive modeling problem.\n",
    "\n",
    "We cannot know the best value for a model hyperparameter on a given problem. We may use rules of thumb, copy values used on other problems, or search for the best value by trial and error.\n",
    "\n"
   ]
  },
  {
   "cell_type": "raw",
   "id": "3e1bff3f",
   "metadata": {},
   "source": [
    "When a machine learning algorithm is tuned for a specific problem, such as when you are using a grid search or a random search, then you are tuning the hyperparameters of the model or order to discover the parameters of the model that result in the most skillful predictions.\n",
    "\n",
    "Many models have important parameters which cannot be directly estimated from the data. For example, in the K-nearest neighbor classification model … This type of model parameter is referred to as a tuning parameter because there is no analytical formula available to calculate an appropriate value.\n",
    "\n",
    "— Page 64-65, Applied Predictive Modeling, 2013\n",
    "\n",
    "Model hyperparameters are often referred to as model parameters which can make things confusing. A good rule of thumb to overcome this confusion is as follows:\n",
    "\n",
    "If you have to specify a model parameter manually then it is probably a model hyperparameter.\n"
   ]
  },
  {
   "cell_type": "code",
   "execution_count": null,
   "id": "8b80ca21",
   "metadata": {},
   "outputs": [],
   "source": [
    "Some examples of model hyperparameters include:\n",
    "\n",
    "The learning rate for training a neural network.\n",
    "The C and sigma hyperparameters for support vector machines.\n",
    "The k in k-nearest neighbors.\n"
   ]
  }
 ],
 "metadata": {
  "kernelspec": {
   "display_name": "Python 3",
   "language": "python",
   "name": "python3"
  },
  "language_info": {
   "codemirror_mode": {
    "name": "ipython",
    "version": 3
   },
   "file_extension": ".py",
   "mimetype": "text/x-python",
   "name": "python",
   "nbconvert_exporter": "python",
   "pygments_lexer": "ipython3",
   "version": "3.8.8"
  }
 },
 "nbformat": 4,
 "nbformat_minor": 5
}

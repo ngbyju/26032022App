{
 "cells": [
  {
   "cell_type": "markdown",
   "id": "25d98bb9",
   "metadata": {},
   "source": [
    "# How To Compare Machine Learning Algorithms in Python with scikit-learn\n",
    "https://machinelearningmastery.com/compare-machine-learning-algorithms-python-scikit-learn/"
   ]
  },
  {
   "cell_type": "raw",
   "id": "b44cdd4c",
   "metadata": {},
   "source": [
    "It is important to compare the performance of multiple different machine learning algorithms consistently.\n",
    "\n",
    "In this post you will discover how you can create a test harness to compare multiple different machine learning algorithms in Python with scikit-learn.\n",
    "\n",
    "You can use this test harness as a template on your own machine learning problems and add more and different algorithms to compare."
   ]
  },
  {
   "cell_type": "raw",
   "id": "82acddb0",
   "metadata": {},
   "source": [
    "Choose The Best Machine Learning Model\n",
    "How do you choose the best model for your problem?\n",
    "\n",
    "When you work on a machine learning project, you often end up with multiple good models to choose from. Each model will have different performance characteristics.\n",
    "\n",
    "Using resampling methods like cross validation, you can get an estimate for how accurate each model may be on unseen data. You need to be able to use these estimates to choose one or two best models from the suite of models that you have created.\n",
    "\n",
    "Compare Machine Learning Models Carefully\n",
    "When you have a new dataset, it is a good idea to visualize the data using different techniques in order to look at the data from different perspectives.\n",
    "\n",
    "The same idea applies to model selection. You should use a number of different ways of looking at the estimated accuracy of your machine learning algorithms in order to choose the one or two to finalize.\n",
    "\n",
    "A way to do this is to use different visualization methods to show the average accuracy, variance and other properties of the distribution of model accuracies.\n",
    "\n",
    "In the next section you will discover exactly how you can do that in Python with scikit-learn.\n",
    "\n"
   ]
  },
  {
   "cell_type": "raw",
   "id": "960c5a94",
   "metadata": {},
   "source": [
    "Compare Machine Learning Algorithms Consistently\n",
    "The key to a fair comparison of machine learning algorithms is ensuring that each algorithm is evaluated in the same way on the same data.\n",
    "\n",
    "You can achieve this by forcing each algorithm to be evaluated on a consistent test harness.\n",
    "\n",
    "In the example below 6 different algorithms are compared:\n",
    "\n",
    "Logistic Regression\n",
    "Linear Discriminant Analysis\n",
    "K-Nearest Neighbors\n",
    "Classification and Regression Trees\n",
    "Naive Bayes\n",
    "Support Vector Machines\n",
    "The problem is a standard binary classification dataset called the Pima Indians onset of diabetes problem. The problem has two classes and eight numeric input variables of varying scales.\n",
    "\n",
    "You can learn more about the dataset here:\n",
    "\n",
    "Dataset File.\n",
    "Dataset Details\n",
    "The 10-fold cross validation procedure is used to evaluate each algorithm, importantly configured with the same random seed to ensure that the same splits to the training data are performed and that each algorithms is evaluated in precisely the same way.\n",
    "\n",
    "Each algorithm is given a short name, useful for summarizing results afterward."
   ]
  },
  {
   "cell_type": "code",
   "execution_count": 7,
   "id": "820262ea",
   "metadata": {},
   "outputs": [
    {
     "name": "stdout",
     "output_type": "stream",
     "text": [
      "LR: 0.776042 (0.045796)\n",
      "LDA: 0.766969 (0.047966)\n",
      "KNN: 0.710988 (0.050792)\n",
      "CART: 0.681135 (0.041495)\n",
      "NB: 0.759142 (0.038960)\n",
      "SVM: 0.760458 (0.034712)\n"
     ]
    },
    {
     "data": {
      "image/png": "[encoded data removed]",
      "text/plain": [
       "<Figure size 432x288 with 1 Axes>"
      ]
     },
     "metadata": {
      "needs_background": "light"
     },
     "output_type": "display_data"
    }
   ],
   "source": [
    "def warn(*args, **kwargs):\n",
    "    pass\n",
    "import warnings\n",
    "warnings.warn = warn\n",
    "\n",
    "\n",
    "# Compare Algorithms\n",
    "import pandas\n",
    "import matplotlib.pyplot as plt\n",
    "from sklearn import model_selection\n",
    "from sklearn.linear_model import LogisticRegression\n",
    "from sklearn.tree import DecisionTreeClassifier\n",
    "from sklearn.neighbors import KNeighborsClassifier\n",
    "from sklearn.discriminant_analysis import LinearDiscriminantAnalysis\n",
    "from sklearn.naive_bayes import GaussianNB\n",
    "from sklearn.svm import SVC\n",
    "# load dataset\n",
    "#url = \"https://raw.githubusercontent.com/jbrownlee/Datasets/master/pima-indians-diabetes.data.csv\"\n",
    "names = ['preg', 'plas', 'pres', 'skin', 'test', 'mass', 'pedi', 'age', 'class']\n",
    "#dataframe = pandas.read_csv(url, names=names)\n",
    "dataframe = pandas.read_csv('pima-indians-diabetes.csv', names=names)\n",
    "array = dataframe.values\n",
    "X = array[:,0:8]\n",
    "Y = array[:,8]\n",
    "# prepare configuration for cross validation test harness\n",
    "seed = 7\n",
    "# prepare models\n",
    "models = []\n",
    "models.append(('LR', LogisticRegression()))\n",
    "models.append(('LDA', LinearDiscriminantAnalysis()))\n",
    "models.append(('KNN', KNeighborsClassifier()))\n",
    "models.append(('CART', DecisionTreeClassifier()))\n",
    "models.append(('NB', GaussianNB()))\n",
    "models.append(('SVM', SVC()))\n",
    "# evaluate each model in turn\n",
    "results = []\n",
    "names = []\n",
    "scoring = 'accuracy'\n",
    "for name, model in models:\n",
    "\tkfold = model_selection.KFold(n_splits=10, random_state=seed, shuffle=True)\n",
    "\tcv_results = model_selection.cross_val_score(model, X, Y, cv=kfold, scoring=scoring)\n",
    "\tresults.append(cv_results)\n",
    "\tnames.append(name)\n",
    "\tmsg = \"%s: %f (%f)\" % (name, cv_results.mean(), cv_results.std())\n",
    "\tprint(msg)\n",
    "# boxplot algorithm comparison\n",
    "fig = plt.figure()\n",
    "fig.suptitle('Algorithm Comparison')\n",
    "ax = fig.add_subplot(111)\n",
    "plt.boxplot(results)\n",
    "ax.set_xticklabels(names)\n",
    "plt.show()"
   ]
  },
  {
   "cell_type": "raw",
   "id": "58e61eec",
   "metadata": {},
   "source": [
    "Note: Your results may vary given the stochastic nature of the algorithm or evaluation procedure, or differences in numerical precision. Consider running the example a few times and compare the average outcome.\n",
    "\n",
    "Running the example provides a list of each algorithm short name, the mean accuracy and the standard deviation accuracy.\n",
    "\n",
    "LR: 0.769515 (0.048411)\n",
    "LDA: 0.773462 (0.051592)\n",
    "KNN: 0.726555 (0.061821)\n",
    "CART: 0.695232 (0.062517)\n",
    "NB: 0.755178 (0.042766)\n",
    "SVM: 0.651025 (0.072141)\n",
    "The example also provides a box and whisker plot showing the spread of the accuracy scores across each cross validation fold for each algorithm."
   ]
  },
  {
   "cell_type": "raw",
   "id": "df917112",
   "metadata": {},
   "source": [
    "From these results, it would suggest that both logistic regression and linear discriminate analysis are perhaps worthy of further study on this problem."
   ]
  }
 ],
 "metadata": {
  "kernelspec": {
   "display_name": "Python 3",
   "language": "python",
   "name": "python3"
  },
  "language_info": {
   "codemirror_mode": {
    "name": "ipython",
    "version": 3
   },
   "file_extension": ".py",
   "mimetype": "text/x-python",
   "name": "python",
   "nbconvert_exporter": "python",
   "pygments_lexer": "ipython3",
   "version": "3.8.8"
  }
 },
 "nbformat": 4,
 "nbformat_minor": 5
}

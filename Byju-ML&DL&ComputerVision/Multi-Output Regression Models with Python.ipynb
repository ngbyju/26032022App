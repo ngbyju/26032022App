{
 "cells": [
  {
   "cell_type": "markdown",
   "id": "91892bdb",
   "metadata": {},
   "source": [
    "# How to Develop Multi-Output Regression Models with Python\n",
    "https://machinelearningmastery.com/multi-output-regression-models-with-python/"
   ]
  },
  {
   "cell_type": "raw",
   "id": "7bc70271",
   "metadata": {},
   "source": [
    "Multioutput regression are regression problems that involve predicting two or more numerical values given an input example.\n",
    "\n",
    "An example might be to predict a coordinate given an input, e.g. predicting x and y values. Another example would be multi-step time series forecasting that involves predicting multiple future time series of a given variable.\n",
    "\n",
    "Many machine learning algorithms are designed for predicting a single numeric value, referred to simply as regression. Some algorithms do support multioutput regression inherently, such as linear regression and decision trees. There are also special workaround models that can be used to wrap and use those algorithms that do not natively support predicting multiple outputs.\n",
    "\n",
    "In this tutorial, you will discover how to develop machine learning models for multioutput regression.\n",
    "\n",
    "After completing this tutorial, you will know:\n",
    "\n",
    "The problem of multioutput regression in machine learning.\n",
    "How to develop machine learning models that inherently support multiple-output regression.\n",
    "How to develop wrapper models that allow algorithms that do not inherently support multiple outputs to be used for multiple-output regression."
   ]
  },
  {
   "cell_type": "markdown",
   "id": "19feec97",
   "metadata": {},
   "source": [
    "# Tutorial Overview"
   ]
  },
  {
   "cell_type": "code",
   "execution_count": null,
   "id": "13245c14",
   "metadata": {},
   "outputs": [],
   "source": [
    "\n",
    "This tutorial is divided into five parts; they are:\n",
    "\n",
    "Problem of Multioutput Regression\n",
    "Check Scikit-Learn Version\n",
    "Multioutput Regression Test Problem\n",
    "Inherently Multioutput Regression Algorithms\n",
    "Linear Regression for Multioutput Regression\n",
    "k-Nearest Neighbors for Multioutput Regression\n",
    "Evaluate Multioutput Regression With Cross-Validation\n",
    "Wrapper Multioutput Regression Algorithms\n",
    "Direct Multioutput Regression\n",
    "Chained Multioutput Regression"
   ]
  },
  {
   "cell_type": "markdown",
   "id": "0a1148c7",
   "metadata": {},
   "source": [
    "# Problem of Multioutput Regression"
   ]
  },
  {
   "cell_type": "raw",
   "id": "27354512",
   "metadata": {},
   "source": [
    "\n",
    "Regression refers to a predictive modeling problem that involves predicting a numerical value.\n",
    "\n",
    "For example, predicting a size, weight, amount, number of sales, and number of clicks are regression problems. Typically, a single numeric value is predicted given input variables.\n",
    "\n",
    "Some regression problems require the prediction of two or more numeric values. For example, predicting an x and y coordinate.\n",
    "\n",
    "These problems are referred to as multiple-output regression, or multioutput regression.\n",
    "\n",
    "Regression: Predict a single numeric output given an input.\n",
    "Multioutput Regression: Predict two or more numeric outputs given an input.\n",
    "In multioutput regression, typically the outputs are dependent upon the input and upon each other. This means that often the outputs are not independent of each other and may require a model that predicts both outputs together or each output contingent upon the other outputs.\n",
    "\n",
    "Multi-step time series forecasting may be considered a type of multiple-output regression where a sequence of future values are predicted and each predicted value is dependent upon the prior values in the sequence.\n",
    "\n",
    "There are a number of strategies for handling multioutput regression and we will explore some of them in this tutorial."
   ]
  },
  {
   "cell_type": "raw",
   "id": "f304b0f0",
   "metadata": {},
   "source": [
    "Check Scikit-Learn Version\n",
    "First, confirm that you have a modern version of the scikit-learn library installed.\n",
    "\n",
    "This is important because some of the models we will explore in this tutorial require a modern version of the library.\n",
    "\n",
    "You can check the version of the library with the following code example:\n",
    "\n",
    "# check scikit-learn version\n",
    "import sklearn\n",
    "print(sklearn.__version__)\n",
    "Running the example will print the version of the library.\n",
    "\n",
    "At the time of writing, this is about version 0.22. You need to be using this version of scikit-learn or higher."
   ]
  },
  {
   "cell_type": "code",
   "execution_count": 1,
   "id": "2fa04249",
   "metadata": {},
   "outputs": [
    {
     "name": "stdout",
     "output_type": "stream",
     "text": [
      "1.1.1\n"
     ]
    }
   ],
   "source": [
    "# check scikit-learn version\n",
    "import sklearn\n",
    "print(sklearn.__version__)"
   ]
  },
  {
   "cell_type": "markdown",
   "id": "f2bcfa80",
   "metadata": {},
   "source": [
    "# Multioutput Regression Test Problem"
   ]
  },
  {
   "cell_type": "code",
   "execution_count": null,
   "id": "38b8f447",
   "metadata": {},
   "outputs": [],
   "source": [
    "We can define a test problem that we can use to demonstrate the different modeling strategies.\n",
    "\n",
    "We will use the make_regression() function to create a test dataset for multiple-output regression. We will generate 1,000 examples with 10 input features, five of which will be redundant and five that will be informative. The problem will require the prediction of two numeric values.\n",
    "\n",
    "Problem Input: 10 numeric variables.\n",
    "Problem Output: 2 numeric variables.\n",
    "The example below generates the dataset and summarizes the shape.\n",
    "\n",
    "# example of multioutput regression test problem\n",
    "from sklearn.datasets import make_regression\n",
    "# create datasets\n",
    "X, y = make_regression(n_samples=1000, n_features=10, n_informative=5, n_targets=2, random_state=1, noise=0.5)\n",
    "# summarize dataset\n",
    "print(X.shape, y.shape)\n",
    "Running the example creates the dataset and summarizes the shape of the input and output elements of the dataset for modeling, confirming the chosen configuration.\n",
    "\n",
    "(1000, 10) (1000, 2)\n",
    "Next, let’s look at modeling this problem directly.\n",
    "\n"
   ]
  },
  {
   "cell_type": "code",
   "execution_count": 2,
   "id": "da899197",
   "metadata": {},
   "outputs": [
    {
     "name": "stdout",
     "output_type": "stream",
     "text": [
      "(1000, 10) (1000, 2)\n"
     ]
    }
   ],
   "source": [
    "# example of multioutput regression test problem\n",
    "from sklearn.datasets import make_regression\n",
    "# create datasets\n",
    "X, y = make_regression(n_samples=1000, n_features=10, n_informative=5, n_targets=2, random_state=1, noise=0.5)\n",
    "# summarize dataset\n",
    "print(X.shape, y.shape)"
   ]
  },
  {
   "cell_type": "markdown",
   "id": "f6bbfd60",
   "metadata": {},
   "source": [
    "# Inherently Multioutput Regression Algorithms"
   ]
  },
  {
   "cell_type": "raw",
   "id": "c5434201",
   "metadata": {},
   "source": [
    "Some regression machine learning algorithms support multiple outputs directly.\n",
    "\n",
    "This includes most of the popular machine learning algorithms implemented in the scikit-learn library, such as:\n",
    "\n",
    "LinearRegression (and related)\n",
    "KNeighborsRegressor\n",
    "DecisionTreeRegressor\n",
    "RandomForestRegressor (and related)\n",
    "Let’s look at a few examples to make this concrete.\n",
    "\n",
    "Linear Regression for Multioutput Regression\n",
    "The example below fits a linear regression model on the multioutput regression dataset, then makes a single prediction with the fit model.\n"
   ]
  },
  {
   "cell_type": "code",
   "execution_count": 4,
   "id": "0c5a6ce6",
   "metadata": {},
   "outputs": [
    {
     "name": "stdout",
     "output_type": "stream",
     "text": [
      "[50.06781717 64.564973  ]\n",
      "[[50.06781717 64.564973  ]]\n"
     ]
    }
   ],
   "source": [
    "# linear regression for multioutput regression\n",
    "from sklearn.datasets import make_regression\n",
    "from sklearn.linear_model import LinearRegression\n",
    "# create datasets\n",
    "X, y = make_regression(n_samples=1000, n_features=10, n_informative=5, n_targets=2, random_state=1, noise=0.5)\n",
    "# define model\n",
    "model = LinearRegression()\n",
    "# fit model\n",
    "model.fit(X, y)\n",
    "# make a prediction\n",
    "row = [0.21947749, 0.32948997, 0.81560036, 0.440956, -0.0606303, -0.29257894, -0.2820059, -0.00290545, 0.96402263, 0.04992249]\n",
    "yhat = model.predict([row])\n",
    "# summarize prediction\n",
    "print(yhat[0])   # [50.06781717 64.564973  ]\n",
    "#print(yhat)     # [[50.06781717 64.564973  ]]"
   ]
  },
  {
   "cell_type": "raw",
   "id": "a3a3bd4d",
   "metadata": {},
   "source": [
    "Running the example fits the model and then makes a prediction for one input, confirming that the model predicted two required values."
   ]
  },
  {
   "cell_type": "markdown",
   "id": "16d631c9",
   "metadata": {},
   "source": [
    "# k-Nearest Neighbors for Multioutput Regression"
   ]
  },
  {
   "cell_type": "raw",
   "id": "c3039537",
   "metadata": {},
   "source": [
    "\n",
    "The example below fits a k-nearest neighbors model on the multioutput regression dataset, then makes a single prediction with the fit model."
   ]
  },
  {
   "cell_type": "code",
   "execution_count": 5,
   "id": "d2b45268",
   "metadata": {},
   "outputs": [
    {
     "name": "stdout",
     "output_type": "stream",
     "text": [
      "[-11.73511093  52.78406297]\n"
     ]
    }
   ],
   "source": [
    "# k-nearest neighbors for multioutput regression\n",
    "from sklearn.datasets import make_regression\n",
    "from sklearn.neighbors import KNeighborsRegressor\n",
    "# create datasets\n",
    "X, y = make_regression(n_samples=1000, n_features=10, n_informative=5, n_targets=2, random_state=1, noise=0.5)\n",
    "# define model\n",
    "model = KNeighborsRegressor()\n",
    "# fit model\n",
    "model.fit(X, y)\n",
    "# make a prediction\n",
    "row = [0.21947749, 0.32948997, 0.81560036, 0.440956, -0.0606303, -0.29257894, -0.2820059, -0.00290545, 0.96402263, 0.04992249]\n",
    "yhat = model.predict([row])\n",
    "# summarize prediction\n",
    "print(yhat[0])"
   ]
  },
  {
   "cell_type": "raw",
   "id": "c0630d8e",
   "metadata": {},
   "source": [
    "Running the example fits the model and then makes a prediction for one input, confirming that the model predicted two required values."
   ]
  },
  {
   "cell_type": "markdown",
   "id": "683bc853",
   "metadata": {},
   "source": [
    "# Decision Tree for Multioutput Regression"
   ]
  },
  {
   "cell_type": "code",
   "execution_count": 7,
   "id": "9e10df3d",
   "metadata": {},
   "outputs": [
    {
     "name": "stdout",
     "output_type": "stream",
     "text": [
      "[49.93137149 64.08484989]\n"
     ]
    }
   ],
   "source": [
    "#The example below fits a decision tree model on the multioutput regression dataset, then makes a single prediction with the fit model.\n",
    "\n",
    "# decision tree for multioutput regression\n",
    "from sklearn.datasets import make_regression\n",
    "from sklearn.tree import DecisionTreeRegressor\n",
    "# create datasets\n",
    "X, y = make_regression(n_samples=1000, n_features=10, n_informative=5, n_targets=2, random_state=1, noise=0.5)\n",
    "# define model\n",
    "model = DecisionTreeRegressor()\n",
    "# fit model\n",
    "model.fit(X, y)\n",
    "# make a prediction\n",
    "row = [0.21947749, 0.32948997, 0.81560036, 0.440956, -0.0606303, -0.29257894, -0.2820059, -0.00290545, 0.96402263, 0.04992249]\n",
    "yhat = model.predict([row])\n",
    "# summarize prediction\n",
    "print(yhat[0])\n",
    "#Running the example fits the model and then makes a prediction for one input, confirming that the model predicted two required values."
   ]
  },
  {
   "cell_type": "markdown",
   "id": "a3017b1c",
   "metadata": {},
   "source": [
    "# RandomForest for Multioutput Regression"
   ]
  },
  {
   "cell_type": "code",
   "execution_count": 9,
   "id": "0b7b4ee3",
   "metadata": {},
   "outputs": [
    {
     "name": "stdout",
     "output_type": "stream",
     "text": [
      "[49.93408226 62.31687819]\n"
     ]
    }
   ],
   "source": [
    "#Decision Tree for Multioutput Regression\n",
    "\n",
    "#The example below fits a Random Forest model on the multioutput regression dataset, then makes a single prediction with the fit model.\n",
    "\n",
    "# decision tree for multioutput regression\n",
    "from sklearn.datasets import make_regression\n",
    "from sklearn.ensemble import RandomForestRegressor\n",
    "# create datasets\n",
    "X, y = make_regression(n_samples=1000, n_features=10, n_informative=5, n_targets=2, random_state=1, noise=0.5)\n",
    "# define model\n",
    "model = RandomForestRegressor()\n",
    "# fit model\n",
    "model.fit(X, y)\n",
    "# make a prediction\n",
    "row = [0.21947749, 0.32948997, 0.81560036, 0.440956, -0.0606303, -0.29257894, -0.2820059, -0.00290545, 0.96402263, 0.04992249]\n",
    "yhat = model.predict([row])\n",
    "# summarize prediction\n",
    "print(yhat[0])\n",
    "\n",
    "#Running the example fits the model and then makes a prediction for one input, confirming that the model predicted two required values.\n",
    "\n"
   ]
  },
  {
   "cell_type": "markdown",
   "id": "9689afe8",
   "metadata": {},
   "source": [
    "# Evaluate Multioutput Regression With Cross-Validation"
   ]
  },
  {
   "cell_type": "raw",
   "id": "d80702c7",
   "metadata": {},
   "source": [
    "\n",
    "We may want to evaluate a multioutput regression using k-fold cross-validation.\n",
    "\n",
    "This can be achieved in the same way as evaluating any other machine learning model.\n",
    "\n",
    "We will fit and evaluate a DecisionTreeRegressor model on the test problem using 10-fold cross-validation with three repeats. We will use the mean absolute error (MAE) performance metric as the score.\n",
    "\n",
    "The complete example is listed below.\n"
   ]
  },
  {
   "cell_type": "code",
   "execution_count": 10,
   "id": "0de82401",
   "metadata": {},
   "outputs": [
    {
     "name": "stdout",
     "output_type": "stream",
     "text": [
      "MAE: 52.285 (2.992)\n"
     ]
    }
   ],
   "source": [
    "\n",
    "# evaluate multioutput regression model with k-fold cross-validation\n",
    "from numpy import absolute\n",
    "from numpy import mean\n",
    "from numpy import std\n",
    "from sklearn.datasets import make_regression\n",
    "from sklearn.tree import DecisionTreeRegressor\n",
    "from sklearn.model_selection import cross_val_score\n",
    "from sklearn.model_selection import RepeatedKFold\n",
    "# create datasets\n",
    "X, y = make_regression(n_samples=1000, n_features=10, n_informative=5, n_targets=2, random_state=1, noise=0.5)\n",
    "# define model\n",
    "model = DecisionTreeRegressor()\n",
    "# define the evaluation procedure\n",
    "cv = RepeatedKFold(n_splits=10, n_repeats=3, random_state=1)\n",
    "# evaluate the model and collect the scores\n",
    "n_scores = cross_val_score(model, X, y, scoring='neg_mean_absolute_error', cv=cv, n_jobs=-1)\n",
    "# force the scores to be positive\n",
    "n_scores = absolute(n_scores)\n",
    "# summarize performance\n",
    "print('MAE: %.3f (%.3f)' % (mean(n_scores), std(n_scores)))"
   ]
  },
  {
   "cell_type": "raw",
   "id": "200ca299",
   "metadata": {},
   "source": [
    "Running the example evaluates the performance of the decision tree model for multioutput regression on the test problem. The mean and standard deviation of the MAE is reported calculated across all folds and all repeats.\n",
    "\n",
    "Note: Your results may vary given the stochastic nature of the algorithm or evaluation procedure, or differences in numerical precision. Consider running the example a few times and compare the average outcome.\n",
    "\n",
    "Importantly, error is reported across both output variables, rather than separate error scores for each output variable.\n",
    "\n"
   ]
  },
  {
   "cell_type": "raw",
   "id": "4e75d850",
   "metadata": {},
   "source": [
    "Wrapper Multioutput Regression Algorithms\n",
    "Not all regression algorithms support multioutput regression.\n",
    "\n",
    "One example is the support vector machine, although for regression, it is referred to as support vector regression, or SVR.\n",
    "\n",
    "This algorithm does not support multiple outputs for a regression problem and will raise an error. We can demonstrate this with an example, listed below.\n",
    "\n",
    "# failure of support vector regression for multioutput regression (causes an error)\n",
    "from sklearn.datasets import make_regression\n",
    "from sklearn.svm import LinearSVR\n",
    "# create datasets\n",
    "X, y = make_regression(n_samples=1000, n_features=10, n_informative=5, n_targets=2, random_state=1)\n",
    "# define model\n",
    "model = LinearSVR()\n",
    "# fit model\n",
    "# (THIS WILL CAUSE AN ERROR!)\n",
    "model.fit(X, y)\n",
    "Running the example reports an error message indicating that the model does not support multioutput regression.\n",
    "\n",
    "ValueError: bad input shape (1000, 2)\n",
    "A workaround for using regression models designed for predicting one value for multioutput regression is to divide the multioutput regression problem into multiple sub-problems.\n",
    "\n",
    "The most obvious way to do this is to split a multioutput regression problem into multiple single-output regression problems.\n",
    "\n",
    "For example, if a multioutput regression problem required the prediction of three values y1, y2 and y3 given an input X, then this could be partitioned into three single-output regression problems:\n",
    "\n",
    "Problem 1: Given X, predict y1.\n",
    "Problem 2: Given X, predict y2.\n",
    "Problem 3: Given X, predict y3.\n",
    "There are two main approaches to implementing this technique.\n",
    "\n",
    "The first approach involves developing a separate regression model for each output value to be predicted. We can think of this as a direct approach, as each target value is modeled directly.\n",
    "\n",
    "The second approach is an extension of the first method except the models are organized into a chain. The prediction from the first model is taken as part of the input to the second model, and the process of output-to-input dependency repeats along the chain of models.\n",
    "\n",
    "Direct Multioutput: Develop an independent model for each numerical value to be predicted.\n",
    "Chained Multioutput: Develop a sequence of dependent models to match the number of numerical values to be predicted.\n",
    "Let’s take a closer look at each of these techniques in turn."
   ]
  },
  {
   "cell_type": "markdown",
   "id": "f826b264",
   "metadata": {},
   "source": [
    "# Direct Multioutput Regression"
   ]
  },
  {
   "cell_type": "raw",
   "id": "c2ef28b5",
   "metadata": {},
   "source": [
    "\n",
    "The direct approach to multioutput regression involves dividing the regression problem into a separate problem for each target variable to be predicted.\n",
    "\n",
    "This assumes that the outputs are independent of each other, which might not be a correct assumption. Nevertheless, this approach can provide surprisingly effective predictions on a range of problems and may be worth trying, at least as a performance baseline.\n",
    "\n",
    "For example, the outputs for your problem may, in fact, be mostly independent, if not completely independent, and this strategy can help you find out.\n",
    "\n",
    "This approach is supported by the MultiOutputRegressor class that takes a regression model as an argument. It will then create one instance of the provided model for each output in the problem.\n",
    "\n",
    "The example below demonstrates how we can first create a single-output regression model then use the MultiOutputRegressor class to wrap the regression model and add support for multioutput regression.\n",
    "\n",
    "...\n",
    "# define base model\n",
    "model = LinearSVR()\n",
    "# define the direct multioutput wrapper model\n",
    "wrapper = MultiOutputRegressor(model)\n",
    "We can demonstrate this strategy with a worked example on our synthetic multioutput regression problem.\n",
    "\n",
    "The example below demonstrates evaluating the MultiOutputRegressor class with linear SVR using repeated k-fold cross-validation and reporting the average mean absolute error (MAE) across all folds and repeats.\n",
    "\n",
    "The complete example is listed below."
   ]
  },
  {
   "cell_type": "code",
   "execution_count": 1,
   "id": "cea44b81",
   "metadata": {},
   "outputs": [
    {
     "name": "stdout",
     "output_type": "stream",
     "text": [
      "MAE: 0.419 (0.024)\n"
     ]
    }
   ],
   "source": [
    "# example of evaluating direct multioutput regression with an SVM model\n",
    "from numpy import mean\n",
    "from numpy import std\n",
    "from numpy import absolute\n",
    "from sklearn.datasets import make_regression\n",
    "from sklearn.model_selection import cross_val_score\n",
    "from sklearn.model_selection import RepeatedKFold\n",
    "from sklearn.multioutput import MultiOutputRegressor\n",
    "from sklearn.svm import LinearSVR\n",
    "# define dataset\n",
    "X, y = make_regression(n_samples=1000, n_features=10, n_informative=5, n_targets=2, random_state=1, noise=0.5)\n",
    "# define base model\n",
    "model = LinearSVR()\n",
    "# define the direct multioutput wrapper model\n",
    "wrapper = MultiOutputRegressor(model)\n",
    "# define the evaluation procedure\n",
    "cv = RepeatedKFold(n_splits=10, n_repeats=3, random_state=1)\n",
    "# evaluate the model and collect the scores\n",
    "n_scores = cross_val_score(wrapper, X, y, scoring='neg_mean_absolute_error', cv=cv, n_jobs=-1)\n",
    "# force the scores to be positive\n",
    "n_scores = absolute(n_scores)\n",
    "# summarize performance\n",
    "print('MAE: %.3f (%.3f)' % (mean(n_scores), std(n_scores)))"
   ]
  },
  {
   "cell_type": "raw",
   "id": "8a9be398",
   "metadata": {},
   "source": [
    "Running the example reports the mean and standard deviation MAE of the direct wrapper model.\n",
    "\n",
    "Note: Your results may vary given the stochastic nature of the algorithm or evaluation procedure, or differences in numerical precision. Consider running the example a few times and compare the average outcome.\n",
    "\n",
    "In this case, we can see that the Linear SVR model wrapped by the direct multioutput regression strategy achieved a MAE of about 0.419.\n",
    "\n",
    "MAE: 0.419 (0.024)\n",
    "We can also use the direct multioutput regression wrapper as a final model and make predictions on new data.\n",
    "\n",
    "First, the model is fit on all available data, then the predict() function can be called to make predictions on new data.\n",
    "\n",
    "The example below demonstrates this on our synthetic multioutput regression dataset."
   ]
  },
  {
   "cell_type": "raw",
   "id": "75f54510",
   "metadata": {},
   "source": [
    "Running the example reports the mean and standard deviation MAE of the direct wrapper model.\n",
    "\n",
    "Note: Your results may vary given the stochastic nature of the algorithm or evaluation procedure, or differences in numerical precision. Consider running the example a few times and compare the average outcome.\n",
    "\n",
    "In this case, we can see that the Linear SVR model wrapped by the direct multioutput regression strategy achieved a MAE of about 0.419.\n",
    "\n",
    "MAE: 0.419 (0.024)\n",
    "We can also use the direct multioutput regression wrapper as a final model and make predictions on new data.\n",
    "\n",
    "First, the model is fit on all available data, then the predict() function can be called to make predictions on new data.\n",
    "\n",
    "The example below demonstrates this on our synthetic multioutput regression dataset."
   ]
  },
  {
   "cell_type": "code",
   "execution_count": 2,
   "id": "7a540808",
   "metadata": {},
   "outputs": [
    {
     "name": "stdout",
     "output_type": "stream",
     "text": [
      "Predicted: [50.02357659 64.51596567]\n"
     ]
    }
   ],
   "source": [
    "# example of making a prediction with the direct multioutput regression model\n",
    "from sklearn.datasets import make_regression\n",
    "from sklearn.multioutput import MultiOutputRegressor\n",
    "from sklearn.svm import LinearSVR\n",
    "# define dataset\n",
    "X, y = make_regression(n_samples=1000, n_features=10, n_informative=5, n_targets=2, random_state=1, noise=0.5)\n",
    "# define base model\n",
    "model = LinearSVR()\n",
    "# define the direct multioutput wrapper model\n",
    "wrapper = MultiOutputRegressor(model)\n",
    "# fit the model on the whole dataset\n",
    "wrapper.fit(X, y)\n",
    "# make a single prediction\n",
    "row = [0.21947749, 0.32948997, 0.81560036, 0.440956, -0.0606303, -0.29257894, -0.2820059, -0.00290545, 0.96402263, 0.04992249]\n",
    "yhat = wrapper.predict([row])\n",
    "# summarize the prediction\n",
    "print('Predicted: %s' % yhat[0])"
   ]
  },
  {
   "cell_type": "raw",
   "id": "1796a94c",
   "metadata": {},
   "source": [
    "Running the example fits the direct wrapper model on the entire dataset and is then used to make a prediction on a new row of data, as we might when using the model in an application.\n",
    "\n",
    "Predicted: [50.01932887 64.49432991]\n",
    "Now that we are familiar with using the direct multioutput regression wrapper, let’s look at the chained method."
   ]
  },
  {
   "cell_type": "markdown",
   "id": "7236f3da",
   "metadata": {},
   "source": [
    "# Chained Multioutput Regression"
   ]
  },
  {
   "cell_type": "raw",
   "id": "9ac93554",
   "metadata": {},
   "source": [
    "\n",
    "Another approach to using single-output regression models for multioutput regression is to create a linear sequence of models.\n",
    "\n",
    "The first model in the sequence uses the input and predicts one output; the second model uses the input and the output from the first model to make a prediction; the third model uses the input and output from the first two models to make a prediction, and so on.\n",
    "\n",
    "For example, if a multioutput regression problem required the prediction of three values y1, y2 and y3 given an input X, then this could be partitioned into three dependent single-output regression problems as follows:\n",
    "\n",
    "Problem 1: Given X, predict y1.\n",
    "Problem 2: Given X and yhat1, predict y2.\n",
    "Problem 3: Given X, yhat1, and yhat2, predict y3.\n",
    "This can be achieved using the RegressorChain class in the scikit-learn library.\n",
    "\n",
    "The order of the models may be based on the order of the outputs in the dataset (the default) or specified via the “order” argument. For example, order=[0,1] would first predict the oth output, then the 1st output, whereas an order=[1,0] would first predict the last output variable and then the first output variable in our test problem.\n",
    "\n",
    "The example below demonstrates how we can first create a single-output regression model then use the RegressorChain class to wrap the regression model and add support for multioutput regression.\n",
    "\n",
    "...\n",
    "# define base model\n",
    "model = LinearSVR()\n",
    "# define the chained multioutput wrapper model\n",
    "wrapper = RegressorChain(model, order=[0,1])\n",
    "We can demonstrate this strategy with a worked example on our synthetic multioutput regression problem.\n",
    "\n",
    "The example below demonstrates evaluating the RegressorChain class with linear SVR using repeated k-fold cross-validation and reporting the average mean absolute error (MAE) across all folds and repeats.\n",
    "\n",
    "The complete example is listed below.\n",
    "\n",
    "We can demonstrate this strategy with a worked example on our synthetic multioutput regression problem.\n",
    "\n",
    "The example below demonstrates evaluating the RegressorChain class with linear SVR using repeated k-fold cross-validation and reporting the average mean absolute error (MAE) across all folds and repeats.\n",
    "\n",
    "The complete example is listed below.\n",
    "\n"
   ]
  },
  {
   "cell_type": "code",
   "execution_count": 3,
   "id": "96284ada",
   "metadata": {},
   "outputs": [
    {
     "name": "stdout",
     "output_type": "stream",
     "text": [
      "MAE: 0.631 (0.317)\n"
     ]
    }
   ],
   "source": [
    "\n",
    "# example of evaluating chained multioutput regression with an SVM model\n",
    "from numpy import mean\n",
    "from numpy import std\n",
    "from numpy import absolute\n",
    "from sklearn.datasets import make_regression\n",
    "from sklearn.model_selection import cross_val_score\n",
    "from sklearn.model_selection import RepeatedKFold\n",
    "from sklearn.multioutput import RegressorChain\n",
    "from sklearn.svm import LinearSVR\n",
    "# define dataset\n",
    "X, y = make_regression(n_samples=1000, n_features=10, n_informative=5, n_targets=2, random_state=1, noise=0.5)\n",
    "# define base model\n",
    "model = LinearSVR()\n",
    "# define the chained multioutput wrapper model\n",
    "wrapper = RegressorChain(model)\n",
    "# define the evaluation procedure\n",
    "cv = RepeatedKFold(n_splits=10, n_repeats=3, random_state=1)\n",
    "# evaluate the model and collect the scores\n",
    "n_scores = cross_val_score(wrapper, X, y, scoring='neg_mean_absolute_error', cv=cv, n_jobs=-1)\n",
    "# force the scores to be positive\n",
    "n_scores = absolute(n_scores)\n",
    "# summarize performance\n",
    "print('MAE: %.3f (%.3f)' % (mean(n_scores), std(n_scores)))"
   ]
  },
  {
   "cell_type": "raw",
   "id": "9f49b98d",
   "metadata": {},
   "source": [
    "Running the example reports the mean and standard deviation MAE of the chained wrapper model.\n",
    "Note that you may see a ConvergenceWarning when running the example, which can be safely ignored.\n",
    "\n",
    "Note: Your results may vary given the stochastic nature of the algorithm or evaluation procedure, or differences in numerical precision. Consider running the example a few times and compare the average outcome.\n",
    "\n",
    "In this case, we can see that the Linear SVR model wrapped by the chained multioutput regression strategy achieved a MAE of about 0.631.\n",
    "\n",
    "\n",
    "We can also use the chained multioutput regression wrapper as a final model and make predictions on new data.\n",
    "\n",
    "First, the model is fit on all available data, then the predict() function can be called to make predictions on new data.\n",
    "\n",
    "The example below demonstrates this on our synthetic multioutput regression dataset."
   ]
  },
  {
   "cell_type": "raw",
   "id": "9969a9ba",
   "metadata": {},
   "source": [
    "# example of making a prediction with the chained multioutput regression model\n",
    "from sklearn.datasets import make_regression\n",
    "from sklearn.multioutput import RegressorChain\n",
    "from sklearn.svm import LinearSVR\n",
    "# define dataset\n",
    "X, y = make_regression(n_samples=1000, n_features=10, n_informative=5, n_targets=2, random_state=1, noise=0.5)\n",
    "# define base model\n",
    "model = LinearSVR()\n",
    "# define the chained multioutput wrapper model\n",
    "wrapper = RegressorChain(model, order=[0,1])\n",
    "# fit the model on the whole dataset\n",
    "wrapper.fit(X, y)\n",
    "# make a single prediction\n",
    "row = [0.21947749, 0.32948997, 0.81560036, 0.440956, -0.0606303, -0.29257894, -0.2820059, -0.00290545, 0.96402263, 0.04992249]\n",
    "yhat = wrapper.predict([row])\n",
    "# summarize the prediction\n",
    "print('Predicted: %s' % yhat[0])\n",
    "# Running the example fits the chained wrapper model on the entire dataset and is then used to make a prediction on a new \n",
    "# row of data, as we might when using the model in an application."
   ]
  },
  {
   "cell_type": "code",
   "execution_count": null,
   "id": "f33dda9d",
   "metadata": {},
   "outputs": [],
   "source": [
    "Summary\n",
    "In this tutorial, you discovered how to develop machine learning models for multioutput regression.\n",
    "\n",
    "Specifically, you learned:\n",
    "\n",
    "The problem of multioutput regression in machine learning.\n",
    "How to develop machine learning models that inherently support multiple-output regression.\n",
    "How to develop wrapper models that allow algorithms that do not inherently support multiple outputs to be used for multiple-output regression."
   ]
  },
  {
   "cell_type": "code",
   "execution_count": null,
   "id": "3a4a6757",
   "metadata": {},
   "outputs": [],
   "source": []
  },
  {
   "cell_type": "code",
   "execution_count": null,
   "id": "2ac8a6e4",
   "metadata": {},
   "outputs": [],
   "source": []
  },
  {
   "cell_type": "code",
   "execution_count": null,
   "id": "dafdd20b",
   "metadata": {},
   "outputs": [],
   "source": []
  },
  {
   "cell_type": "code",
   "execution_count": null,
   "id": "ecf1a3b9",
   "metadata": {},
   "outputs": [],
   "source": []
  },
  {
   "cell_type": "code",
   "execution_count": null,
   "id": "9e4bbc0a",
   "metadata": {},
   "outputs": [],
   "source": []
  },
  {
   "cell_type": "code",
   "execution_count": null,
   "id": "680f6c7f",
   "metadata": {},
   "outputs": [],
   "source": []
  }
 ],
 "metadata": {
  "kernelspec": {
   "display_name": "Python 3",
   "language": "python",
   "name": "python3"
  },
  "language_info": {
   "codemirror_mode": {
    "name": "ipython",
    "version": 3
   },
   "file_extension": ".py",
   "mimetype": "text/x-python",
   "name": "python",
   "nbconvert_exporter": "python",
   "pygments_lexer": "ipython3",
   "version": "3.8.8"
  }
 },
 "nbformat": 4,
 "nbformat_minor": 5
}

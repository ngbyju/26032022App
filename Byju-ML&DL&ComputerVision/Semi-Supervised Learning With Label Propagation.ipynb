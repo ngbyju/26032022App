{
 "cells": [
  {
   "cell_type": "markdown",
   "id": "b8462c9a",
   "metadata": {},
   "source": [
    "# Semi-Supervised Learning With Label Propagation\n",
    "https://machinelearningmastery.com/semi-supervised-learning-with-label-propagation/"
   ]
  },
  {
   "cell_type": "raw",
   "id": "78b26bed",
   "metadata": {},
   "source": [
    "Semi-supervised learning refers to algorithms that attempt to make use of both labeled and unlabeled training data.\n",
    "\n",
    "Semi-supervised learning algorithms are unlike supervised learning algorithms that are only able to learn from labeled training data.\n",
    "\n",
    "A popular approach to semi-supervised learning is to create a graph that connects examples in the training dataset and propagate known labels through the edges of the graph to label unlabeled examples. An example of this approach to semi-supervised learning is the label propagation algorithm for classification predictive modeling."
   ]
  },
  {
   "cell_type": "markdown",
   "id": "3b11f633",
   "metadata": {},
   "source": [
    "# Tutorial Overview"
   ]
  },
  {
   "cell_type": "raw",
   "id": "fc274504",
   "metadata": {},
   "source": [
    "\n",
    "This tutorial is divided into three parts; they are:\n",
    "\n",
    "Label Propagation Algorithm\n",
    "Semi-Supervised Classification Dataset\n",
    "Label Propagation for Semi-Supervised Learning\n"
   ]
  },
  {
   "cell_type": "markdown",
   "id": "13a9900b",
   "metadata": {},
   "source": [
    "# Label Propagation Algorithm\n"
   ]
  },
  {
   "cell_type": "raw",
   "id": "0cf00ab8",
   "metadata": {},
   "source": [
    "Label Propagation is a semi-supervised learning algorithm.\n",
    "\n",
    "The algorithm was proposed in the 2002 technical report by Xiaojin Zhu and Zoubin Ghahramani titled “Learning From Labeled And Unlabeled Data With Label Propagation.”\n",
    "\n",
    "The intuition for the algorithm is that a graph is created that connects all examples (rows) in the dataset based on their distance, such as Euclidean distance. Nodes in the graph then have label soft labels or label distribution based on the labels or label distributions of examples connected nearby in the graph.\n",
    "\n",
    "Many semi-supervised learning algorithms rely on the geometry of the data induced by both labeled and unlabeled examples to improve on supervised methods that use only the labeled data. This geometry can be naturally represented by an empirical graph g = (V,E) where nodes V = {1,…,n} represent the training data and edges E represent similarities between them\n",
    "\n",
    "— Page 193, Semi-Supervised Learning, 2006.\n",
    "\n",
    "Propagation refers to the iterative nature that labels are assigned to nodes in the graph and propagate along the edges of the graph to connected nodes.\n",
    "\n",
    "This procedure is sometimes called label propagation, as it “propagates” labels from the labeled vertices (which are fixed) gradually through the edges to all the unlabeled vertices.\n",
    "\n",
    "— Page 48, Introduction to Semi-Supervised Learning, 2009.\n",
    "\n",
    "The process is repeated for a fixed number of iterations to strengthen the labels assigned to unlabeled examples.\n",
    "\n",
    "Starting with nodes 1, 2,…,l labeled with their known label (1 or −1) and nodes l + 1,…,n labeled with 0, each node starts to propagate its label to its neighbors, and the process is repeated until convergence.\n",
    "\n",
    "— Page 194, Semi-Supervised Learning, 2006.\n",
    "\n",
    "Now that we are familiar with the Label Propagation algorithm, let’s look at how we might use it on a project. First, we must define a semi-supervised classification dataset."
   ]
  },
  {
   "cell_type": "markdown",
   "id": "702a079f",
   "metadata": {},
   "source": [
    "# Semi-Supervised Classification Dataset"
   ]
  },
  {
   "cell_type": "raw",
   "id": "26434960",
   "metadata": {},
   "source": [
    "\n",
    "In this section, we will define a dataset for semis-supervised learning and establish a baseline in performance on the dataset.\n",
    "\n",
    "First, we can define a synthetic classification dataset using the make_classification() function.\n",
    "\n",
    "We will define the dataset with two classes (binary classification) and two input variables and 1,000 examples.\n",
    "\n",
    "...\n",
    "# define dataset\n",
    "X, y = make_classification(n_samples=1000, n_features=2, n_informative=2, n_redundant=0, random_state=1)\n",
    "Next, we will split the dataset into train and test datasets with an equal 50-50 split (e.g. 500 rows in each).\n",
    "\n",
    "...\n",
    "# split into train and test\n",
    "X_train, X_test, y_train, y_test = train_test_split(X, y, test_size=0.50, random_state=1, stratify=y)\n",
    "Finally, we will split the training dataset in half again into a portion that will have labels and a portion that we will pretend is unlabeled.\n",
    "\n",
    "...\n",
    "# split train into labeled and unlabeled\n",
    "X_train_lab, X_test_unlab, y_train_lab, y_test_unlab = train_test_split(X_train, y_train, test_size=0.50, random_state=1, stratify=y_train)\n",
    "Tying this together, the complete example of preparing the semi-supervised learning dataset is listed below.\n",
    "\n",
    "# prepare semi-supervised learning dataset\n",
    "from sklearn.datasets import make_classification\n",
    "from sklearn.model_selection import train_test_split\n",
    "# define dataset\n",
    "X, y = make_classification(n_samples=1000, n_features=2, n_informative=2, n_redundant=0, random_state=1)\n",
    "# split into train and test\n",
    "X_train, X_test, y_train, y_test = train_test_split(X, y, test_size=0.50, random_state=1, stratify=y)\n",
    "# split train into labeled and unlabeled\n",
    "X_train_lab, X_test_unlab, y_train_lab, y_test_unlab = train_test_split(X_train, y_train, test_size=0.50, random_state=1, stratify=y_train)\n",
    "# summarize training set size\n",
    "print('Labeled Train Set:', X_train_lab.shape, y_train_lab.shape)\n",
    "print('Unlabeled Train Set:', X_test_unlab.shape, y_test_unlab.shape)\n",
    "# summarize test set size\n",
    "print('Test Set:', X_test.shape, y_test.shape)\n",
    "Running the example prepares the dataset and then summarizes the shape of each of the three portions.\n",
    "\n",
    "The results confirm that we have a test dataset of 500 rows, a labeled training dataset of 250 rows, and 250 rows of unlabeled data."
   ]
  },
  {
   "cell_type": "raw",
   "id": "6368903b",
   "metadata": {},
   "source": [
    "Labeled Train Set: (250, 2) (250,)\n",
    "Unlabeled Train Set: (250, 2) (250,)\n",
    "Test Set: (500, 2) (500,)\n",
    "A supervised learning algorithm will only have 250 rows from which to train a model.\n",
    "\n",
    "A semi-supervised learning algorithm will have the 250 labeled rows as well as the 250 unlabeled rows that could be used in numerous ways to improve the labeled training dataset.\n",
    "\n",
    "Next, we can establish a baseline in performance on the semi-supervised learning dataset using a supervised learning algorithm fit only on the labeled training data.\n",
    "\n",
    "This is important because we would expect a semi-supervised learning algorithm to outperform a supervised learning algorithm fit on the labeled data alone. If this is not the case, then the semi-supervised learning algorithm does not have skill.\n",
    "\n",
    "In this case, we will use a logistic regression algorithm fit on the labeled portion of the training dataset.\n",
    "\n",
    "...\n",
    "# define model\n",
    "model = LogisticRegression()\n",
    "# fit model on labeled dataset\n",
    "model.fit(X_train_lab, y_train_lab)\n",
    "The model can then be used to make predictions on the entire hold out test dataset and evaluated using classification accuracy.\n",
    "\n",
    "...\n",
    "# make predictions on hold out test set\n",
    "yhat = model.predict(X_test)\n",
    "# calculate score for test set\n",
    "score = accuracy_score(y_test, yhat)\n",
    "# summarize score\n",
    "print('Accuracy: %.3f' % (score*100))\n",
    "Tying this together, the complete example of evaluating a supervised learning algorithm on the semi-supervised learning dataset is listed below.\n",
    "\n"
   ]
  },
  {
   "cell_type": "code",
   "execution_count": 1,
   "id": "0f9030c7",
   "metadata": {},
   "outputs": [
    {
     "name": "stdout",
     "output_type": "stream",
     "text": [
      "Accuracy: 84.800\n"
     ]
    }
   ],
   "source": [
    "# baseline performance on the semi-supervised learning dataset\n",
    "from sklearn.datasets import make_classification\n",
    "from sklearn.model_selection import train_test_split\n",
    "from sklearn.metrics import accuracy_score\n",
    "from sklearn.linear_model import LogisticRegression\n",
    "# define dataset\n",
    "X, y = make_classification(n_samples=1000, n_features=2, n_informative=2, n_redundant=0, random_state=1)\n",
    "# split into train and test\n",
    "X_train, X_test, y_train, y_test = train_test_split(X, y, test_size=0.50, random_state=1, stratify=y)\n",
    "# split train into labeled and unlabeled\n",
    "X_train_lab, X_test_unlab, y_train_lab, y_test_unlab = train_test_split(X_train, y_train, test_size=0.50, random_state=1, stratify=y_train)\n",
    "# define model\n",
    "model = LogisticRegression()\n",
    "# fit model on labeled dataset\n",
    "model.fit(X_train_lab, y_train_lab)\n",
    "# make predictions on hold out test set\n",
    "yhat = model.predict(X_test)\n",
    "# calculate score for test set\n",
    "score = accuracy_score(y_test, yhat)\n",
    "# summarize score\n",
    "print('Accuracy: %.3f' % (score*100))\n"
   ]
  },
  {
   "cell_type": "raw",
   "id": "1eaca58c",
   "metadata": {},
   "source": [
    "Running the algorithm fits the model on the labeled training dataset and evaluates it on the holdout dataset and prints the classification accuracy.\n",
    "\n",
    "Note: Your results may vary given the stochastic nature of the algorithm or evaluation procedure, or differences in numerical precision. Consider running the example a few times and compare the average outcome.\n",
    "\n",
    "In this case, we can see that the algorithm achieved a classification accuracy of about 84.8 percent.\n",
    "\n",
    "We would expect an effective semi-supervised learning algorithm to achieve better accuracy than this.\n",
    "\n",
    "Accuracy: 84.800\n",
    "Next, let’s explore how to apply the label propagation algorithm to the dataset."
   ]
  },
  {
   "cell_type": "markdown",
   "id": "8ce5fc3e",
   "metadata": {},
   "source": [
    "# Label Propagation for Semi-Supervised Learning"
   ]
  },
  {
   "cell_type": "raw",
   "id": "dbb59c0e",
   "metadata": {},
   "source": [
    "\n",
    "The Label Propagation algorithm is available in the scikit-learn Python machine learning library via the LabelPropagation class.\n",
    "\n",
    "The model can be fit just like any other classification model by calling the fit() function and used to make predictions for new data via the predict() function.\n",
    "\n",
    "...\n",
    "# define model\n",
    "model = LabelPropagation()\n",
    "# fit model on training dataset\n",
    "model.fit(..., ...)\n",
    "# make predictions on hold out test set\n",
    "yhat = model.predict(...)\n",
    "Importantly, the training dataset provided to the fit() function must include labeled examples that are integer encoded (as per normal) and unlabeled examples marked with a label of -1.\n",
    "\n",
    "The model will then determine a label for the unlabeled examples as part of fitting the model.\n",
    "\n",
    "After the model is fit, the estimated labels for the labeled and unlabeled data in the training dataset is available via the “transduction_” attribute on the LabelPropagation class.\n",
    "\n",
    "...\n",
    "# get labels for entire training dataset data\n",
    "tran_labels = model.transduction_\n",
    "Now that we are familiar with how to use the Label Propagation algorithm in scikit-learn, let’s look at how we might apply it to our semi-supervised learning dataset.\n",
    "\n",
    "First, we must prepare the training dataset.\n",
    "\n",
    "We can concatenate the input data of the training dataset into a single array."
   ]
  },
  {
   "cell_type": "raw",
   "id": "feb28d46",
   "metadata": {},
   "source": [
    "\n",
    "...\n",
    "# create the training dataset input\n",
    "X_train_mixed = concatenate((X_train_lab, X_test_unlab))\n",
    "We can then create a list of -1 valued (unlabeled) for each row in the unlabeled portion of the training dataset.\n",
    "\n",
    "...\n",
    "# create \"no label\" for unlabeled data\n",
    "nolabel = [-1 for _ in range(len(y_test_unlab))]\n",
    "This list can then be concatenated with the labels from the labeled portion of the training dataset to correspond with the input array for the training dataset.\n",
    "\n",
    "...\n",
    "# recombine training dataset labels\n",
    "y_train_mixed = concatenate((y_train_lab, nolabel))\n",
    "We can now train the LabelPropagation model on the entire training dataset.\n",
    "\n",
    "...\n",
    "# define model\n",
    "model = LabelPropagation()\n",
    "# fit model on training dataset\n",
    "model.fit(X_train_mixed, y_train_mixed)\n",
    "Next, we can use the model to make predictions on the holdout dataset and evaluate the model using classification accuracy.\n",
    "\n",
    "...\n",
    "# make predictions on hold out test set\n",
    "yhat = model.predict(X_test)\n",
    "# calculate score for test set\n",
    "score = accuracy_score(y_test, yhat)\n",
    "# summarize score\n",
    "print('Accuracy: %.3f' % (score*100))\n",
    "Tying this together, the complete example of evaluating label propagation on the semi-supervised learning dataset is listed below."
   ]
  },
  {
   "cell_type": "code",
   "execution_count": 2,
   "id": "dd61ff0f",
   "metadata": {},
   "outputs": [
    {
     "name": "stdout",
     "output_type": "stream",
     "text": [
      "Accuracy: 85.600\n"
     ]
    }
   ],
   "source": [
    "\n",
    "# evaluate label propagation on the semi-supervised learning dataset\n",
    "from numpy import concatenate\n",
    "from sklearn.datasets import make_classification\n",
    "from sklearn.model_selection import train_test_split\n",
    "from sklearn.metrics import accuracy_score\n",
    "from sklearn.semi_supervised import LabelPropagation\n",
    "# define dataset\n",
    "X, y = make_classification(n_samples=1000, n_features=2, n_informative=2, n_redundant=0, random_state=1)\n",
    "# split into train and test\n",
    "X_train, X_test, y_train, y_test = train_test_split(X, y, test_size=0.50, random_state=1, stratify=y)\n",
    "# split train into labeled and unlabeled\n",
    "X_train_lab, X_test_unlab, y_train_lab, y_test_unlab = train_test_split(X_train, y_train, test_size=0.50, random_state=1, stratify=y_train)\n",
    "# create the training dataset input\n",
    "X_train_mixed = concatenate((X_train_lab, X_test_unlab))\n",
    "# create \"no label\" for unlabeled data\n",
    "nolabel = [-1 for _ in range(len(y_test_unlab))]\n",
    "# recombine training dataset labels\n",
    "y_train_mixed = concatenate((y_train_lab, nolabel))\n",
    "# define model\n",
    "model = LabelPropagation()\n",
    "# fit model on training dataset\n",
    "model.fit(X_train_mixed, y_train_mixed)\n",
    "# make predictions on hold out test set\n",
    "yhat = model.predict(X_test)\n",
    "# calculate score for test set\n",
    "score = accuracy_score(y_test, yhat)\n",
    "# summarize score\n",
    "print('Accuracy: %.3f' % (score*100))"
   ]
  },
  {
   "cell_type": "raw",
   "id": "e1d3ec45",
   "metadata": {},
   "source": [
    "Running the algorithm fits the model on the entire training dataset and evaluates it on the holdout dataset and prints the classification accuracy.\n",
    "\n",
    "Note: Your results may vary given the stochastic nature of the algorithm or evaluation procedure, or differences in numerical precision. Consider running the example a few times and compare the average outcome.\n",
    "\n",
    "In this case, we can see that the label propagation model achieves a classification accuracy of about 85.6 percent, which is slightly higher than a logistic regression fit only on the labeled training dataset that achieved an accuracy of about 84.8 percent.\n",
    "\n",
    "Accuracy: 85.600\n",
    "So far, so good.\n",
    "\n"
   ]
  },
  {
   "cell_type": "raw",
   "id": "5c2bc086",
   "metadata": {},
   "source": [
    "Another approach we can use with the semi-supervised model is to take the estimated labels for the training dataset and fit a supervised learning model.\n",
    "\n",
    "Recall that we can retrieve the labels for the entire training dataset from the label propagation model as follows:\n",
    "\n",
    "...\n",
    "# get labels for entire training dataset data\n",
    "tran_labels = model.transduction_\n",
    "We can then use these labels along with all of the input data to train and evaluate a supervised learning algorithm, such as a logistic regression model.\n",
    "\n",
    "The hope is that the supervised learning model fit on the entire training dataset would achieve even better performance than the semi-supervised learning model alone.\n",
    "\n",
    "\n",
    "...\n",
    "# define supervised learning model\n",
    "model2 = LogisticRegression()\n",
    "# fit supervised learning model on entire training dataset\n",
    "model2.fit(X_train_mixed, tran_labels)\n",
    "# make predictions on hold out test set\n",
    "yhat = model2.predict(X_test)\n",
    "# calculate score for test set\n",
    "score = accuracy_score(y_test, yhat)\n",
    "# summarize score\n",
    "print('Accuracy: %.3f' % (score*100))\n",
    "Tying this together, the complete example of using the estimated training set labels to train and evaluate a supervised learning model is listed below"
   ]
  },
  {
   "cell_type": "code",
   "execution_count": 3,
   "id": "588b63cb",
   "metadata": {},
   "outputs": [
    {
     "name": "stdout",
     "output_type": "stream",
     "text": [
      "Accuracy: 86.200\n"
     ]
    }
   ],
   "source": [
    "\n",
    "# evaluate logistic regression fit on label propagation for semi-supervised learning\n",
    "from numpy import concatenate\n",
    "from sklearn.datasets import make_classification\n",
    "from sklearn.model_selection import train_test_split\n",
    "from sklearn.metrics import accuracy_score\n",
    "from sklearn.semi_supervised import LabelPropagation\n",
    "from sklearn.linear_model import LogisticRegression\n",
    "# define dataset\n",
    "X, y = make_classification(n_samples=1000, n_features=2, n_informative=2, n_redundant=0, random_state=1)\n",
    "# split into train and test\n",
    "X_train, X_test, y_train, y_test = train_test_split(X, y, test_size=0.50, random_state=1, stratify=y)\n",
    "# split train into labeled and unlabeled\n",
    "X_train_lab, X_test_unlab, y_train_lab, y_test_unlab = train_test_split(X_train, y_train, test_size=0.50, random_state=1, stratify=y_train)\n",
    "# create the training dataset input\n",
    "X_train_mixed = concatenate((X_train_lab, X_test_unlab))\n",
    "# create \"no label\" for unlabeled data\n",
    "nolabel = [-1 for _ in range(len(y_test_unlab))]\n",
    "# recombine training dataset labels\n",
    "y_train_mixed = concatenate((y_train_lab, nolabel))\n",
    "# define model\n",
    "model = LabelPropagation()\n",
    "# fit model on training dataset\n",
    "model.fit(X_train_mixed, y_train_mixed)\n",
    "# get labels for entire training dataset data\n",
    "tran_labels = model.transduction_\n",
    "# define supervised learning model\n",
    "model2 = LogisticRegression()\n",
    "# fit supervised learning model on entire training dataset\n",
    "model2.fit(X_train_mixed, tran_labels)\n",
    "# make predictions on hold out test set\n",
    "yhat = model2.predict(X_test)\n",
    "# calculate score for test set\n",
    "score = accuracy_score(y_test, yhat)\n",
    "# summarize score\n",
    "print('Accuracy: %.3f' % (score*100))"
   ]
  },
  {
   "cell_type": "raw",
   "id": "65326d31",
   "metadata": {},
   "source": [
    "Running the algorithm fits the semi-supervised model on the entire training dataset, then fits a supervised learning model on the entire training dataset with inferred labels and evaluates it on the holdout dataset, printing the classification accuracy.\n",
    "\n",
    "Note: Your results may vary given the stochastic nature of the algorithm or evaluation procedure, or differences in numerical precision. Consider running the example a few times and compare the average outcome.\n",
    "\n",
    "In this case, we can see that this hierarchical approach of the semi-supervised model followed by supervised model achieves a classification accuracy of about 86.2 percent on the holdout dataset, even better than the semi-supervised learning used alone that achieved an accuracy of about 85.6 percent.\n",
    "\n",
    "Accuracy: 86.200\n",
    "Can you achieve better results by tuning the hyperparameters of the LabelPropagation model?\n",
    "Let me know what you discover in the comments below."
   ]
  },
  {
   "cell_type": "code",
   "execution_count": null,
   "id": "117045f2",
   "metadata": {},
   "outputs": [],
   "source": []
  },
  {
   "cell_type": "code",
   "execution_count": null,
   "id": "661e4057",
   "metadata": {},
   "outputs": [],
   "source": []
  }
 ],
 "metadata": {
  "kernelspec": {
   "display_name": "Python 3",
   "language": "python",
   "name": "python3"
  },
  "language_info": {
   "codemirror_mode": {
    "name": "ipython",
    "version": 3
   },
   "file_extension": ".py",
   "mimetype": "text/x-python",
   "name": "python",
   "nbconvert_exporter": "python",
   "pygments_lexer": "ipython3",
   "version": "3.8.8"
  }
 },
 "nbformat": 4,
 "nbformat_minor": 5
}

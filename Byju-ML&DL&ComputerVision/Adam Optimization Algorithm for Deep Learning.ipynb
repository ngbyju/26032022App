{
 "cells": [
  {
   "cell_type": "markdown",
   "id": "b63838d4",
   "metadata": {},
   "source": [
    "# Gentle Introduction to the Adam Optimization Algorithm for Deep Learning\n",
    "https://machinelearningmastery.com/adam-optimization-algorithm-for-deep-learning/"
   ]
  },
  {
   "cell_type": "code",
   "execution_count": null,
   "id": "f2b143e7",
   "metadata": {},
   "outputs": [],
   "source": [
    "The choice of optimization algorithm for your deep learning model can mean the difference between good results in minutes, hours, and days.\n",
    "The Adam optimization algorithm is an extension to stochastic gradient descent that has recently seen broader adoption for deep learning applications in computer vision and natural language processing.\n",
    "In this post, you will get a gentle introduction to the Adam optimization algorithm for use in deep learning.\n",
    "After reading this post, you will know:\n",
    "•\tWhat the Adam algorithm is and some benefits of using the method to optimize your models.\n",
    "•\tHow the Adam algorithm works and how it is different from the related methods of AdaGrad and RMSProp.\n",
    "•\tHow the Adam algorithm can be configured and commonly used configuration parameters."
   ]
  },
  {
   "cell_type": "markdown",
   "id": "e64aec8c",
   "metadata": {},
   "source": [
    "# How Does Adam Work?"
   ]
  },
  {
   "cell_type": "raw",
   "id": "cb01c2de",
   "metadata": {},
   "source": [
    "How Does Adam Work?\n",
    "Adam is different to classical stochastic gradient descent.\n",
    "Stochastic gradient descent maintains a single learning rate (termed alpha) for all weight updates and the learning rate does not change during training.\n",
    "A learning rate is maintained for each network weight (parameter) and separately adapted as learning unfolds.\n",
    "The method computes individual adaptive learning rates for different parameters from estimates of first and second moments of the gradients.\n",
    "The authors describe Adam as combining the advantages of two other extensions of stochastic gradient descent. Specifically:\n",
    "•\tAdaptive Gradient Algorithm (AdaGrad) that maintains a per-parameter learning rate that improves performance on problems with sparse gradients (e.g. natural language and computer vision problems).\n",
    "•\tRoot Mean Square Propagation (RMSProp) that also maintains per-parameter learning rates that are adapted based on the average of recent magnitudes of the gradients for the weight (e.g. how quickly it is changing). This means the algorithm does well on online and non-stationary problems (e.g. noisy).\n",
    "Adam realizes the benefits of both AdaGrad and RMSProp.\n",
    "Instead of adapting the parameter learning rates based on the average first moment (the mean) as in RMSProp, Adam also makes use of the average of the second moments of the gradients (the uncentered variance).\n",
    "Specifically, the algorithm calculates an exponential moving average of the gradient and the squared gradient, and the parameters beta1 and beta2 control the decay rates of these moving averages.\n",
    "The initial value of the moving averages and beta1 and beta2 values close to 1.0 (recommended) result in a bias of moment estimates towards zero. This bias is overcome by first calculating the biased estimates before then calculating bias-corrected estimates.\n",
    "The paper is quite readable and I would encourage you to read it if you are interested in the specific implementation details.\n"
   ]
  },
  {
   "cell_type": "raw",
   "id": "bbb86f10",
   "metadata": {},
   "source": [
    "\n",
    "Adam Configuration Parameters\n",
    "•\talpha. Also referred to as the learning rate or step size. The proportion that weights are updated (e.g. 0.001). Larger values (e.g. 0.3) results in faster initial learning before the rate is updated. Smaller values (e.g. 1.0E-5) slow learning right down during training\n",
    "•\tbeta1. The exponential decay rate for the first moment estimates (e.g. 0.9).\n",
    "•\tbeta2. The exponential decay rate for the second-moment estimates (e.g. 0.999). This value should be set close to 1.0 on problems with a sparse gradient (e.g. NLP and computer vision problems).\n",
    "•\tepsilon. Is a very small number to prevent any division by zero in the implementation (e.g. 10E-8).\n",
    "Further, learning rate decay can also be used with Adam. The paper uses a decay rate alpha = alpha/sqrt(t) updted each epoch (t) for the logistic regression demonstration.\n"
   ]
  },
  {
   "cell_type": "raw",
   "id": "742be714",
   "metadata": {},
   "source": [
    "The Adam paper suggests:\n",
    "Good default settings for the tested machine learning problems are alpha=0.001, beta1=0.9, beta2=0.999 and epsilon=10−8\n",
    "The TensorFlow documentation suggests some tuning of epsilon:\n",
    "The default value of 1e-8 for epsilon might not be a good default in general. For example, when training an Inception network on ImageNet a current good choice is 1.0 or 0.1.\n"
   ]
  },
  {
   "cell_type": "raw",
   "id": "99e9ae0f",
   "metadata": {},
   "source": [
    "We can see that the popular deep learning libraries generally use the default parameters recommended by the paper.\n",
    "•\tTensorFlow: learning_rate=0.001, beta1=0.9, beta2=0.999, epsilon=1e-08.\n",
    "•\tKeras: lr=0.001, beta_1=0.9, beta_2=0.999, epsilon=1e-08, decay=0.0.\n",
    "•\tBlocks: learning_rate=0.002, beta1=0.9, beta2=0.999, epsilon=1e-08, decay_factor=1.\n",
    "•\tLasagne: learning_rate=0.001, beta1=0.9, beta2=0.999, epsilon=1e-08\n",
    "•\tCaffe: learning_rate=0.001, beta1=0.9, beta2=0.999, epsilon=1e-08\n",
    "•\tMxNet: learning_rate=0.001, beta1=0.9, beta2=0.999, epsilon=1e-8\n",
    "•\tTorch: learning_rate=0.001, beta1=0.9, beta2=0.999, epsilon=1e-8\n"
   ]
  },
  {
   "cell_type": "code",
   "execution_count": null,
   "id": "2808dff1",
   "metadata": {},
   "outputs": [],
   "source": []
  },
  {
   "cell_type": "code",
   "execution_count": null,
   "id": "0702d1a7",
   "metadata": {},
   "outputs": [],
   "source": []
  }
 ],
 "metadata": {
  "kernelspec": {
   "display_name": "Python 3",
   "language": "python",
   "name": "python3"
  },
  "language_info": {
   "codemirror_mode": {
    "name": "ipython",
    "version": 3
   },
   "file_extension": ".py",
   "mimetype": "text/x-python",
   "name": "python",
   "nbconvert_exporter": "python",
   "pygments_lexer": "ipython3",
   "version": "3.8.8"
  }
 },
 "nbformat": 4,
 "nbformat_minor": 5
}

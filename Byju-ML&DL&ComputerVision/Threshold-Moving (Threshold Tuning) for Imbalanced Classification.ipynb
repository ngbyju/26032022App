{
 "cells": [
  {
   "cell_type": "markdown",
   "id": "46791b98",
   "metadata": {},
   "source": [
    "# A Gentle Introduction to Threshold-Moving for Imbalanced Classification\n",
    " https://machinelearningmastery.com/threshold-moving-for-imbalanced-classification/"
   ]
  },
  {
   "cell_type": "raw",
   "id": "300bfc1e",
   "metadata": {},
   "source": [
    "Classification predictive modeling typically involves predicting a class label.\n",
    "\n",
    "Nevertheless, many machine learning algorithms are capable of predicting a probability or scoring of class membership, and this must be interpreted before it can be mapped to a crisp class label. This is achieved by using a threshold, such as 0.5, where all values equal or greater than the threshold are mapped to one class and all other values are mapped to another class.\n",
    "\n",
    "For those classification problems that have a severe class imbalance, the default threshold can result in poor performance. As such, a simple and straightforward approach to improving the performance of a classifier that predicts probabilities on an imbalanced classification problem is to tune the threshold used to map probabilities to class labels.\n",
    "\n",
    "In some cases, such as when using ROC Curves and Precision-Recall Curves, the best or optimal threshold for the classifier can be calculated directly. In other cases, it is possible to use a grid search to tune the threshold and locate the optimal value.\n",
    "\n",
    "In this tutorial, you will discover how to tune the optimal threshold when converting probabilities to crisp class labels for imbalanced classification.\n",
    "\n",
    "After completing this tutorial, you will know:\n",
    "\n",
    "The default threshold for interpreting probabilities to class labels is 0.5, and tuning this hyperparameter is called threshold moving.\n",
    "How to calculate the optimal threshold for the ROC Curve and Precision-Recall Curve directly.\n",
    "How to manually search threshold values for a chosen model and model evaluation metric."
   ]
  },
  {
   "cell_type": "raw",
   "id": "1c0ae41f",
   "metadata": {},
   "source": [
    "Tutorial Overview\n",
    "This tutorial is divided into five parts; they are:\n",
    "\n",
    "Converting Probabilities to Class Labels\n",
    "Threshold-Moving for Imbalanced Classification\n",
    "Optimal Threshold for ROC Curve\n",
    "Optimal Threshold for Precision-Recall Curve\n",
    "Optimal Threshold Tuning"
   ]
  },
  {
   "cell_type": "markdown",
   "id": "4fbef453",
   "metadata": {},
   "source": [
    "# Converting Probabilities to Class Labels"
   ]
  },
  {
   "cell_type": "raw",
   "id": "6f7133d0",
   "metadata": {},
   "source": [
    "Converting Probabilities to Class Labels\n",
    "\n",
    "Many machine learning algorithms are capable of predicting a probability or a scoring of class membership.\n",
    "\n",
    "This is useful generally as it provides a measure of the certainty or uncertainty of a prediction. It also provides additional granularity over just predicting the class label that can be interpreted.\n",
    "\n",
    "Some classification tasks require a crisp class label prediction. This means that even though a probability or scoring of class membership is predicted, it must be converted into a crisp class label.\n",
    "\n",
    "The decision for converting a predicted probability or scoring into a class label is governed by a parameter referred to as the “decision threshold,” “discrimination threshold,” or simply the “threshold.” The default value for the threshold is 0.5 for normalized predicted probabilities or scores in the range between 0 or 1.\n",
    "\n",
    "For example, on a binary classification problem with class labels 0 and 1, normalized predicted probabilities and a threshold of 0.5, then values less than the threshold of 0.5 are assigned to class 0 and values greater than or equal to 0.5 are assigned to class 1.\n",
    "\n",
    "Prediction < 0.5 = Class 0\n",
    "Prediction >= 0.5 = Class 1\n",
    "The problem is that the default threshold may not represent an optimal interpretation of the predicted probabilities.\n",
    "\n",
    "This might be the case for a number of reasons, such as:\n",
    "\n",
    "The predicted probabilities are not calibrated, e.g. those predicted by an SVM or decision tree.\n",
    "The metric used to train the model is different from the metric used to evaluate a final model.\n",
    "The class distribution is severely skewed.\n",
    "The cost of one type of misclassification is more important than another type of misclassification.\n",
    "Worse still, some or all of these reasons may occur at the same time, such as the use of a neural network model with uncalibrated predicted probabilities on an imbalanced classification problem.\n",
    "\n",
    "As such, there is often the need to change the default decision threshold when interpreting the predictions of a model.\n",
    "\n",
    "… almost all classifiers generate positive or negative predictions by applying a threshold to a score. The choice of this threshold will have an impact in the trade-offs of positive and negative errors.\n",
    "\n",
    "— Page 53, Learning from Imbalanced Data Sets, 2018.\n",
    "\n"
   ]
  },
  {
   "cell_type": "raw",
   "id": "41b6db3b",
   "metadata": {},
   "source": [
    "Threshold-Moving for Imbalanced Classification\n",
    "\n",
    "There are many techniques that may be used to address an imbalanced classification problem, such as resampling the training dataset and developing customized version of machine learning algorithms.\n",
    "\n",
    "Nevertheless, perhaps the simplest approach to handle a severe class imbalance is to change the decision threshold. Although simple and very effective, this technique is often overlooked by practitioners and research academics alike as was noted by Foster Provost in his 2000 article titled “Machine Learning from Imbalanced Data Sets.”\n",
    "\n",
    "The bottom line is that when studying problems with imbalanced data, using the classifiers produced by standard machine learning algorithms without adjusting the output threshold may well be a critical mistake.\n",
    "\n",
    "— Machine Learning from Imbalanced Data Sets 101, 2000.\n",
    "\n",
    "There are many reasons to choose an alternative to the default decision threshold.\n",
    "\n",
    "For example, you may use ROC curves to analyze the predicted probabilities of a model and ROC AUC scores to compare and select a model, although you require crisp class labels from your model. How do you choose the threshold on the ROC Curve that results in the best balance between the true positive rate and the false positive rate?\n",
    "\n",
    "Alternately, you may use precision-recall curves to analyze the predicted probabilities of a model, precision-recall AUC to compare and select models, and require crisp class labels as predictions. How do you choose the threshold on the Precision-Recall Curve that results in the best balance between precision and recall?\n",
    "\n",
    "You may use a probability-based metric to train, evaluate, and compare models like log loss (cross-entropy) but require crisp class labels to be predicted. How do you choose the optimal threshold from predicted probabilities more generally?\n",
    "\n",
    "Finally, you may have different costs associated with false positive and false negative misclassification, a so-called cost matrix, but wish to use and evaluate cost-insensitive models and later evaluate their predictions use a cost-sensitive measure. How do you choose a threshold that finds the best trade-off for predictions using the cost matrix?\n",
    "\n",
    "Popular way of training a cost-sensitive classifier without a known cost matrix is to put emphasis on modifying the classification outputs when predictions are being made on new data. This is usually done by setting a threshold on the positive class, below which the negative one is being predicted. The value of this threshold is optimized using a validation set and thus the cost matrix can be learned from training data.\n",
    "\n",
    "— Page 67, Learning from Imbalanced Data Sets, 2018.\n",
    "\n",
    "The answer to these questions is to search a range of threshold values in order to find the best threshold. In some cases, the optimal threshold can be calculated directly.\n",
    "\n",
    "Tuning or shifting the decision threshold in order to accommodate the broader requirements of the classification problem is generally referred to as “threshold-moving,” “threshold-tuning,” or simply “thresholding.”\n",
    "\n",
    "It has been stated that trying other methods, such as sampling, without trying by simply setting the threshold may be misleading. The threshold-moving method uses the original training set to train [a model] and then moves the decision threshold such that the minority class examples are easier to be predicted correctly.\n",
    "\n",
    "— Pages 72, Imbalanced Learning: Foundations, Algorithms, and Applications, 2013.\n",
    "\n",
    "The process involves first fitting the model on a training dataset and making predictions on a test dataset. The predictions are in the form of normalized probabilities or scores that are transformed into normalized probabilities. Different threshold values are then tried and the resulting crisp labels are evaluated using a chosen evaluation metric. The threshold that achieves the best evaluation metric is then adopted for the model when making predictions on new data in the future.\n",
    "\n",
    "We can summarize this procedure below.\n",
    "\n",
    "1. Fit Model on the Training Dataset.\n",
    "2. Predict Probabilities on the Test Dataset.\n",
    "3. For each threshold in Thresholds:\n",
    "3a. Convert probabilities to Class Labels using the threshold.\n",
    "3b. Evaluate Class Labels.\n",
    "3c. If Score is Better than Best Score.\n",
    "3ci. Adopt Threshold.\n",
    "4. Use Adopted Threshold When Making Class Predictions on New Data.\n",
    "Although simple, there are a few different approaches to implementing threshold-moving depending on your circumstance. We will take a look at some of the most common examples in the following sections.\n",
    "\n"
   ]
  },
  {
   "cell_type": "markdown",
   "id": "a4361191",
   "metadata": {},
   "source": [
    "# Threshold-Moving for Imbalanced Classification"
   ]
  },
  {
   "cell_type": "raw",
   "id": "0b6b8eff",
   "metadata": {},
   "source": [
    "\n",
    "There are many techniques that may be used to address an imbalanced classification problem, such as resampling the training dataset and developing customized version of machine learning algorithms.\n",
    "\n",
    "Nevertheless, perhaps the simplest approach to handle a severe class imbalance is to change the decision threshold. Although simple and very effective, this technique is often overlooked by practitioners and research academics alike as was noted by Foster Provost in his 2000 article titled “Machine Learning from Imbalanced Data Sets.”\n",
    "\n",
    "The bottom line is that when studying problems with imbalanced data, using the classifiers produced by standard machine learning algorithms without adjusting the output threshold may well be a critical mistake.\n",
    "\n",
    "— Machine Learning from Imbalanced Data Sets 101, 2000.\n",
    "\n",
    "There are many reasons to choose an alternative to the default decision threshold.\n",
    "\n",
    "For example, you may use ROC curves to analyze the predicted probabilities of a model and ROC AUC scores to compare and select a model, although you require crisp class labels from your model. How do you choose the threshold on the ROC Curve that results in the best balance between the true positive rate and the false positive rate?\n",
    "\n",
    "Alternately, you may use precision-recall curves to analyze the predicted probabilities of a model, precision-recall AUC to compare and select models, and require crisp class labels as predictions. How do you choose the threshold on the Precision-Recall Curve that results in the best balance between precision and recall?\n",
    "\n",
    "You may use a probability-based metric to train, evaluate, and compare models like log loss (cross-entropy) but require crisp class labels to be predicted. How do you choose the optimal threshold from predicted probabilities more generally?\n",
    "\n",
    "Finally, you may have different costs associated with false positive and false negative misclassification, a so-called cost matrix, but wish to use and evaluate cost-insensitive models and later evaluate their predictions use a cost-sensitive measure. How do you choose a threshold that finds the best trade-off for predictions using the cost matrix?\n",
    "\n",
    "Popular way of training a cost-sensitive classifier without a known cost matrix is to put emphasis on modifying the classification outputs when predictions are being made on new data. This is usually done by setting a threshold on the positive class, below which the negative one is being predicted. The value of this threshold is optimized using a validation set and thus the cost matrix can be learned from training data.\n",
    "\n",
    "— Page 67, Learning from Imbalanced Data Sets, 2018.\n",
    "\n",
    "The answer to these questions is to search a range of threshold values in order to find the best threshold. In some cases, the optimal threshold can be calculated directly.\n",
    "\n",
    "Tuning or shifting the decision threshold in order to accommodate the broader requirements of the classification problem is generally referred to as “threshold-moving,” “threshold-tuning,” or simply “thresholding.”\n",
    "\n",
    "It has been stated that trying other methods, such as sampling, without trying by simply setting the threshold may be misleading. The threshold-moving method uses the original training set to train [a model] and then moves the decision threshold such that the minority class examples are easier to be predicted correctly.\n",
    "\n",
    "— Pages 72, Imbalanced Learning: Foundations, Algorithms, and Applications, 2013.\n",
    "\n",
    "The process involves first fitting the model on a training dataset and making predictions on a test dataset. The predictions are in the form of normalized probabilities or scores that are transformed into normalized probabilities. Different threshold values are then tried and the resulting crisp labels are evaluated using a chosen evaluation metric. The threshold that achieves the best evaluation metric is then adopted for the model when making predictions on new data in the future.\n",
    "\n",
    "We can summarize this procedure below.\n",
    "\n",
    "1. Fit Model on the Training Dataset.\n",
    "2. Predict Probabilities on the Test Dataset.\n",
    "3. For each threshold in Thresholds:\n",
    "3a. Convert probabilities to Class Labels using the threshold.\n",
    "3b. Evaluate Class Labels.\n",
    "3c. If Score is Better than Best Score.\n",
    "3ci. Adopt Threshold.\n",
    "4. Use Adopted Threshold When Making Class Predictions on New Data.\n",
    "Although simple, there are a few different approaches to implementing threshold-moving depending on your circumstance. We will take a look at some of the most common examples in the following sections."
   ]
  },
  {
   "cell_type": "markdown",
   "id": "6981b923",
   "metadata": {},
   "source": [
    "# Optimal Threshold for ROC Curve"
   ]
  },
  {
   "cell_type": "raw",
   "id": "114ce64d",
   "metadata": {},
   "source": [
    "A ROC curve is a diagnostic plot that evaluates a set of probability predictions made by a model on a test dataset.\n",
    "\n",
    "A set of different thresholds are used to interpret the true positive rate and the false positive rate of the predictions on the positive (minority) class, and the scores are plotted in a line of increasing thresholds to create a curve.\n",
    "\n",
    "The false-positive rate is plotted on the x-axis and the true positive rate is plotted on the y-axis and the plot is referred to as the Receiver Operating Characteristic curve, or ROC curve. A diagonal line on the plot from the bottom-left to top-right indicates the “curve” for a no-skill classifier (predicts the majority class in all cases), and a point in the top left of the plot indicates a model with perfect skill.\n",
    "\n",
    "The curve is useful to understand the trade-off in the true-positive rate and false-positive rate for different thresholds. The area under the ROC Curve, so-called ROC AUC, provides a single number to summarize the performance of a model in terms of its ROC Curve with a value between 0.5 (no-skill) and 1.0 (perfect skill).\n",
    "\n",
    "The ROC Curve is a useful diagnostic tool for understanding the trade-off for different thresholds and the ROC AUC provides a useful number for comparing models based on their general capabilities.\n",
    "\n",
    "If crisp class labels are required from a model under such an analysis, then an optimal threshold is required. This would be a threshold on the curve that is closest to the top-left of the plot.\n",
    "\n",
    "Thankfully, there are principled ways of locating this point.\n",
    "\n",
    "First, let’s fit a model and calculate a ROC Curve.\n",
    "\n",
    "We can use the make_classification() function to create a synthetic binary classification problem with 10,000 examples (rows), 99 percent of which belong to the majority class and 1 percent belong to the minority class."
   ]
  },
  {
   "cell_type": "raw",
   "id": "ebc609f0",
   "metadata": {},
   "source": [
    "We can then split the dataset using the train_test_split() function and use half for the training set and half for the test set."
   ]
  },
  {
   "cell_type": "raw",
   "id": "34d73d17",
   "metadata": {},
   "source": [
    "We can then fit a LogisticRegression model and use it to make probability predictions on the test set and keep only the probability predictions for the minority class."
   ]
  },
  {
   "cell_type": "raw",
   "id": "76ce9db3",
   "metadata": {},
   "source": [
    "We can then use the roc_auc_score() function to calculate the true-positive rate and false-positive rate for the predictions using a set of thresholds that can then be used to create a ROC Curve plot."
   ]
  },
  {
   "cell_type": "raw",
   "id": "c5f0e71e",
   "metadata": {},
   "source": [
    "We can tie this all together, defining the dataset, fitting the model, and creating the ROC Curve plot. The complete example is listed below."
   ]
  },
  {
   "cell_type": "code",
   "execution_count": 5,
   "id": "653aa539",
   "metadata": {},
   "outputs": [
    {
     "data": {
      "image/png": "[encoded data removed]",
      "text/plain": [
       "<Figure size 432x288 with 1 Axes>"
      ]
     },
     "metadata": {
      "needs_background": "light"
     },
     "output_type": "display_data"
    }
   ],
   "source": [
    "# roc curve for logistic regression model\n",
    "from sklearn.datasets import make_classification\n",
    "from sklearn.linear_model import LogisticRegression\n",
    "from sklearn.model_selection import train_test_split\n",
    "from sklearn.metrics import roc_curve\n",
    "from matplotlib import pyplot\n",
    "# generate dataset\n",
    "X, y = make_classification(n_samples=10000, n_features=2, n_redundant=0,\n",
    "\tn_clusters_per_class=1, weights=[0.99], flip_y=0, random_state=4)\n",
    "# split into train/test sets\n",
    "trainX, testX, trainy, testy = train_test_split(X, y, test_size=0.5, random_state=2, stratify=y)\n",
    "# fit a model\n",
    "model = LogisticRegression(solver='lbfgs')\n",
    "model.fit(trainX, trainy)\n",
    "# predict probabilities\n",
    "yhat = model.predict_proba(testX)\n",
    "# keep probabilities for the positive outcome only\n",
    "yhat = yhat[:, 1]\n",
    "# calculate roc curves\n",
    "fpr, tpr, thresholds = roc_curve(testy, yhat)\n",
    "# plot the roc curve for the model\n",
    "pyplot.plot([0,1], [0,1], linestyle='--', label='No Skill')\n",
    "pyplot.plot(fpr, tpr, marker='.', label='Logistic')\n",
    "# axis labels\n",
    "pyplot.xlabel('False Positive Rate')\n",
    "pyplot.ylabel('True Positive Rate')\n",
    "pyplot.legend()\n",
    "# show the plot\n",
    "pyplot.show()"
   ]
  },
  {
   "cell_type": "raw",
   "id": "7f483ec2",
   "metadata": {},
   "source": [
    "Running the example fits a logistic regression model on the training dataset then evaluates it using a range of thresholds on the test set, creating the ROC Curve\n",
    "\n",
    "We can see that there are a number of points or thresholds close to the top-left of the plot.\n",
    "\n",
    "Which is the threshold that is optimal?"
   ]
  },
  {
   "cell_type": "raw",
   "id": "23e24d64",
   "metadata": {},
   "source": [
    "There are many ways we could locate the threshold with the optimal balance between false positive and true positive rates.\n",
    "\n",
    "Firstly, the true positive rate is called the Sensitivity. The inverse of the false-positive rate is called the Specificity.\n",
    "\n",
    "Sensitivity = TruePositive / (TruePositive + FalseNegative)\n",
    "Specificity = TrueNegative / (FalsePositive + TrueNegative)\n",
    "Where:\n",
    "\n",
    "Sensitivity = True Positive Rate\n",
    "Specificity = 1 – False Positive Rate\n",
    "The Geometric Mean or G-Mean is a metric for imbalanced classification that, if optimized, will seek a balance between the sensitivity and the specificity.\n",
    "\n",
    "G-Mean = sqrt(Sensitivity * Specificity)\n",
    "One approach would be to test the model with each threshold returned from the call roc_auc_score() and select the threshold with the largest G-Mean value.\n",
    "\n",
    "Given that we have already calculated the Sensitivity (TPR) and the complement to the Specificity when we calculated the ROC Curve, we can calculate the G-Mean for each threshold directly."
   ]
  },
  {
   "cell_type": "raw",
   "id": "605f7b0b",
   "metadata": {},
   "source": [
    "Once calculated, we can locate the index for the largest G-mean score and use that index to determine which threshold value to use."
   ]
  },
  {
   "cell_type": "code",
   "execution_count": null,
   "id": "400e3d08",
   "metadata": {},
   "outputs": [],
   "source": [
    "We can also re-draw the ROC Curve and highlight this point.\n",
    "\n",
    "The complete example is listed below."
   ]
  },
  {
   "cell_type": "code",
   "execution_count": 13,
   "id": "852d173f",
   "metadata": {
    "scrolled": true
   },
   "outputs": [
    {
     "name": "stdout",
     "output_type": "stream",
     "text": [
      "Best Threshold=0.016153, G-Mean=0.933\n"
     ]
    },
    {
     "data": {
      "image/png": "[encoded data removed]",
      "text/plain": [
       "<Figure size 432x288 with 1 Axes>"
      ]
     },
     "metadata": {
      "needs_background": "light"
     },
     "output_type": "display_data"
    }
   ],
   "source": [
    "# roc curve for logistic regression model with optimal threshold\n",
    "from numpy import sqrt\n",
    "from numpy import argmax\n",
    "from sklearn.datasets import make_classification\n",
    "from sklearn.linear_model import LogisticRegression\n",
    "from sklearn.model_selection import train_test_split\n",
    "from sklearn.metrics import roc_curve\n",
    "from matplotlib import pyplot\n",
    "# generate dataset\n",
    "X, y = make_classification(n_samples=10000, n_features=2, n_redundant=0,\n",
    "\tn_clusters_per_class=1, weights=[0.99], flip_y=0, random_state=4)\n",
    "# split into train/test sets\n",
    "trainX, testX, trainy, testy = train_test_split(X, y, test_size=0.5, random_state=2, stratify=y)\n",
    "# fit a model\n",
    "model = LogisticRegression(solver='lbfgs')\n",
    "model.fit(trainX, trainy)\n",
    "# predict probabilities\n",
    "yhat = model.predict_proba(testX)\n",
    "# keep probabilities for the positive outcome only\n",
    "yhat = yhat[:, 1]\n",
    "# calculate roc curves\n",
    "fpr, tpr, thresholds = roc_curve(testy, yhat)\n",
    "# calculate the g-mean for each threshold\n",
    "gmeans = sqrt(tpr * (1-fpr))\n",
    "# locate the index of the largest g-mean\n",
    "ix = argmax(gmeans)\n",
    "print('Best Threshold=%f, G-Mean=%.3f' % (thresholds[ix], gmeans[ix]))\n",
    "# plot the roc curve for the model\n",
    "pyplot.plot([0,1], [0,1], linestyle='--', label='No Skill')\n",
    "pyplot.plot(fpr, tpr, marker='.', label='Logistic')\n",
    "pyplot.scatter(fpr[ix], tpr[ix], marker='o', color='black', label='Best')\n",
    "# axis labels\n",
    "pyplot.xlabel('False Positive Rate')\n",
    "pyplot.ylabel('True Positive Rate')\n",
    "pyplot.legend()\n",
    "# show the plot\n",
    "pyplot.show()"
   ]
  },
  {
   "cell_type": "code",
   "execution_count": 14,
   "id": "4d95fa31",
   "metadata": {},
   "outputs": [
    {
     "data": {
      "text/plain": [
       "0.9334372236551586"
      ]
     },
     "execution_count": 14,
     "metadata": {},
     "output_type": "execute_result"
    }
   ],
   "source": [
    "max(gmeans)"
   ]
  },
  {
   "cell_type": "code",
   "execution_count": 11,
   "id": "eebd7880",
   "metadata": {},
   "outputs": [
    {
     "data": {
      "text/plain": [
       "34"
      ]
     },
     "execution_count": 11,
     "metadata": {},
     "output_type": "execute_result"
    }
   ],
   "source": [
    "argmax(gmeans)"
   ]
  },
  {
   "cell_type": "code",
   "execution_count": 12,
   "id": "661a464b",
   "metadata": {},
   "outputs": [
    {
     "data": {
      "text/plain": [
       "(0.016152851152469214, 0.9334372236551586)"
      ]
     },
     "execution_count": 12,
     "metadata": {},
     "output_type": "execute_result"
    }
   ],
   "source": [
    "thresholds[ix], gmeans[ix]"
   ]
  },
  {
   "cell_type": "raw",
   "id": "d3d7b4b2",
   "metadata": {},
   "source": [
    "Running the example first locates the optimal threshold and reports this threshold and the G-Mean score.\n",
    "\n",
    "Note: Your results may vary given the stochastic nature of the algorithm or evaluation procedure, or differences in numerical precision. Consider running the example a few times and compare the average outcome.\n",
    "\n",
    "In this case, we can see that the optimal threshold is about 0.016153."
   ]
  },
  {
   "cell_type": "raw",
   "id": "694807ac",
   "metadata": {},
   "source": [
    "The threshold is then used to locate the true and false positive rates, then this point is drawn on the ROC Curve.\n",
    "\n",
    "We can see that the point for the optimal threshold is a large black dot and it appears to be closest to the top-left of the plot(as you see ab0ove)."
   ]
  },
  {
   "cell_type": "raw",
   "id": "a08e6643",
   "metadata": {},
   "source": [
    "It turns out there is a much faster way to get the same result, called the Youden’s J statistic.\n",
    "\n",
    "The statistic is calculated as:\n",
    "\n",
    "J = Sensitivity + Specificity – 1\n",
    "Given that we have Sensitivity (TPR) and the complement of the specificity (FPR), we can calculate it as:\n",
    "\n",
    "J = Sensitivity + (1 – FalsePositiveRate) – 1\n",
    "Which we can restate as:\n",
    "\n",
    "J = TruePositiveRate – FalsePositiveRate\n",
    "We can then choose the threshold with the largest J statistic value. For example:"
   ]
  },
  {
   "cell_type": "code",
   "execution_count": 16,
   "id": "4137bf41",
   "metadata": {},
   "outputs": [
    {
     "name": "stdout",
     "output_type": "stream",
     "text": [
      "Best Threshold=0.016153\n"
     ]
    }
   ],
   "source": [
    "#Plugging this in, the complete example is listed below.\n",
    "\n",
    "# roc curve for logistic regression model with optimal threshold\n",
    "from numpy import argmax\n",
    "from sklearn.datasets import make_classification\n",
    "from sklearn.linear_model import LogisticRegression\n",
    "from sklearn.model_selection import train_test_split\n",
    "from sklearn.metrics import roc_curve\n",
    "# generate dataset\n",
    "X, y = make_classification(n_samples=10000, n_features=2, n_redundant=0,\n",
    "\tn_clusters_per_class=1, weights=[0.99], flip_y=0, random_state=4)\n",
    "# split into train/test sets\n",
    "trainX, testX, trainy, testy = train_test_split(X, y, test_size=0.5, random_state=2, stratify=y)\n",
    "# fit a model\n",
    "model = LogisticRegression(solver='lbfgs')\n",
    "model.fit(trainX, trainy)\n",
    "# predict probabilities\n",
    "yhat = model.predict_proba(testX)\n",
    "# keep probabilities for the positive outcome only\n",
    "yhat = yhat[:, 1]\n",
    "# calculate roc curves\n",
    "fpr, tpr, thresholds = roc_curve(testy, yhat)\n",
    "# get the best threshold\n",
    "J = tpr - fpr\n",
    "ix = argmax(J)\n",
    "best_thresh = thresholds[ix]\n",
    "print('Best Threshold=%f' % (best_thresh))"
   ]
  },
  {
   "cell_type": "markdown",
   "id": "683504da",
   "metadata": {},
   "source": [
    "# Optimal Threshold for Precision-Recall Curve"
   ]
  },
  {
   "cell_type": "raw",
   "id": "7e6aee84",
   "metadata": {},
   "source": [
    "\n",
    "Unlike the ROC Curve, a precision-recall curve focuses on the performance of a classifier on the positive (minority class) only.\n",
    "\n",
    "Precision is the ratio of the number of true positives divided by the sum of the true positives and false positives. It describes how good a model is at predicting the positive class. Recall is calculated as the ratio of the number of true positives divided by the sum of the true positives and the false negatives. Recall is the same as sensitivity.\n",
    "\n",
    "A precision-recall curve is calculated by creating crisp class labels for probability predictions across a set of thresholds and calculating the precision and recall for each threshold. A line plot is created for the thresholds in ascending order with recall on the x-axis and precision on the y-axis.\n",
    "\n",
    "A no-skill model is represented by a horizontal line with a precision that is the ratio of positive examples in the dataset (e.g. TP / (TP + TN)), or 0.01 on our synthetic dataset. perfect skill classifier has full precision and recall with a dot in the top-right corner.\n",
    "\n",
    "We can use the same model and dataset from the previous section and evaluate the probability predictions for a logistic regression model using a precision-recall curve. The precision_recall_curve() function can be used to calculate the curve, returning the precision and recall scores for each threshold as well as the thresholds used."
   ]
  },
  {
   "cell_type": "code",
   "execution_count": 18,
   "id": "bb51e117",
   "metadata": {},
   "outputs": [
    {
     "data": {
      "image/png": "[encoded data removed]",
      "text/plain": [
       "<Figure size 432x288 with 1 Axes>"
      ]
     },
     "metadata": {
      "needs_background": "light"
     },
     "output_type": "display_data"
    }
   ],
   "source": [
    "# Tying this together, the complete example of calculating a precision-recall curve for a logistic regression on an imbalanced classification problem is listed below.\n",
    "\n",
    "# pr curve for logistic regression model\n",
    "from sklearn.datasets import make_classification\n",
    "from sklearn.linear_model import LogisticRegression\n",
    "from sklearn.model_selection import train_test_split\n",
    "from sklearn.metrics import precision_recall_curve\n",
    "from matplotlib import pyplot\n",
    "# generate dataset\n",
    "X, y = make_classification(n_samples=10000, n_features=2, n_redundant=0,\n",
    "\tn_clusters_per_class=1, weights=[0.99], flip_y=0, random_state=4)\n",
    "# split into train/test sets\n",
    "trainX, testX, trainy, testy = train_test_split(X, y, test_size=0.5, random_state=2, stratify=y)\n",
    "# fit a model\n",
    "model = LogisticRegression(solver='lbfgs')\n",
    "model.fit(trainX, trainy)\n",
    "# predict probabilities\n",
    "yhat = model.predict_proba(testX)\n",
    "# keep probabilities for the positive outcome only\n",
    "yhat = yhat[:, 1]\n",
    "# calculate pr-curve\n",
    "precision, recall, thresholds = precision_recall_curve(testy, yhat)\n",
    "# plot the roc curve for the model\n",
    "no_skill = len(testy[testy==1]) / len(testy)\n",
    "pyplot.plot([0,1], [no_skill,no_skill], linestyle='--', label='No Skill')\n",
    "pyplot.plot(recall, precision, marker='.', label='Logistic')\n",
    "# axis labels\n",
    "pyplot.xlabel('Recall')\n",
    "pyplot.ylabel('Precision')\n",
    "pyplot.legend()\n",
    "# show the plot\n",
    "pyplot.show()"
   ]
  },
  {
   "cell_type": "raw",
   "id": "bac868cb",
   "metadata": {},
   "source": [
    "Running the example calculates the precision and recall for each threshold and creates a precision-recall plot showing that the model has some skill across a range of thresholds on this dataset.\n",
    "\n",
    "If we required crisp class labels from this model, which threshold would achieve the best result?"
   ]
  },
  {
   "cell_type": "raw",
   "id": "5fdf1670",
   "metadata": {},
   "source": [
    "If we are interested in a threshold that results in the best balance of precision and recall, then this is the same as optimizing the F-measure that summarizes the harmonic mean of both measures.\n",
    "\n",
    "F-Measure = (2 * Precision * Recall) / (Precision + Recall)\n",
    "As in the previous section, the naive approach to finding the optimal threshold would be to calculate the F-measure for each threshold. We can achieve the same effect by converting the precision and recall measures to F-measure directly; for example:"
   ]
  },
  {
   "cell_type": "code",
   "execution_count": 19,
   "id": "9464e28f",
   "metadata": {},
   "outputs": [
    {
     "name": "stdout",
     "output_type": "stream",
     "text": [
      "Best Threshold=0.256036, F-Score=0.756\n"
     ]
    },
    {
     "data": {
      "image/png": "[encoded data removed]",
      "text/plain": [
       "<Figure size 432x288 with 1 Axes>"
      ]
     },
     "metadata": {
      "needs_background": "light"
     },
     "output_type": "display_data"
    }
   ],
   "source": [
    "#We can then plot the point on the precision-recall curve.\n",
    "\n",
    "#The complete example is listed below.\n",
    "\n",
    "# optimal threshold for precision-recall curve with logistic regression model\n",
    "from numpy import argmax\n",
    "from sklearn.datasets import make_classification\n",
    "from sklearn.linear_model import LogisticRegression\n",
    "from sklearn.model_selection import train_test_split\n",
    "from sklearn.metrics import precision_recall_curve\n",
    "from matplotlib import pyplot\n",
    "# generate dataset\n",
    "X, y = make_classification(n_samples=10000, n_features=2, n_redundant=0,\n",
    "\tn_clusters_per_class=1, weights=[0.99], flip_y=0, random_state=4)\n",
    "# split into train/test sets\n",
    "trainX, testX, trainy, testy = train_test_split(X, y, test_size=0.5, random_state=2, stratify=y)\n",
    "# fit a model\n",
    "model = LogisticRegression(solver='lbfgs')\n",
    "model.fit(trainX, trainy)\n",
    "# predict probabilities\n",
    "yhat = model.predict_proba(testX)\n",
    "# keep probabilities for the positive outcome only\n",
    "yhat = yhat[:, 1]\n",
    "# calculate roc curves\n",
    "precision, recall, thresholds = precision_recall_curve(testy, yhat)\n",
    "# convert to f score\n",
    "fscore = (2 * precision * recall) / (precision + recall)\n",
    "# locate the index of the largest f score\n",
    "ix = argmax(fscore)\n",
    "print('Best Threshold=%f, F-Score=%.3f' % (thresholds[ix], fscore[ix]))\n",
    "# plot the roc curve for the model\n",
    "no_skill = len(testy[testy==1]) / len(testy)\n",
    "pyplot.plot([0,1], [no_skill,no_skill], linestyle='--', label='No Skill')\n",
    "pyplot.plot(recall, precision, marker='.', label='Logistic')\n",
    "pyplot.scatter(recall[ix], precision[ix], marker='o', color='black', label='Best')\n",
    "# axis labels\n",
    "pyplot.xlabel('Recall')\n",
    "pyplot.ylabel('Precision')\n",
    "pyplot.legend()\n",
    "# show the plot\n",
    "pyplot.show()"
   ]
  },
  {
   "cell_type": "raw",
   "id": "f4ea5046",
   "metadata": {},
   "source": [
    "Running the example first calculates the F-measure for each threshold, then locates the score and threshold with the largest value.\n",
    "\n",
    "Note: Your results may vary given the stochastic nature of the algorithm or evaluation procedure, or differences in numerical precision. Consider running the example a few times and compare the average outcome.\n",
    "\n",
    "In this case, we can see that the best F-measure was 0.756 achieved with a threshold of about 0.25.\n",
    "\n",
    "\n",
    "The precision-recall curve is plotted, and this time the threshold with the optimal F-measure is plotted with a larger black dot.\n",
    "\n",
    "This threshold could then be used when making probability predictions in the future that must be converted from probabilities to crisp class labels."
   ]
  },
  {
   "cell_type": "markdown",
   "id": "84e22cd1",
   "metadata": {},
   "source": [
    "# Optimal Threshold Tuning"
   ]
  },
  {
   "cell_type": "raw",
   "id": "9a4d3956",
   "metadata": {},
   "source": [
    "\n",
    "Sometimes, we simply have a model and we wish to know the best threshold directly.\n",
    "\n",
    "In this case, we can define a set of thresholds and then evaluate predicted probabilities under each in order to find and select the optimal threshold.\n",
    "\n",
    "We can demonstrate this with a worked example.\n",
    "\n",
    "First, we can fit a logistic regression model on our synthetic classification problem, then predict class labels and evaluate them using the F-Measure, which is the harmonic mean of precision and recall.\n",
    "\n",
    "This will use the default threshold of 0.5 when interpreting the probabilities predicted by the logistic regression model.\n",
    "\n",
    "The complete example is listed below.\n"
   ]
  },
  {
   "cell_type": "code",
   "execution_count": 20,
   "id": "0cf1d12b",
   "metadata": {},
   "outputs": [
    {
     "name": "stdout",
     "output_type": "stream",
     "text": [
      "F-Score: 0.70130\n"
     ]
    }
   ],
   "source": [
    "\n",
    "# logistic regression for imbalanced classification\n",
    "from sklearn.datasets import make_classification\n",
    "from sklearn.linear_model import LogisticRegression\n",
    "from sklearn.model_selection import train_test_split\n",
    "from sklearn.metrics import f1_score\n",
    "# generate dataset\n",
    "X, y = make_classification(n_samples=10000, n_features=2, n_redundant=0,\n",
    "\tn_clusters_per_class=1, weights=[0.99], flip_y=0, random_state=4)\n",
    "# split into train/test sets\n",
    "trainX, testX, trainy, testy = train_test_split(X, y, test_size=0.5, random_state=2, stratify=y)\n",
    "# fit a model\n",
    "model = LogisticRegression(solver='lbfgs')\n",
    "model.fit(trainX, trainy)\n",
    "# predict labels\n",
    "yhat = model.predict(testX)\n",
    "# evaluate the model\n",
    "score = f1_score(testy, yhat)\n",
    "print('F-Score: %.5f' % score)"
   ]
  },
  {
   "cell_type": "raw",
   "id": "688e5699",
   "metadata": {},
   "source": [
    "Running the example, we can see that the model achieved an F-Measure of about 0.70 on the test dataset.\n",
    "\n",
    "Now we can use the same model on the same dataset and instead of predicting class labels directly, we can predict probabilities.\n",
    "\n",
    "We only require the probabilities for the positive class. And thus keep probabilities for the positive outcome only\n",
    "\n",
    "Next, we can then define a set of thresholds to evaluate the probabilities. In this case, we will test all thresholds between 0.0 and 1.0 with a step size of 0.001, that is, we will test 0.0, 0.001, 0.002, 0.003, and so on to 0.999."
   ]
  },
  {
   "cell_type": "raw",
   "id": "0e9bc844",
   "metadata": {},
   "source": [
    "Next, we need a way of using a single threshold to interpret the predicted probabilities.\n",
    "\n",
    "This can be achieved by mapping all values equal to or greater than the threshold to 1 and all values less than the threshold to 0. We will define a to_labels() function to do this that will take the probabilities and threshold as an argument and return an array of integers in {0, 1}."
   ]
  },
  {
   "cell_type": "raw",
   "id": "91f287c9",
   "metadata": {},
   "source": [
    "We can then call this function for each threshold and evaluate the resulting labels using the f1_score().\n",
    "\n",
    "We can do this in a single line, as follows:"
   ]
  },
  {
   "cell_type": "raw",
   "id": "d63e2ae5",
   "metadata": {},
   "source": [
    "We now have an array of scores that evaluate each threshold in our array of thresholds.\n",
    "\n",
    "All we need to do now is locate the array index that has the largest score (best F-Measure) and we will have the optimal threshold and its evaluation."
   ]
  },
  {
   "cell_type": "code",
   "execution_count": 21,
   "id": "daef08ca",
   "metadata": {},
   "outputs": [
    {
     "name": "stdout",
     "output_type": "stream",
     "text": [
      "Threshold=0.251, F-Score=0.75556\n"
     ]
    }
   ],
   "source": [
    "# Tying this all together, the complete example of tuning the threshold for the logistic regression model on the synthetic imbalanced classification dataset is listed below.\n",
    "\n",
    "# search thresholds for imbalanced classification\n",
    "from numpy import arange\n",
    "from numpy import argmax\n",
    "from sklearn.datasets import make_classification\n",
    "from sklearn.linear_model import LogisticRegression\n",
    "from sklearn.model_selection import train_test_split\n",
    "from sklearn.metrics import f1_score\n",
    " \n",
    "# apply threshold to positive probabilities to create labels\n",
    "def to_labels(pos_probs, threshold):\n",
    "\treturn (pos_probs >= threshold).astype('int')\n",
    " \n",
    "# generate dataset\n",
    "X, y = make_classification(n_samples=10000, n_features=2, n_redundant=0,\n",
    "\tn_clusters_per_class=1, weights=[0.99], flip_y=0, random_state=4)\n",
    "# split into train/test sets\n",
    "trainX, testX, trainy, testy = train_test_split(X, y, test_size=0.5, random_state=2, stratify=y)\n",
    "# fit a model\n",
    "model = LogisticRegression(solver='lbfgs')\n",
    "model.fit(trainX, trainy)\n",
    "# predict probabilities\n",
    "yhat = model.predict_proba(testX)\n",
    "# keep probabilities for the positive outcome only\n",
    "probs = yhat[:, 1]\n",
    "# define thresholds\n",
    "thresholds = arange(0, 1, 0.001)\n",
    "# evaluate each threshold\n",
    "scores = [f1_score(testy, to_labels(probs, t)) for t in thresholds]\n",
    "# get best threshold\n",
    "ix = argmax(scores)\n",
    "print('Threshold=%.3f, F-Score=%.5f' % (thresholds[ix], scores[ix]))"
   ]
  },
  {
   "cell_type": "raw",
   "id": "546c6fff",
   "metadata": {},
   "source": [
    "Running the example reports the optimal threshold as 0.251 (compared to the default of 0.5) that achieves an F-Measure of about 0.75 (compared to 0.70).\n",
    "\n",
    "You can use this example as a template when tuning the threshold on your own problem, allowing you to substitute your own model, metric, and even resolution of thresholds that you want to evaluate."
   ]
  },
  {
   "cell_type": "code",
   "execution_count": null,
   "id": "61c9957c",
   "metadata": {},
   "outputs": [],
   "source": []
  },
  {
   "cell_type": "code",
   "execution_count": null,
   "id": "70cac566",
   "metadata": {},
   "outputs": [],
   "source": []
  }
 ],
 "metadata": {
  "kernelspec": {
   "display_name": "Python 3",
   "language": "python",
   "name": "python3"
  },
  "language_info": {
   "codemirror_mode": {
    "name": "ipython",
    "version": 3
   },
   "file_extension": ".py",
   "mimetype": "text/x-python",
   "name": "python",
   "nbconvert_exporter": "python",
   "pygments_lexer": "ipython3",
   "version": "3.8.8"
  }
 },
 "nbformat": 4,
 "nbformat_minor": 5
}

{
 "cells": [
  {
   "cell_type": "markdown",
   "id": "7fdcc231",
   "metadata": {},
   "source": [
    "# Avoid Overfitting By Early Stopping With XGBoost In Python\n",
    "https://machinelearningmastery.com/avoid-overfitting-by-early-stopping-with-xgboost-in-python/"
   ]
  },
  {
   "cell_type": "raw",
   "id": "58b15c44",
   "metadata": {},
   "source": [
    "Overfitting is a problem with sophisticated non-linear learning algorithms like gradient boosting.\n",
    "\n",
    "In this post you will discover how you can use early stopping to limit overfitting with XGBoost in Python.\n",
    "\n",
    "After reading this post, you will know:\n",
    "\n",
    "About early stopping as an approach to reducing overfitting of training data.\n",
    "How to monitor the performance of an XGBoost model during training and plot the learning curve.\n",
    "How to use early stopping to prematurely stop the training of an XGBoost model at an optimal epoch."
   ]
  },
  {
   "cell_type": "markdown",
   "id": "16bfa4c7",
   "metadata": {},
   "source": [
    "# Early Stopping to Avoid Overfitting"
   ]
  },
  {
   "cell_type": "raw",
   "id": "cb58ef64",
   "metadata": {},
   "source": [
    "Early stopping is an approach to training complex machine learning models to avoid overfitting.\n",
    "\n",
    "It works by monitoring the performance of the model that is being trained on a separate test dataset and stopping the training procedure once the performance on the test dataset has not improved after a fixed number of training iterations.\n",
    "\n",
    "It avoids overfitting by attempting to automatically select the inflection point where performance on the test dataset starts to decrease while performance on the training dataset continues to improve as the model starts to overfit.\n",
    "\n",
    "The performance measure may be the loss function that is being optimized to train the model (such as logarithmic loss), or an external metric of interest to the problem in general (such as classification accuracy).\n"
   ]
  },
  {
   "cell_type": "markdown",
   "id": "aaacc265",
   "metadata": {},
   "source": [
    "# Monitoring Training Performance With XGBoost"
   ]
  },
  {
   "cell_type": "raw",
   "id": "da0ed286",
   "metadata": {},
   "source": [
    "\n",
    "The XGBoost model can evaluate and report on the performance on a test set for the the model during training.\n",
    "\n",
    "It supports this capability by specifying both an test dataset and an evaluation metric on the call to model.fit() when training the model and specifying verbose output.\n",
    "\n",
    "For example, we can report on the binary classification error rate (“error“) on a standalone test set (eval_set) while training an XGBoost model as follows:\n",
    "\n",
    "eval_set = [(X_test, y_test)]\n",
    "model.fit(X_train, y_train, eval_metric=\"error\", eval_set=eval_set, verbose=True)\n",
    "XGBoost supports a suite of evaluation metrics not limited to:\n",
    "\n",
    "“rmse” for root mean squared error.\n",
    "“mae” for mean absolute error.\n",
    "“logloss” for binary logarithmic loss and “mlogloss” for multi-class log loss (cross entropy).\n",
    "“error” for classification error.\n",
    "“auc” for area under ROC curve.\n",
    "The full list is provided in the “Learning Task Parameters” section of the XGBoost Parameters webpage.\n",
    "\n",
    "For example, we can demonstrate how to track the performance of the training of an XGBoost model on the Pima Indians onset of diabetes dataset.\n",
    "\n",
    "Download the dataset file and place it in your current working directory.\n",
    "\n",
    "Dataset File.\n",
    "Dataset Details.\n",
    "The full example is provided below:"
   ]
  },
  {
   "cell_type": "code",
   "execution_count": 2,
   "id": "ace265c1",
   "metadata": {},
   "outputs": [
    {
     "name": "stdout",
     "output_type": "stream",
     "text": [
      "[0]\tvalidation_0-error:0.28346\n",
      "[1]\tvalidation_0-error:0.25984\n",
      "[2]\tvalidation_0-error:0.25591\n",
      "[3]\tvalidation_0-error:0.24803\n",
      "[4]\tvalidation_0-error:0.24409\n",
      "[5]\tvalidation_0-error:0.24803\n",
      "[6]\tvalidation_0-error:0.25591\n",
      "[7]\tvalidation_0-error:0.24803\n",
      "[8]\tvalidation_0-error:0.25591\n",
      "[9]\tvalidation_0-error:0.24409\n",
      "[10]\tvalidation_0-error:0.24803\n",
      "[11]\tvalidation_0-error:0.24409\n",
      "[12]\tvalidation_0-error:0.23228\n",
      "[13]\tvalidation_0-error:0.24016\n",
      "[14]\tvalidation_0-error:0.23622\n",
      "[15]\tvalidation_0-error:0.24409\n",
      "[16]\tvalidation_0-error:0.25591\n",
      "[17]\tvalidation_0-error:0.23622\n",
      "[18]\tvalidation_0-error:0.24016\n",
      "[19]\tvalidation_0-error:0.23622\n",
      "[20]\tvalidation_0-error:0.23622\n",
      "[21]\tvalidation_0-error:0.23622\n",
      "[22]\tvalidation_0-error:0.23622\n",
      "[23]\tvalidation_0-error:0.24409\n",
      "[24]\tvalidation_0-error:0.24409\n",
      "[25]\tvalidation_0-error:0.24016\n",
      "[26]\tvalidation_0-error:0.24409\n",
      "[27]\tvalidation_0-error:0.24409\n",
      "[28]\tvalidation_0-error:0.25591\n",
      "[29]\tvalidation_0-error:0.25197\n",
      "[30]\tvalidation_0-error:0.24803\n",
      "[31]\tvalidation_0-error:0.25591\n",
      "[32]\tvalidation_0-error:0.25591\n",
      "[33]\tvalidation_0-error:0.25984\n",
      "[34]\tvalidation_0-error:0.26378\n",
      "[35]\tvalidation_0-error:0.26378\n",
      "[36]\tvalidation_0-error:0.26378\n",
      "[37]\tvalidation_0-error:0.26772\n",
      "[38]\tvalidation_0-error:0.26378\n",
      "[39]\tvalidation_0-error:0.25984\n",
      "[40]\tvalidation_0-error:0.25591\n",
      "[41]\tvalidation_0-error:0.24409\n",
      "[42]\tvalidation_0-error:0.24803\n",
      "[43]\tvalidation_0-error:0.24803\n",
      "[44]\tvalidation_0-error:0.25591\n",
      "[45]\tvalidation_0-error:0.25197\n",
      "[46]\tvalidation_0-error:0.26378\n",
      "[47]\tvalidation_0-error:0.26378\n",
      "[48]\tvalidation_0-error:0.26378\n",
      "[49]\tvalidation_0-error:0.25984\n",
      "[50]\tvalidation_0-error:0.27165\n",
      "[51]\tvalidation_0-error:0.26772\n",
      "[52]\tvalidation_0-error:0.27165\n",
      "[53]\tvalidation_0-error:0.26772\n",
      "[54]\tvalidation_0-error:0.26378\n",
      "[55]\tvalidation_0-error:0.26378\n",
      "[56]\tvalidation_0-error:0.26378\n",
      "[57]\tvalidation_0-error:0.26772\n",
      "[58]\tvalidation_0-error:0.27165\n",
      "[59]\tvalidation_0-error:0.26772\n",
      "[60]\tvalidation_0-error:0.27165\n",
      "[61]\tvalidation_0-error:0.27165\n",
      "[62]\tvalidation_0-error:0.26772\n",
      "[63]\tvalidation_0-error:0.26772\n",
      "[64]\tvalidation_0-error:0.26378\n",
      "[65]\tvalidation_0-error:0.25984\n",
      "[66]\tvalidation_0-error:0.27165\n",
      "[67]\tvalidation_0-error:0.27559\n",
      "[68]\tvalidation_0-error:0.26772\n",
      "[69]\tvalidation_0-error:0.26378\n",
      "[70]\tvalidation_0-error:0.26378\n",
      "[71]\tvalidation_0-error:0.26772\n",
      "[72]\tvalidation_0-error:0.26772\n",
      "[73]\tvalidation_0-error:0.26772\n",
      "[74]\tvalidation_0-error:0.26772\n",
      "[75]\tvalidation_0-error:0.26772\n",
      "[76]\tvalidation_0-error:0.26772\n",
      "[77]\tvalidation_0-error:0.27165\n",
      "[78]\tvalidation_0-error:0.26772\n",
      "[79]\tvalidation_0-error:0.27165\n",
      "[80]\tvalidation_0-error:0.27165\n",
      "[81]\tvalidation_0-error:0.28346\n",
      "[82]\tvalidation_0-error:0.27559\n"
     ]
    },
    {
     "name": "stderr",
     "output_type": "stream",
     "text": [
      "C:\\Users\\Byju\\Anaconda3\\lib\\site-packages\\xgboost\\sklearn.py:793: UserWarning: `eval_metric` in `fit` method is deprecated for better compatibility with scikit-learn, use `eval_metric` in constructor or`set_params` instead.\n",
      "  warnings.warn(\n"
     ]
    },
    {
     "name": "stdout",
     "output_type": "stream",
     "text": [
      "[83]\tvalidation_0-error:0.27165\n",
      "[84]\tvalidation_0-error:0.27559\n",
      "[85]\tvalidation_0-error:0.26772\n",
      "[86]\tvalidation_0-error:0.26772\n",
      "[87]\tvalidation_0-error:0.26378\n",
      "[88]\tvalidation_0-error:0.26772\n",
      "[89]\tvalidation_0-error:0.26378\n",
      "[90]\tvalidation_0-error:0.27165\n",
      "[91]\tvalidation_0-error:0.26772\n",
      "[92]\tvalidation_0-error:0.27165\n",
      "[93]\tvalidation_0-error:0.26378\n",
      "[94]\tvalidation_0-error:0.27165\n",
      "[95]\tvalidation_0-error:0.26378\n",
      "[96]\tvalidation_0-error:0.25984\n",
      "[97]\tvalidation_0-error:0.26378\n",
      "[98]\tvalidation_0-error:0.25984\n",
      "[99]\tvalidation_0-error:0.25984\n",
      "Accuracy: 74.02%\n"
     ]
    }
   ],
   "source": [
    "\n",
    "# monitor training performance\n",
    "from numpy import loadtxt\n",
    "from xgboost import XGBClassifier\n",
    "from sklearn.model_selection import train_test_split\n",
    "from sklearn.metrics import accuracy_score\n",
    "# load data\n",
    "dataset = loadtxt('pima-indians-diabetes.csv', delimiter=\",\")\n",
    "# split data into X and y\n",
    "X = dataset[:,0:8]\n",
    "Y = dataset[:,8]\n",
    "# split data into train and test sets\n",
    "X_train, X_test, y_train, y_test = train_test_split(X, Y, test_size=0.33, random_state=7)\n",
    "# fit model no training data\n",
    "model = XGBClassifier()\n",
    "eval_set = [(X_test, y_test)]\n",
    "model.fit(X_train, y_train, eval_metric=\"error\", eval_set=eval_set, verbose=True)\n",
    "# make predictions for test data\n",
    "y_pred = model.predict(X_test)\n",
    "predictions = [round(value) for value in y_pred]\n",
    "# evaluate predictions\n",
    "accuracy = accuracy_score(y_test, predictions)\n",
    "print(\"Accuracy: %.2f%%\" % (accuracy * 100.0))"
   ]
  },
  {
   "cell_type": "raw",
   "id": "7c6d94c0",
   "metadata": {},
   "source": [
    " Running this example trains the model on 67% of the data and evaluates the model every training epoch on a 33% test dataset.\n",
    "\n",
    "The classification error is reported each iteration and finally the classification accuracy is reported at the end.\n",
    "\n",
    "Note: Your results may vary given the stochastic nature of the algorithm or evaluation procedure, or differences in numerical precision. Consider running the example a few times and compare the average outcome.\n",
    "\n",
    "The output is provided above, truncated for brevity. We can see that the classification error is reported each training iteration (after each boosted tree is added to the model).\n",
    "\n",
    "Reviewing all of the output, we can see that the model performance on the test set sits flat and even gets worse towards the end of training.\n"
   ]
  },
  {
   "cell_type": "raw",
   "id": "cfbbf48d",
   "metadata": {},
   "source": [
    "Evaluate XGBoost Models With Learning Curves\n",
    "We can retrieve the performance of the model on the evaluation dataset and plot it to get insight into how learning unfolded while training.\n",
    "\n",
    "We provide an array of X and y pairs to the eval_metric argument when fitting our XGBoost model. In addition to a test set, we can also provide the training dataset. This will provide a report on how well the model is performing on both training and test sets during training.\n",
    "\n",
    "For example:\n",
    "\n",
    "eval_set = [(X_train, y_train), (X_test, y_test)]\n",
    "model.fit(X_train, y_train, eval_metric=\"error\", eval_set=eval_set, verbose=True)\n",
    "In addition, the performance of the model on each evaluation set is stored and made available by the model after training by calling the model.evals_result() function. This returns a dictionary of evaluation datasets and scores, for example:\n",
    "\n",
    "results = model.evals_result()\n",
    "print(results)\n",
    "This will print results like the following (truncated for brevity):\n",
    "\n",
    "{\n",
    "\t'validation_0': {'error': [0.259843, 0.26378, 0.26378, ...]},\n",
    "\t'validation_1': {'error': [0.22179, 0.202335, 0.196498, ...]}\n",
    "}\n",
    "Each of ‘validation_0‘ and ‘validation_1‘ correspond to the order that datasets were provided to the eval_set argument in the call to fit().\n",
    "\n",
    "A specific array of results, such as for the first dataset and the error metric can be accessed as follows:\n",
    "\n",
    "results['validation_0']['error']\n",
    "Additionally, we can specify more evaluation metrics to evaluate and collect by providing an array of metrics to the eval_metric argument of the fit() function.\n",
    "\n",
    "We can then use these collected performance measures to create a line plot and gain further insight into how the model behaved on train and test datasets over training epochs.\n",
    "\n",
    "Below is the complete code example showing how the collected results can be visualized on a line plot."
   ]
  },
  {
   "cell_type": "code",
   "execution_count": 3,
   "id": "95262d8a",
   "metadata": {},
   "outputs": [
    {
     "name": "stdout",
     "output_type": "stream",
     "text": [
      "[0]\tvalidation_0-error:0.13619\tvalidation_0-logloss:0.55257\tvalidation_1-error:0.28346\tvalidation_1-logloss:0.60491\n",
      "[1]\tvalidation_0-error:0.10895\tvalidation_0-logloss:0.46754\tvalidation_1-error:0.25984\tvalidation_1-logloss:0.55934\n",
      "[2]\tvalidation_0-error:0.10506\tvalidation_0-logloss:0.40734\tvalidation_1-error:0.25591\tvalidation_1-logloss:0.53068\n",
      "[3]\tvalidation_0-error:0.09144\tvalidation_0-logloss:0.36480\tvalidation_1-error:0.24803\tvalidation_1-logloss:0.51795\n",
      "[4]\tvalidation_0-error:0.08560\tvalidation_0-logloss:0.33012\tvalidation_1-error:0.24409\tvalidation_1-logloss:0.51153\n",
      "[5]\tvalidation_0-error:0.07782\tvalidation_0-logloss:0.29868\tvalidation_1-error:0.24803\tvalidation_1-logloss:0.50934\n",
      "[6]\tvalidation_0-error:0.06809\tvalidation_0-logloss:0.27852\tvalidation_1-error:0.25591\tvalidation_1-logloss:0.50818\n",
      "[7]\tvalidation_0-error:0.06615\tvalidation_0-logloss:0.26182\tvalidation_1-error:0.24803\tvalidation_1-logloss:0.51097\n",
      "[8]\tvalidation_0-error:0.06226\tvalidation_0-logloss:0.24578\tvalidation_1-error:0.25591\tvalidation_1-logloss:0.51760\n",
      "[9]\tvalidation_0-error:0.05642\tvalidation_0-logloss:0.23298\tvalidation_1-error:0.24409\tvalidation_1-logloss:0.51912\n",
      "[10]\tvalidation_0-error:0.04669\tvalidation_0-logloss:0.21955\tvalidation_1-error:0.24803\tvalidation_1-logloss:0.52503\n",
      "[11]\tvalidation_0-error:0.04280\tvalidation_0-logloss:0.21051\tvalidation_1-error:0.24409\tvalidation_1-logloss:0.52697\n",
      "[12]\tvalidation_0-error:0.03502\tvalidation_0-logloss:0.20083\tvalidation_1-error:0.23228\tvalidation_1-logloss:0.53335\n",
      "[13]\tvalidation_0-error:0.03696\tvalidation_0-logloss:0.19466\tvalidation_1-error:0.24016\tvalidation_1-logloss:0.53905\n",
      "[14]\tvalidation_0-error:0.03502\tvalidation_0-logloss:0.18725\tvalidation_1-error:0.23622\tvalidation_1-logloss:0.54545\n",
      "[15]\tvalidation_0-error:0.02918\tvalidation_0-logloss:0.17765\tvalidation_1-error:0.24409\tvalidation_1-logloss:0.54613\n",
      "[16]\tvalidation_0-error:0.02724\tvalidation_0-logloss:0.16747\tvalidation_1-error:0.25591\tvalidation_1-logloss:0.54982\n",
      "[17]\tvalidation_0-error:0.02140\tvalidation_0-logloss:0.15879\tvalidation_1-error:0.23622\tvalidation_1-logloss:0.55226\n",
      "[18]\tvalidation_0-error:0.01946\tvalidation_0-logloss:0.15115\tvalidation_1-error:0.24016\tvalidation_1-logloss:0.55355\n",
      "[19]\tvalidation_0-error:0.00973\tvalidation_0-logloss:0.14529\tvalidation_1-error:0.23622\tvalidation_1-logloss:0.55847\n",
      "[20]\tvalidation_0-error:0.00973\tvalidation_0-logloss:0.14282\tvalidation_1-error:0.23622\tvalidation_1-logloss:0.56063\n",
      "[21]\tvalidation_0-error:0.00778\tvalidation_0-logloss:0.13959\tvalidation_1-error:0.23622\tvalidation_1-logloss:0.56665\n",
      "[22]\tvalidation_0-error:0.00778\tvalidation_0-logloss:0.13253\tvalidation_1-error:0.23622\tvalidation_1-logloss:0.57418\n",
      "[23]\tvalidation_0-error:0.00778\tvalidation_0-logloss:0.12705\tvalidation_1-error:0.24409\tvalidation_1-logloss:0.57448\n",
      "[24]\tvalidation_0-error:0.00778\tvalidation_0-logloss:0.12430\tvalidation_1-error:0.24409\tvalidation_1-logloss:0.57511\n",
      "[25]\tvalidation_0-error:0.00584\tvalidation_0-logloss:0.12175\tvalidation_1-error:0.24016\tvalidation_1-logloss:0.58052\n",
      "[26]\tvalidation_0-error:0.00584\tvalidation_0-logloss:0.11715\tvalidation_1-error:0.24409\tvalidation_1-logloss:0.58830\n",
      "[27]\tvalidation_0-error:0.00584\tvalidation_0-logloss:0.11200\tvalidation_1-error:0.24409\tvalidation_1-logloss:0.59717\n",
      "[28]\tvalidation_0-error:0.00195\tvalidation_0-logloss:0.10682\tvalidation_1-error:0.25591\tvalidation_1-logloss:0.60530\n",
      "[29]\tvalidation_0-error:0.00389\tvalidation_0-logloss:0.10413\tvalidation_1-error:0.25197\tvalidation_1-logloss:0.60871\n",
      "[30]\tvalidation_0-error:0.00195\tvalidation_0-logloss:0.09942\tvalidation_1-error:0.24803\tvalidation_1-logloss:0.61161\n",
      "[31]\tvalidation_0-error:0.00195\tvalidation_0-logloss:0.09640\tvalidation_1-error:0.25591\tvalidation_1-logloss:0.61695\n",
      "[32]\tvalidation_0-error:0.00195\tvalidation_0-logloss:0.09168\tvalidation_1-error:0.25591\tvalidation_1-logloss:0.61717\n",
      "[33]\tvalidation_0-error:0.00000\tvalidation_0-logloss:0.08941\tvalidation_1-error:0.25984\tvalidation_1-logloss:0.62061\n",
      "[34]\tvalidation_0-error:0.00195\tvalidation_0-logloss:0.08648\tvalidation_1-error:0.26378\tvalidation_1-logloss:0.61886\n",
      "[35]\tvalidation_0-error:0.00000\tvalidation_0-logloss:0.08371\tvalidation_1-error:0.26378\tvalidation_1-logloss:0.61903\n",
      "[36]\tvalidation_0-error:0.00000\tvalidation_0-logloss:0.08277\tvalidation_1-error:0.26378\tvalidation_1-logloss:0.62187\n",
      "[37]\tvalidation_0-error:0.00000\tvalidation_0-logloss:0.08041\tvalidation_1-error:0.26772\tvalidation_1-logloss:0.62557\n",
      "[38]\tvalidation_0-error:0.00000\tvalidation_0-logloss:0.07842\tvalidation_1-error:0.26378\tvalidation_1-logloss:0.62663\n",
      "[39]\tvalidation_0-error:0.00000\tvalidation_0-logloss:0.07651\tvalidation_1-error:0.25984\tvalidation_1-logloss:0.62743\n",
      "[40]\tvalidation_0-error:0.00000\tvalidation_0-logloss:0.07424\tvalidation_1-error:0.25591\tvalidation_1-logloss:0.62667\n",
      "[41]\tvalidation_0-error:0.00000\tvalidation_0-logloss:0.07202\tvalidation_1-error:0.24409\tvalidation_1-logloss:0.63148\n",
      "[42]\tvalidation_0-error:0.00000\tvalidation_0-logloss:0.07012\tvalidation_1-error:0.24803\tvalidation_1-logloss:0.63695\n",
      "[43]\tvalidation_0-error:0.00000\tvalidation_0-logloss:0.06862\tvalidation_1-error:0.24803\tvalidation_1-logloss:0.64021\n",
      "[44]\tvalidation_0-error:0.00000\tvalidation_0-logloss:0.06629\tvalidation_1-error:0.25591\tvalidation_1-logloss:0.64323\n",
      "[45]\tvalidation_0-error:0.00000\tvalidation_0-logloss:0.06394\tvalidation_1-error:0.25197\tvalidation_1-logloss:0.64747\n",
      "[46]\tvalidation_0-error:0.00000\tvalidation_0-logloss:0.06231\tvalidation_1-error:0.26378\tvalidation_1-logloss:0.64921\n",
      "[47]\tvalidation_0-error:0.00000\tvalidation_0-logloss:0.06090\tvalidation_1-error:0.26378\tvalidation_1-logloss:0.65250\n",
      "[48]\tvalidation_0-error:0.00000\tvalidation_0-logloss:0.05953\tvalidation_1-error:0.26378\tvalidation_1-logloss:0.65838\n",
      "[49]\tvalidation_0-error:0.00000\tvalidation_0-logloss:0.05801\tvalidation_1-error:0.25984\tvalidation_1-logloss:0.66152\n",
      "[50]\tvalidation_0-error:0.00000\tvalidation_0-logloss:0.05643\tvalidation_1-error:0.27165\tvalidation_1-logloss:0.66584\n",
      "[51]\tvalidation_0-error:0.00000\tvalidation_0-logloss:0.05549\tvalidation_1-error:0.26772\tvalidation_1-logloss:0.66783\n",
      "[52]\tvalidation_0-error:0.00000\tvalidation_0-logloss:0.05462\tvalidation_1-error:0.27165\tvalidation_1-logloss:0.67103\n",
      "[53]\tvalidation_0-error:0.00000\tvalidation_0-logloss:0.05347\tvalidation_1-error:0.26772\tvalidation_1-logloss:0.67425\n",
      "[54]\tvalidation_0-error:0.00000\tvalidation_0-logloss:0.05253\tvalidation_1-error:0.26378\tvalidation_1-logloss:0.67873\n",
      "[55]\tvalidation_0-error:0.00000\tvalidation_0-logloss:0.05153\tvalidation_1-error:0.26378\tvalidation_1-logloss:0.67768\n",
      "[56]\tvalidation_0-error:0.00000\tvalidation_0-logloss:0.05051\tvalidation_1-error:0.26378\tvalidation_1-logloss:0.68269\n",
      "[57]\tvalidation_0-error:0.00000\tvalidation_0-logloss:0.04942\tvalidation_1-error:0.26772\tvalidation_1-logloss:0.68738\n",
      "[58]\tvalidation_0-error:0.00000\tvalidation_0-logloss:0.04892\tvalidation_1-error:0.27165\tvalidation_1-logloss:0.69011\n",
      "[59]\tvalidation_0-error:0.00000\tvalidation_0-logloss:0.04799\tvalidation_1-error:0.26772\tvalidation_1-logloss:0.69266\n",
      "[60]\tvalidation_0-error:0.00000\tvalidation_0-logloss:0.04720\tvalidation_1-error:0.27165\tvalidation_1-logloss:0.69469\n",
      "[61]\tvalidation_0-error:0.00000\tvalidation_0-logloss:0.04643\tvalidation_1-error:0.27165\tvalidation_1-logloss:0.70239\n",
      "[62]\tvalidation_0-error:0.00000\tvalidation_0-logloss:0.04535\tvalidation_1-error:0.26772\tvalidation_1-logloss:0.70504\n",
      "[63]\tvalidation_0-error:0.00000\tvalidation_0-logloss:0.04454\tvalidation_1-error:0.26772\tvalidation_1-logloss:0.70622\n",
      "[64]\tvalidation_0-error:0.00000\tvalidation_0-logloss:0.04379\tvalidation_1-error:0.26378\tvalidation_1-logloss:0.70810\n",
      "[65]\tvalidation_0-error:0.00000\tvalidation_0-logloss:0.04315\tvalidation_1-error:0.25984\tvalidation_1-logloss:0.71247\n",
      "[66]\tvalidation_0-error:0.00000\tvalidation_0-logloss:0.04241\tvalidation_1-error:0.27165\tvalidation_1-logloss:0.71706\n",
      "[67]\tvalidation_0-error:0.00000\tvalidation_0-logloss:0.04163\tvalidation_1-error:0.27559\tvalidation_1-logloss:0.71636\n",
      "[68]\tvalidation_0-error:0.00000\tvalidation_0-logloss:0.04085\tvalidation_1-error:0.26772\tvalidation_1-logloss:0.71625\n",
      "[69]\tvalidation_0-error:0.00000\tvalidation_0-logloss:0.04036\tvalidation_1-error:0.26378\tvalidation_1-logloss:0.71904\n",
      "[70]\tvalidation_0-error:0.00000\tvalidation_0-logloss:0.03993\tvalidation_1-error:0.26378\tvalidation_1-logloss:0.72348\n"
     ]
    },
    {
     "name": "stdout",
     "output_type": "stream",
     "text": [
      "[71]\tvalidation_0-error:0.00000\tvalidation_0-logloss:0.03907\tvalidation_1-error:0.26772\tvalidation_1-logloss:0.72573\n",
      "[72]\tvalidation_0-error:0.00000\tvalidation_0-logloss:0.03835\tvalidation_1-error:0.26772\tvalidation_1-logloss:0.72761\n",
      "[73]\tvalidation_0-error:0.00000\tvalidation_0-logloss:0.03762\tvalidation_1-error:0.26772\tvalidation_1-logloss:0.72992\n",
      "[74]\tvalidation_0-error:0.00000\tvalidation_0-logloss:0.03719\tvalidation_1-error:0.26772\tvalidation_1-logloss:0.73336\n",
      "[75]\tvalidation_0-error:0.00000\tvalidation_0-logloss:0.03669\tvalidation_1-error:0.26772\tvalidation_1-logloss:0.73444\n",
      "[76]\tvalidation_0-error:0.00000\tvalidation_0-logloss:0.03632\tvalidation_1-error:0.26772\tvalidation_1-logloss:0.73795\n",
      "[77]\tvalidation_0-error:0.00000\tvalidation_0-logloss:0.03588\tvalidation_1-error:0.27165\tvalidation_1-logloss:0.74054\n",
      "[78]\tvalidation_0-error:0.00000\tvalidation_0-logloss:0.03521\tvalidation_1-error:0.26772\tvalidation_1-logloss:0.74512\n",
      "[79]\tvalidation_0-error:0.00000\tvalidation_0-logloss:0.03464\tvalidation_1-error:0.27165\tvalidation_1-logloss:0.74767\n",
      "[80]\tvalidation_0-error:0.00000\tvalidation_0-logloss:0.03432\tvalidation_1-error:0.27165\tvalidation_1-logloss:0.74878\n",
      "[81]\tvalidation_0-error:0.00000\tvalidation_0-logloss:0.03380\tvalidation_1-error:0.28346\tvalidation_1-logloss:0.75047\n",
      "[82]\tvalidation_0-error:0.00000\tvalidation_0-logloss:0.03343\tvalidation_1-error:0.27559\tvalidation_1-logloss:0.75475\n",
      "[83]\tvalidation_0-error:0.00000\tvalidation_0-logloss:0.03297\tvalidation_1-error:0.27165\tvalidation_1-logloss:0.75587\n",
      "[84]\tvalidation_0-error:0.00000\tvalidation_0-logloss:0.03245\tvalidation_1-error:0.27559\tvalidation_1-logloss:0.75861\n",
      "[85]\tvalidation_0-error:0.00000\tvalidation_0-logloss:0.03208\tvalidation_1-error:0.26772\tvalidation_1-logloss:0.75890\n",
      "[86]\tvalidation_0-error:0.00000\tvalidation_0-logloss:0.03169\tvalidation_1-error:0.26772\tvalidation_1-logloss:0.76230\n",
      "[87]\tvalidation_0-error:0.00000\tvalidation_0-logloss:0.03139\tvalidation_1-error:0.26378\tvalidation_1-logloss:0.76483\n",
      "[88]\tvalidation_0-error:0.00000\tvalidation_0-logloss:0.03111\tvalidation_1-error:0.26772\tvalidation_1-logloss:0.76738\n",
      "[89]\tvalidation_0-error:0.00000\tvalidation_0-logloss:0.03077\tvalidation_1-error:0.26378\tvalidation_1-logloss:0.77021\n",
      "[90]\tvalidation_0-error:0.00000\tvalidation_0-logloss:0.03041\tvalidation_1-error:0.27165\tvalidation_1-logloss:0.77393\n",
      "[91]\tvalidation_0-error:0.00000\tvalidation_0-logloss:0.03003\tvalidation_1-error:0.26772\tvalidation_1-logloss:0.77259\n",
      "[92]\tvalidation_0-error:0.00000\tvalidation_0-logloss:0.02976\tvalidation_1-error:0.27165\tvalidation_1-logloss:0.77214\n",
      "[93]\tvalidation_0-error:0.00000\tvalidation_0-logloss:0.02947\tvalidation_1-error:0.26378\tvalidation_1-logloss:0.77362\n",
      "[94]\tvalidation_0-error:0.00000\tvalidation_0-logloss:0.02912\tvalidation_1-error:0.27165\tvalidation_1-logloss:0.77521\n"
     ]
    },
    {
     "name": "stderr",
     "output_type": "stream",
     "text": [
      "C:\\Users\\Byju\\Anaconda3\\lib\\site-packages\\xgboost\\sklearn.py:793: UserWarning: `eval_metric` in `fit` method is deprecated for better compatibility with scikit-learn, use `eval_metric` in constructor or`set_params` instead.\n",
      "  warnings.warn(\n"
     ]
    },
    {
     "name": "stdout",
     "output_type": "stream",
     "text": [
      "[95]\tvalidation_0-error:0.00000\tvalidation_0-logloss:0.02877\tvalidation_1-error:0.26378\tvalidation_1-logloss:0.77405\n",
      "[96]\tvalidation_0-error:0.00000\tvalidation_0-logloss:0.02853\tvalidation_1-error:0.25984\tvalidation_1-logloss:0.77413\n",
      "[97]\tvalidation_0-error:0.00000\tvalidation_0-logloss:0.02833\tvalidation_1-error:0.26378\tvalidation_1-logloss:0.77805\n",
      "[98]\tvalidation_0-error:0.00000\tvalidation_0-logloss:0.02809\tvalidation_1-error:0.25984\tvalidation_1-logloss:0.77660\n",
      "[99]\tvalidation_0-error:0.00000\tvalidation_0-logloss:0.02787\tvalidation_1-error:0.25984\tvalidation_1-logloss:0.77681\n",
      "Accuracy: 74.02%\n"
     ]
    },
    {
     "data": {
      "image/png": "[encoded data removed]",
      "text/plain": [
       "<Figure size 432x288 with 1 Axes>"
      ]
     },
     "metadata": {
      "needs_background": "light"
     },
     "output_type": "display_data"
    },
    {
     "data": {
      "image/png": "[encoded data removed]",
      "text/plain": [
       "<Figure size 432x288 with 1 Axes>"
      ]
     },
     "metadata": {
      "needs_background": "light"
     },
     "output_type": "display_data"
    }
   ],
   "source": [
    "\n",
    "# plot learning curve\n",
    "from numpy import loadtxt\n",
    "from xgboost import XGBClassifier\n",
    "from sklearn.model_selection import train_test_split\n",
    "from sklearn.metrics import accuracy_score\n",
    "from matplotlib import pyplot\n",
    "# load data\n",
    "dataset = loadtxt('pima-indians-diabetes.csv', delimiter=\",\")\n",
    "# split data into X and y\n",
    "X = dataset[:,0:8]\n",
    "Y = dataset[:,8]\n",
    "# split data into train and test sets\n",
    "X_train, X_test, y_train, y_test = train_test_split(X, Y, test_size=0.33, random_state=7)\n",
    "# fit model no training data\n",
    "model = XGBClassifier()\n",
    "eval_set = [(X_train, y_train), (X_test, y_test)]\n",
    "model.fit(X_train, y_train, eval_metric=[\"error\", \"logloss\"], eval_set=eval_set, verbose=True)\n",
    "# make predictions for test data\n",
    "y_pred = model.predict(X_test)\n",
    "predictions = [round(value) for value in y_pred]\n",
    "# evaluate predictions\n",
    "accuracy = accuracy_score(y_test, predictions)\n",
    "print(\"Accuracy: %.2f%%\" % (accuracy * 100.0))\n",
    "# retrieve performance metrics\n",
    "results = model.evals_result()\n",
    "epochs = len(results['validation_0']['error'])\n",
    "x_axis = range(0, epochs)\n",
    "# plot log loss\n",
    "fig, ax = pyplot.subplots()\n",
    "ax.plot(x_axis, results['validation_0']['logloss'], label='Train')\n",
    "ax.plot(x_axis, results['validation_1']['logloss'], label='Test')\n",
    "ax.legend()\n",
    "pyplot.ylabel('Log Loss')\n",
    "pyplot.xlabel('Epochs')\n",
    "pyplot.title('XGBoost Log Loss')\n",
    "pyplot.show()\n",
    "# plot classification error\n",
    "fig, ax = pyplot.subplots()\n",
    "ax.plot(x_axis, results['validation_0']['error'], label='Train')\n",
    "ax.plot(x_axis, results['validation_1']['error'], label='Test')\n",
    "ax.legend()\n",
    "pyplot.ylabel('Classification Error')\n",
    "pyplot.xlabel('Epochs')\n",
    "pyplot.title('XGBoost Classification Error')\n",
    "pyplot.show()"
   ]
  },
  {
   "cell_type": "code",
   "execution_count": 4,
   "id": "83d1adb2",
   "metadata": {},
   "outputs": [
    {
     "data": {
      "text/plain": [
       "(768, 9)"
      ]
     },
     "execution_count": 4,
     "metadata": {},
     "output_type": "execute_result"
    }
   ],
   "source": [
    "dataset.shape"
   ]
  },
  {
   "cell_type": "raw",
   "id": "5f2f9886",
   "metadata": {},
   "source": [
    "Running this code reports the classification error on both the train and test datasets each epoch. We can turn this off by setting verbose=False (the default) in the call to the fit() function.\n",
    "\n",
    "Note: Your results may vary given the stochastic nature of the algorithm or evaluation procedure, or differences in numerical precision. Consider running the example a few times and compare the average outcome.\n",
    "\n",
    "Two plots are created. The first shows the logarithmic loss of the XGBoost model for each epoch on the training and test datasets."
   ]
  },
  {
   "cell_type": "raw",
   "id": "f06dd12d",
   "metadata": {},
   "source": [
    "From reviewing the logloss plot, it looks like there is an opportunity to stop the learning early, perhaps somewhere around epoch 20 to epoch 40.\n",
    "\n",
    "We see a similar story for classification error, where error appears to go back up at around epoch 40."
   ]
  },
  {
   "cell_type": "markdown",
   "id": "8e213525",
   "metadata": {},
   "source": [
    "# Early Stopping With XGBoost"
   ]
  },
  {
   "cell_type": "raw",
   "id": "d3abe88e",
   "metadata": {},
   "source": [
    "\n",
    "XGBoost supports early stopping after a fixed number of iterations.\n",
    "\n",
    "In addition to specifying a metric and test dataset for evaluation each epoch, you must specify a window of the number of epochs over which no improvement is observed. This is specified in the early_stopping_rounds parameter.\n",
    "\n",
    "For example, we can check for no improvement in logarithmic loss over the 10 epochs as follows:\n",
    "\n",
    "eval_set = [(X_test, y_test)]\n",
    "model.fit(X_train, y_train, early_stopping_rounds=10, eval_metric=\"logloss\", eval_set=eval_set, verbose=True)\n",
    "If multiple evaluation datasets or multiple evaluation metrics are provided, then early stopping will use the last in the list.\n",
    "\n",
    "Below provides a full example for completeness with early stopping."
   ]
  },
  {
   "cell_type": "code",
   "execution_count": 7,
   "id": "369aba50",
   "metadata": {},
   "outputs": [
    {
     "name": "stdout",
     "output_type": "stream",
     "text": [
      "[0]\tvalidation_0-logloss:0.59514\n",
      "[1]\tvalidation_0-logloss:0.54316\n",
      "[2]\tvalidation_0-logloss:0.50857\n",
      "[3]\tvalidation_0-logloss:0.49327\n",
      "[4]\tvalidation_0-logloss:0.48031\n",
      "[5]\tvalidation_0-logloss:0.48116\n",
      "[6]\tvalidation_0-logloss:0.46950\n",
      "[7]\tvalidation_0-logloss:0.47033\n",
      "[8]\tvalidation_0-logloss:0.47044\n",
      "[9]\tvalidation_0-logloss:0.47292\n",
      "[10]\tvalidation_0-logloss:0.47205\n",
      "[11]\tvalidation_0-logloss:0.47491\n",
      "[12]\tvalidation_0-logloss:0.47155\n",
      "[13]\tvalidation_0-logloss:0.47712\n",
      "[14]\tvalidation_0-logloss:0.48133\n",
      "[15]\tvalidation_0-logloss:0.48350\n",
      "[16]\tvalidation_0-logloss:0.48492\n",
      "Accuracy: 78.35%\n"
     ]
    },
    {
     "name": "stderr",
     "output_type": "stream",
     "text": [
      "C:\\Users\\Byju\\Anaconda3\\lib\\site-packages\\xgboost\\sklearn.py:793: UserWarning: `eval_metric` in `fit` method is deprecated for better compatibility with scikit-learn, use `eval_metric` in constructor or`set_params` instead.\n",
      "  warnings.warn(\n",
      "C:\\Users\\Byju\\Anaconda3\\lib\\site-packages\\xgboost\\sklearn.py:793: UserWarning: `early_stopping_rounds` in `fit` method is deprecated for better compatibility with scikit-learn, use `early_stopping_rounds` in constructor or`set_params` instead.\n",
      "  warnings.warn(\n"
     ]
    }
   ],
   "source": [
    "# early stopping\n",
    "from numpy import loadtxt\n",
    "from xgboost import XGBClassifier\n",
    "from sklearn.model_selection import train_test_split\n",
    "from sklearn.metrics import accuracy_score\n",
    "# load data\n",
    "dataset = loadtxt('pima-indians-diabetes.csv', delimiter=\",\")\n",
    "# split data into X and y\n",
    "X = dataset[:,0:8]\n",
    "Y = dataset[:,8]\n",
    "# split data into train and test sets\n",
    "seed = 7\n",
    "test_size = 0.33\n",
    "X_train, X_test, y_train, y_test = train_test_split(X, Y, test_size=test_size, random_state=seed)\n",
    "# fit model no training data\n",
    "model = XGBClassifier()\n",
    "eval_set = [(X_test, y_test)]\n",
    "#If you set the number of rounds to 10, then it will look for no improvement in any 10 contiguous epochs.\n",
    "model.fit(X_train, y_train, early_stopping_rounds=10, eval_metric=\"logloss\", eval_set=eval_set, verbose=True)\n",
    "\n",
    "# make predictions for test data\n",
    "y_pred = model.predict(X_test)\n",
    "predictions = [round(value) for value in y_pred]\n",
    "# evaluate predictions\n",
    "accuracy = accuracy_score(y_test, predictions)\n",
    "print(\"Accuracy: %.2f%%\" % (accuracy * 100.0))\n",
    "\n",
    "\n",
    "#If you set the number of rounds to 10, then it will look for no improvement in any 10 contiguous epochs."
   ]
  },
  {
   "cell_type": "raw",
   "id": "1dc80c0d",
   "metadata": {},
   "source": [
    "We can see that the model stopped training at epoch 42 (close to what we expected by our manual judgment of learning curves) and that the model with the best loss was observed at epoch 32.\n",
    "\n",
    "It is generally a good idea to select the early_stopping_rounds as a reasonable function of the total number of training epochs (10% in this case) or attempt to correspond to the period of inflection points as might be observed on plots of learning curves."
   ]
  },
  {
   "cell_type": "code",
   "execution_count": null,
   "id": "e82af080",
   "metadata": {},
   "outputs": [],
   "source": []
  },
  {
   "cell_type": "code",
   "execution_count": null,
   "id": "e5b460ec",
   "metadata": {},
   "outputs": [],
   "source": []
  },
  {
   "cell_type": "raw",
   "id": "58be70cc",
   "metadata": {},
   "source": [
    "# It appears the results from above code were not in perfect sync with what Jason has listed in his website, but the concept is clear"
   ]
  }
 ],
 "metadata": {
  "kernelspec": {
   "display_name": "Python 3",
   "language": "python",
   "name": "python3"
  },
  "language_info": {
   "codemirror_mode": {
    "name": "ipython",
    "version": 3
   },
   "file_extension": ".py",
   "mimetype": "text/x-python",
   "name": "python",
   "nbconvert_exporter": "python",
   "pygments_lexer": "ipython3",
   "version": "3.8.8"
  }
 },
 "nbformat": 4,
 "nbformat_minor": 5
}

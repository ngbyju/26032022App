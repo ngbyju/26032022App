{
 "cells": [
  {
   "cell_type": "markdown",
   "id": "05256aac",
   "metadata": {},
   "source": [
    "# Binary Classification Of Sonar"
   ]
  },
  {
   "cell_type": "markdown",
   "id": "071a887e",
   "metadata": {},
   "source": [
    "# Baseline Neural Network Model Performance\n"
   ]
  },
  {
   "cell_type": "raw",
   "id": "96312a15",
   "metadata": {},
   "source": [
    "Let’s create a baseline model and result for this problem. We will start of by importing all of\n",
    "the classes and functions we will need."
   ]
  },
  {
   "cell_type": "code",
   "execution_count": null,
   "id": "82a4fead",
   "metadata": {},
   "outputs": [],
   "source": [
    "Now we can load the dataset using Pandas and split the columns into 60 input variables (X)\n",
    "and 1 output variable (Y ). We use Pandas to load the data because it easily handles strings\n",
    "(the output variable), whereas attempting to load the data directly using NumPy would be\n",
    "more difficult.\n",
    "\n",
    "# load dataset\n",
    "dataframe = pandas.read_csv(\"sonar.csv\", header=None)\n",
    "dataset = dataframe.values\n",
    "# split into input (X) and output (Y) variables\n",
    "X = dataset[:,0:60].astype(float)\n",
    "Y = dataset[:,60]\n",
    "\n",
    "\n",
    "    \n",
    "The output variable is string values. We must convert them into integer values 0 and 1. We\n",
    "can do this using the LabelEncoder class from scikit-learn. This class will model the encoding\n",
    "required using the entire dataset via the fit() function, then apply the encoding to create a\n",
    "new output variable using the transform() function.\n",
    "\n",
    "# encode class values as integers\n",
    "encoder = LabelEncoder()\n",
    "encoder.fit(Y)\n",
    "\n",
    "We are now ready to create our neural network model using Keras. We are going to use\n",
    "scikit-learn to evaluate the model using stratified k-fold cross validation. This is a resampling\n",
    "technique that will provide an estimate of the performance of the model. To use Keras models\n",
    "with scikit-learn, we must use the KerasClassifier wrapper. This class takes a function that\n",
    "creates and returns our neural network model. It also takes arguments that it will pass along to\n",
    "the call to fit() such as the number of epochs and the batch size. Let’s start o↵ by defining the\n",
    "function that creates our baseline model. Our model will have a single fully connected hidden\n",
    "layer with the same number of neurons as input variables. This is a good default starting point\n",
    "when creating neural networks on a new problem.\n",
    "The weights are initialized using a small Gaussian random number. The Rectifier activation\n",
    "function is used. The output layer contains a single neuron in order to make predictions. It\n",
    "uses the sigmoid activation function in order to produce a probability output in the range of\n",
    "0 to 1 that can easily and automatically be converted to crisp class values. Finally, we are\n",
    "using the logarithmic loss function (binary crossentropy) during training, the preferred loss\n",
    "function for binary classification problems. The model also uses the efficient Adam optimization\n",
    "algorithm for gradient descent and accuracy metrics will be collected when the model is trained.\n",
    "\n",
    "\n",
    "Now it is time to evaluate this model using stratified cross validation in the scikit-learn\n",
    "framework. We pass the number of training epochs to the KerasClassifier, again using\n",
    "reasonable default values. Verbose output is also turned o↵ given that the model will be created\n",
    "10 times for the 10-fold cross validation being performed.\n",
    "\n"
   ]
  },
  {
   "cell_type": "code",
   "execution_count": 18,
   "id": "921eb196",
   "metadata": {},
   "outputs": [
    {
     "name": "stderr",
     "output_type": "stream",
     "text": [
      "<ipython-input-18-34858b8cb7fa>:3: UserWarning: DelftStack\n",
      "  warnings.warn('DelftStack')\n",
      "<ipython-input-18-34858b8cb7fa>:40: DeprecationWarning: KerasClassifier is deprecated, use Sci-Keras (https://github.com/adriangb/scikeras) instead.\n",
      "  estimator = KerasClassifier(build_fn=create_baseline, nb_epoch=100, batch_size=5, verbose=0)\n"
     ]
    },
    {
     "name": "stdout",
     "output_type": "stream",
     "text": [
      "Baseline: 53.88% (2.55%)\n"
     ]
    }
   ],
   "source": [
    "import warnings\n",
    "warnings.filterwarnings('ignore', '.*do not.*', )\n",
    "warnings.warn('DelftStack')\n",
    "warnings.warn('Do not show this message')\n",
    "\n",
    "# Binary Classification with Sonar Dataset: Baseline\n",
    "import numpy\n",
    "import pandas\n",
    "from keras.models import Sequential\n",
    "from keras.layers import Dense\n",
    "from keras.wrappers.scikit_learn import KerasClassifier\n",
    "from sklearn.model_selection import cross_val_score\n",
    "from sklearn.preprocessing import LabelEncoder\n",
    "from sklearn.model_selection import StratifiedKFold\n",
    "from sklearn.preprocessing import StandardScaler\n",
    "from sklearn.pipeline import Pipeline\n",
    "# fix random seed for reproducibility\n",
    "seed = 7\n",
    "numpy.random.seed(seed)\n",
    "# load dataset\n",
    "dataframe = pandas.read_csv(\"sonar.csv\", header=None)\n",
    "dataset = dataframe.values\n",
    "# split into input (X) and output (Y) variables\n",
    "X = dataset[:,0:60].astype(float)\n",
    "Y = dataset[:,60]\n",
    "# encode class values as integers\n",
    "encoder = LabelEncoder()\n",
    "encoder.fit(Y)\n",
    "encoded_Y = encoder.transform(Y)\n",
    "# baseline model\n",
    "def create_baseline():\n",
    "    # create model\n",
    "    model = Sequential()\n",
    "    model.add(Dense(60, input_dim=60, kernel_initializer='random_normal', activation= \"relu\" ))\n",
    "    model.add(Dense(1,kernel_initializer='random_normal', activation= \"sigmoid\"))\n",
    "    # Compile model\n",
    "    model.compile(loss= \"binary_crossentropy\" , optimizer= \"adam\" , metrics=[\"accuracy\"])\n",
    "    return model\n",
    "# evaluate model with standardized dataset\n",
    "estimator = KerasClassifier(build_fn=create_baseline, nb_epoch=100, batch_size=5, verbose=0)\n",
    "kfold = StratifiedKFold(n_splits=10, shuffle=True, random_state=seed)\n",
    "results = cross_val_score(estimator, X, encoded_Y, cv=kfold)\n",
    "print(\"Baseline: %.2f%% (%.2f%%)\" % (results.mean()*100, results.std()*100))"
   ]
  },
  {
   "cell_type": "markdown",
   "id": "cfebd5f9",
   "metadata": {},
   "source": [
    "# Improve Performance With Data Preparation"
   ]
  },
  {
   "cell_type": "raw",
   "id": "55ea1072",
   "metadata": {},
   "source": [
    "It is a good practice to prepare your data before modeling. Neural network models are especially\n",
    "suitable to having consistent input values, both in scale and distribution. An e↵ective data\n",
    "preparation scheme for tabular data when building neural network models is standardization.\n",
    "This is where the data is rescaled such that the mean value for each attribute is 0 and the standard\n",
    "deviation is 1. This preserves Gaussian and Gaussian-like distributions whilst normalizing the\n",
    "central tendencies for each attribute.\n",
    "\n",
    "We can use scikit-learn to perform the standardization of our Sonar dataset using the\n",
    "StandardScaler class. Rather than performing the standardization on the entire dataset, it is\n",
    "good practice to train the standardization procedure on the training data within the pass of a\n",
    "cross validation run and to use the trained standardization instance to prepare the unseen test\n",
    "fold. This makes standardization a step in model preparation in the cross validation process\n",
    "and it prevents the algorithm having knowledge of unseen data during evaluation, knowledge\n",
    "that might be passed from the data preparation scheme like a crisper distribution.\n",
    "We can achieve this in scikit-learn using a Pipeline class. The pipeline is a wrapper that\n",
    "executes one or more models within a pass of the cross validation procedure. Here, we can\n",
    "define a pipeline with the StandardScaler followed by our neural network model."
   ]
  },
  {
   "cell_type": "code",
   "execution_count": 30,
   "id": "f8e4eaaf",
   "metadata": {},
   "outputs": [
    {
     "name": "stderr",
     "output_type": "stream",
     "text": [
      "<ipython-input-30-aa45a055fab0>:38: DeprecationWarning: KerasClassifier is deprecated, use Sci-Keras (https://github.com/adriangb/scikeras) instead.\n",
      "  estimators.append((\"mlp\" , KerasClassifier(build_fn=create_baseline, epochs=100,\n"
     ]
    },
    {
     "name": "stdout",
     "output_type": "stream",
     "text": [
      "Standardized: 87.02% (6.95%)\n"
     ]
    }
   ],
   "source": [
    "# Binary Classification with Sonar Dataset: Standardized\n",
    "import numpy\n",
    "import pandas\n",
    "from keras.models import Sequential\n",
    "from keras.layers import Dense\n",
    "from keras.wrappers.scikit_learn import KerasClassifier\n",
    "from sklearn.model_selection import cross_val_score\n",
    "from sklearn.preprocessing import LabelEncoder\n",
    "from sklearn.model_selection import StratifiedKFold\n",
    "from sklearn.preprocessing import StandardScaler\n",
    "from sklearn.pipeline import Pipeline\n",
    "# fix random seed for reproducibility\n",
    "seed = 7\n",
    "numpy.random.seed(seed)\n",
    "# load dataset\n",
    "dataframe = pandas.read_csv(\"sonar.csv\", header=None)\n",
    "dataset = dataframe.values\n",
    "# split into input (X) and output (Y) variables\n",
    "X = dataset[:,0:60].astype(float)\n",
    "Y = dataset[:,60]\n",
    "# encode class values as integers\n",
    "encoder = LabelEncoder()\n",
    "encoder.fit(Y)\n",
    "encoded_Y = encoder.transform(Y)\n",
    "# baseline model\n",
    "def create_baseline():\n",
    "    # create model\n",
    "    model = Sequential()\n",
    "    model.add(Dense(60, input_dim=60, kernel_initializer='random_normal', activation= \"relu\"))\n",
    "    model.add(Dense(1, kernel_initializer='random_normal', activation= \"sigmoid\" ))\n",
    "    # Compile model\n",
    "    model.compile(loss= \"binary_crossentropy\" , optimizer= \"adam\", metrics=[\"accuracy\" ])\n",
    "    return model\n",
    "# evaluate baseline model with standardized dataset\n",
    "numpy.random.seed(seed)\n",
    "estimators = []\n",
    "estimators.append((\"standardize\" , StandardScaler()))\n",
    "estimators.append((\"mlp\" , KerasClassifier(build_fn=create_baseline, epochs=100, batch_size=5, verbose=0)))\n",
    "pipeline = Pipeline(estimators)\n",
    "kfold = StratifiedKFold(n_splits=10, shuffle=True, random_state=seed)\n",
    "results = cross_val_score(pipeline, X, encoded_Y, cv=kfold)\n",
    "print(\"Standardized: %.2f%% (%.2f%%)\" % (results.mean()*100, results.std()*100))"
   ]
  },
  {
   "cell_type": "code",
   "execution_count": null,
   "id": "844e48eb",
   "metadata": {},
   "outputs": [],
   "source": [
    "https://github.com/adriangb/scikeras/issues/112"
   ]
  },
  {
   "cell_type": "code",
   "execution_count": 36,
   "id": "4151df30",
   "metadata": {},
   "outputs": [
    {
     "name": "stderr",
     "output_type": "stream",
     "text": [
      "<ipython-input-36-10a001c56907>:38: DeprecationWarning: KerasClassifier is deprecated, use Sci-Keras (https://github.com/adriangb/scikeras) instead.\n",
      "  estimators.append((\"mlp\" , KerasClassifier(build_fn=create_baseline, epochs=400,\n"
     ]
    },
    {
     "name": "stdout",
     "output_type": "stream",
     "text": [
      "Larger: 85.07% (7.75%)\n"
     ]
    }
   ],
   "source": [
    "# Binary Classification with Sonar Dataset: Standardized Larger and increased epochs\n",
    "import numpy\n",
    "import pandas\n",
    "from keras.models import Sequential\n",
    "from keras.layers import Dense\n",
    "from keras.wrappers.scikit_learn import KerasClassifier\n",
    "from sklearn.model_selection import cross_val_score\n",
    "from sklearn.preprocessing import LabelEncoder\n",
    "from sklearn.model_selection import StratifiedKFold\n",
    "from sklearn.preprocessing import StandardScaler\n",
    "from sklearn.pipeline import Pipeline\n",
    "# fix random seed for reproducibility\n",
    "seed = 7\n",
    "numpy.random.seed(seed)\n",
    "# load dataset\n",
    "dataframe = pandas.read_csv(\"sonar.csv\", header=None)\n",
    "dataset = dataframe.values\n",
    "# split into input (X) and output (Y) variables\n",
    "X = dataset[:,0:60].astype(float)\n",
    "Y = dataset[:,60]\n",
    "# encode class values as integers\n",
    "encoder = LabelEncoder()\n",
    "encoder.fit(Y)\n",
    "encoded_Y = encoder.transform(Y)\n",
    "# larger model\n",
    "def create_larger():\n",
    "    # create model\n",
    "    model = Sequential()\n",
    "    model.add(Dense(60, input_dim=60, kernel_initializer='random_normal', activation= \"relu\"))\n",
    "    model.add(Dense(30, kernel_initializer='random_normal', activation= \"relu\"))\n",
    "    model.add(Dense(1, kernel_initializer='random_normal', activation= \"sigmoid\" ))\n",
    "    # Compile model\n",
    "    model.compile(loss= \"binary_crossentropy\" , optimizer= \"adam\", metrics=[\"accuracy\" ])\n",
    "    return model\n",
    "numpy.random.seed(seed)\n",
    "estimators = []\n",
    "estimators.append((\"standardize\" , StandardScaler()))\n",
    "estimators.append((\"mlp\" , KerasClassifier(build_fn=create_baseline, epochs=400,\n",
    "batch_size=5, verbose=0)))\n",
    "pipeline = Pipeline(estimators)\n",
    "kfold = StratifiedKFold(n_splits=10, shuffle=True, random_state=seed)\n",
    "results = cross_val_score(pipeline, X, encoded_Y, cv=kfold)\n",
    "print(\"Larger: %.2f%% (%.2f%%)\" % (results.mean()*100, results.std()*100))"
   ]
  },
  {
   "cell_type": "code",
   "execution_count": 16,
   "id": "c04cad1d",
   "metadata": {},
   "outputs": [
    {
     "name": "stdout",
     "output_type": "stream",
     "text": [
      "2.7.0\n"
     ]
    }
   ],
   "source": [
    "import keras\n",
    "print(keras.__version__)"
   ]
  },
  {
   "cell_type": "code",
   "execution_count": 17,
   "id": "47366d16",
   "metadata": {},
   "outputs": [
    {
     "name": "stdout",
     "output_type": "stream",
     "text": [
      "2.7.0\n"
     ]
    }
   ],
   "source": [
    "import tensorflow as tf\n",
    "print(tf.__version__)"
   ]
  },
  {
   "cell_type": "raw",
   "id": "9da12234",
   "metadata": {},
   "source": [
    "# https://keras.io/api/layers/initializers/\n",
    "\n",
    "Layer weight initializers\n",
    "Usage of initializers\n",
    "Initializers define the way to set the initial random weights of Keras layers.\n",
    "\n",
    "The keyword arguments used for passing initializers to layers depends on the layer. Usually, it is simply kernel_initializer and bias_initializer"
   ]
  },
  {
   "cell_type": "code",
   "execution_count": null,
   "id": "55336bc3",
   "metadata": {},
   "outputs": [],
   "source": []
  }
 ],
 "metadata": {
  "kernelspec": {
   "display_name": "Python 3",
   "language": "python",
   "name": "python3"
  },
  "language_info": {
   "codemirror_mode": {
    "name": "ipython",
    "version": 3
   },
   "file_extension": ".py",
   "mimetype": "text/x-python",
   "name": "python",
   "nbconvert_exporter": "python",
   "pygments_lexer": "ipython3",
   "version": "3.8.8"
  }
 },
 "nbformat": 4,
 "nbformat_minor": 5
}

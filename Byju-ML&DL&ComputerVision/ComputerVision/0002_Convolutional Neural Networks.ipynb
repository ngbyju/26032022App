{
 "cells": [
  {
   "cell_type": "markdown",
   "id": "97653e78",
   "metadata": {},
   "source": [
    "# Convolutional Neural Networks"
   ]
  },
  {
   "cell_type": "raw",
   "id": "8b4d515f",
   "metadata": {},
   "source": [
    "Convolutional Neural Networks are a powerful artificial neural network technique. These networks preserve the spatial structure of the problem and were developed for object recognition tasks such as handwritten digit recognition. They are popular because people are achieving state-of-the-art results on difficult computer vision and natural language processing tasks. In this\n",
    "lesson you will discover Convolutional Neural Networks for deep learning, also called ConvNets or CNNs.\n",
    "\n",
    "After completing this crash course you will know: \n",
    "\n",
    "The building blocks used in CNNs such as convolutional layers and pool layers. \n",
    "How the building blocks fit together with a short worked example.\n",
    "Best practices for configuring CNNs on your own object recognition tasks. \n",
    "\n",
    "Let’s get started."
   ]
  },
  {
   "cell_type": "markdown",
   "id": "2f960c1c",
   "metadata": {},
   "source": [
    "# The Case for Convolutional Neural Networks"
   ]
  },
  {
   "cell_type": "raw",
   "id": "dd96be8c",
   "metadata": {},
   "source": [
    "Given a dataset of gray scale images with the standardized size of 32 ⇥ 32 pixels each, a\n",
    "traditional feedforward neural network would require 1,024 input weights (plus one bias). This\n",
    "is fair enough, but the flattening of the image matrix of pixels to a long vector of pixel values\n",
    "looses all of the spatial structure in the image. Unless all of the images are perfectly resized,\n",
    "the neural network will have great difficulty with the problem. \n",
    "\n",
    "Convolutional Neural Networks expect and preserve the spatial relationship between pixels\n",
    "by learning internal feature representations using small squares of input data. Feature are\n",
    "learned and used across the whole image, allowing for the objects in the images to be shifted or\n",
    "translated in the scene and still detectable by the network. It is this reason why the network is\n",
    "so useful for object recognition in photographs, picking out digits, faces, objects and so on with\n",
    "varying orientation. \n",
    "\n",
    "In summary, below are some of the benefits of using convolutional neural networks:\n",
    "They use fewer parameters (weights) to learn than a fully connected network.\n",
    "They are designed to be invariant to object position and distortion in the scene.\n",
    "They automatically learn and generalize features from the input domain."
   ]
  },
  {
   "cell_type": "raw",
   "id": "c628415b",
   "metadata": {},
   "source": [
    "Building Blocks of Convolutional Neural Networks\n",
    "There are three types of layers in a Convolutional Neural Network:\n",
    "1. Convolutional Layers.\n",
    "2. Pooling Layers.\n",
    "3. Fully-Connected Layers.\n"
   ]
  },
  {
   "cell_type": "markdown",
   "id": "49ae08da",
   "metadata": {},
   "source": [
    "# Convolutional Layers\n",
    "Convolutional layers are comprised of filters and feature maps."
   ]
  },
  {
   "cell_type": "raw",
   "id": "a2602b1d",
   "metadata": {},
   "source": [
    "Filters\n",
    "\n",
    "The filters are essentially the neurons of the layer. They have both weighted inputs and generate an output value like a neuron. The input size is a fixed square called a patch or a receptive field. If the convolutional layer is an input layer, then the input patch will be pixel values. If  the convolutional layers are deeper in the network architecture, then the convolutional layer will take input from a feature map from the previous layer.\n",
    "\n",
    "Feature Maps\n",
    "\n",
    "The feature map is the output of one filter applied to the previous layer. A given filter is drawn across the entire previous layer, moved one pixel at a time. Each position results in an activation of the neuron and the output is collected in the feature map. You can see that if the receptive field is moved one pixel from activation to activation, then the field will overlap with the previous activation by (field width - 1) input values. The distance that filter is moved across the input from the previous layer each activation is referred to as the stride. If the size of the previous layer is not cleanly divisible by the size of the filters receptive field and the size of the stride then it is possible for the receptive field to attempt to read off the edge of the input feature map. In this case, techniques like zero padding can be used to invent mock inputs with zero values for the receptive field to read.\n",
    "\n",
    "Pooling Layers\n",
    "\n",
    "The pooling layers down-sample the previous layers feature map. Pooling layers follow a sequence of one or more convolutional layers and are intended to consolidate the features learned and expressed in the previous layers feature map. As such, pooling may be considered as a technique to compress or generalize feature representations and generally reduce the overfitting of the\n",
    "training data by the model. They too have a receptive field, often much smaller than the convolutional layer. Also, the\n",
    "stride or number of inputs that the receptive field is moved for each activation is often equal to the size of the receptive field to avoid any overlap. Pooling layers are often very simple, taking the average or the maximum of the input value in order to create its own feature map.\n",
    "\n",
    "Fully Connected Layers\n",
    "\n",
    "Fully connected layers are the normal flat feedforward neural network layer. These layers may have a nonlinear activation function or a softmax activation in order to output probabilities of class predictions. Fully connected layers are used at the end of the network after feature extraction and consolidation has been performed by the convolutional and pooling layers. They\n",
    "are used to create final nonlinear combinations of features and for making predictions by the network."
   ]
  },
  {
   "cell_type": "markdown",
   "id": "c56244e3",
   "metadata": {},
   "source": [
    "# Convolutional Neural Networks Best Practices"
   ]
  },
  {
   "cell_type": "raw",
   "id": "d9d50855",
   "metadata": {},
   "source": [
    "\n",
    "Now that we know about the building blocks for a convolutional neural network and how the layers hang together, we can review some best practices to consider when applying them.\n",
    "\n",
    "Input Receptive Field Dimensions: The default is 2D for images, but could be 1D such as for words in a sentence or 3D for video that adds a time dimension.\n",
    "\n",
    "Receptive Field Size: The patch should be as small as possible, but large enough to see features in the input data. It is common to use 3 ⇥ 3 on small images and 5 x 5 or 7 x 7 and more on larger image sizes.\n",
    "\n",
    "Stride Width: Use the default stride of 1. It is easy to understand and you don’t need padding to handle the receptive field falling o↵ the edge of your images. This could be increased to 2 or larger for larger images.\n",
    "\n",
    "Number of Filters: Filters are the feature detectors. Generally fewer filters are used at the input layer and increasingly more filters used at deeper layers.\n",
    "\n",
    "Padding: Set to zero and called zero padding when reading non-input data. This is useful when you cannot or do not want to standardize input image sizes or when you want to use receptive field and stride sizes that do not neatly divide up the input image size.\n",
    "\n",
    "Pooling: Pooling is a destructive or generalization process to reduce overfitting. Receptive field size is almost always set to 2 ⇥2 with a stride of 2 to discard 75% of the activations from the output of the previous layer.\n",
    "\n",
    "Data Preparation: Consider standardizing input data, both the dimensions of the images and pixel values. \n",
    "\n",
    "Pattern Architecture: It is common to pattern the layers in your network architecture.This might be one, two or some number of convolutional layers followed by a pooling layer. \n",
    "\n",
    "This structure can then be repeated one or more times. Finally, fully connected layers are often only used at the output end and may be stacked one, two or more deep. \n",
    "\n",
    "Dropout: CNNs have a habit of overfitting, even with pooling layers. Dropout should be used such as between fully connected layers and perhaps after pooling layers."
   ]
  },
  {
   "cell_type": "code",
   "execution_count": null,
   "id": "7d6ef31b",
   "metadata": {},
   "outputs": [],
   "source": []
  },
  {
   "cell_type": "code",
   "execution_count": null,
   "id": "a3f38627",
   "metadata": {},
   "outputs": [],
   "source": []
  }
 ],
 "metadata": {
  "kernelspec": {
   "display_name": "Python 3",
   "language": "python",
   "name": "python3"
  },
  "language_info": {
   "codemirror_mode": {
    "name": "ipython",
    "version": 3
   },
   "file_extension": ".py",
   "mimetype": "text/x-python",
   "name": "python",
   "nbconvert_exporter": "python",
   "pygments_lexer": "ipython3",
   "version": "3.8.8"
  }
 },
 "nbformat": 4,
 "nbformat_minor": 5
}

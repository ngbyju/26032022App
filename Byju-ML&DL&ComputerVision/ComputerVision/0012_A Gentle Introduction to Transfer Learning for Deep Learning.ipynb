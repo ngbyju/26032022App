{
 "cells": [
  {
   "cell_type": "markdown",
   "id": "dd37061e",
   "metadata": {},
   "source": [
    "# A Gentle Introduction to Transfer Learning for Deep Learning\n",
    "https://machinelearningmastery.com/transfer-learning-for-deep-learning/"
   ]
  },
  {
   "cell_type": "raw",
   "id": "5dd66373",
   "metadata": {},
   "source": [
    "# Transfer learning is a machine learning method where a model developed for a task is reused as the starting point for a model on a second task.\n",
    "\n",
    "It is a popular approach in deep learning where pre-trained models are used as the starting point on computer vision and natural language processing tasks given the vast compute and time resources required to develop neural network models on these problems and from the huge jumps in skill that they provide on related problems.\n",
    "\n",
    "In this post, you will discover how you can use transfer learning to speed up training and improve the performance of your deep learning model.\n",
    "\n",
    "After reading this post, you will know:\n",
    "\n",
    "What transfer learning is and how to use it.\n",
    "Common examples of transfer learning in deep learning.\n",
    "When to use transfer learning on your own predictive modeling problems."
   ]
  },
  {
   "cell_type": "markdown",
   "id": "51b226f8",
   "metadata": {},
   "source": [
    "# What is Transfer Learning?"
   ]
  },
  {
   "cell_type": "raw",
   "id": "75070842",
   "metadata": {},
   "source": [
    "Transfer learning is a machine learning technique where a model trained on one task is re-purposed on a second related task.\n",
    "\n",
    "Transfer learning and domain adaptation refer to the situation where what has been learned in one setting … is exploited to improve generalization in another setting\n",
    "\n",
    "— Page 526, Deep Learning, 2016.\n",
    "\n",
    "Transfer learning is an optimization that allows rapid progress or improved performance when modeling the second task.\n",
    "\n",
    "Transfer learning is the improvement of learning in a new task through the transfer of knowledge from a related task that has already been learned.\n",
    "\n",
    "— Chapter 11: Transfer Learning, Handbook of Research on Machine Learning Applications, 2009.\n",
    "\n",
    "Transfer learning is related to problems such as multi-task learning and concept drift and is not exclusively an area of study for deep learning.\n",
    "\n",
    "Nevertheless, transfer learning is popular in deep learning given the enormous resources required to train deep learning models or the large and challenging datasets on which deep learning models are trained.\n",
    "\n",
    "Transfer learning only works in deep learning if the model features learned from the first task are general.\n",
    "\n",
    "In transfer learning, we first train a base network on a base dataset and task, and then we repurpose the learned features, or transfer them, to a second target network to be trained on a target dataset and task. This process will tend to work if the features are general, meaning suitable to both base and target tasks, instead of specific to the base task.\n",
    "\n",
    "— How transferable are features in deep neural networks?\n",
    "\n",
    "This form of transfer learning used in deep learning is called inductive transfer. This is where the scope of possible models (model bias) is narrowed in a beneficial way by using a model fit on a different but related task."
   ]
  },
  {
   "cell_type": "markdown",
   "id": "b9ce2251",
   "metadata": {},
   "source": [
    "# How to Use Transfer Learning?"
   ]
  },
  {
   "cell_type": "raw",
   "id": "c1f1badd",
   "metadata": {},
   "source": [
    "You can use transfer learning on your own predictive modeling problems.\n",
    "\n",
    "Two common approaches are as follows:\n",
    "\n",
    "Develop Model Approach\n",
    "Pre-trained Model Approach\n",
    "\n",
    "\n",
    "Develop Model Approach\n",
    "\n",
    "Select Source Task. You must select a related predictive modeling problem with an abundance of data where there is some relationship in the input data, output data, and/or concepts learned during the mapping from input to output data.\n",
    "\n",
    "Develop Source Model. Next, you must develop a skillful model for this first task. The model must be better than a naive model to ensure that some feature learning has been performed.\n",
    "\n",
    "Reuse Model. The model fit on the source task can then be used as the starting point for a model on the second task of interest. This may involve using all or parts of the model, depending on the modeling technique used.\n",
    "\n",
    "Tune Model. Optionally, the model may need to be adapted or refined on the input-output pair data available for the task of interest.\n",
    "\n",
    "\n",
    "Pre-trained Model Approach\n",
    "\n",
    "Select Source Model. A pre-trained source model is chosen from available models. Many research institutions release models on large and challenging datasets that may be included in the pool of candidate models from which to choose from.\n",
    "\n",
    "Reuse Model. The model pre-trained model can then be used as the starting point for a model on the second task of interest. \n",
    "This may involve using all or parts of the model, depending on the modeling technique used.\n",
    "\n",
    "Tune Model. Optionally, the model may need to be adapted or refined on the input-output pair data available for the task of interest.\n",
    "\n",
    "This second type of transfer learning is common in the field of deep learning.\n"
   ]
  },
  {
   "cell_type": "code",
   "execution_count": null,
   "id": "c53a744d",
   "metadata": {},
   "outputs": [],
   "source": [
    "Examples of Transfer Learning with Deep Learning\n",
    "Let’s make this concrete with two common examples of transfer learning with deep learning models.\n"
   ]
  },
  {
   "cell_type": "markdown",
   "id": "6e8f0883",
   "metadata": {},
   "source": [
    "# Transfer Learning with Image Data"
   ]
  },
  {
   "cell_type": "raw",
   "id": "e4df7c41",
   "metadata": {},
   "source": [
    "It is common to perform transfer learning with predictive modeling problems that use image data as input.\n",
    "\n",
    "This may be a prediction task that takes photographs or video data as input.\n",
    "\n",
    "For these types of problems, it is common to use a deep learning model pre-trained for a large and challenging image classification task such as the ImageNet 1000-class photograph classification competition.\n",
    "\n",
    "The research organizations that develop models for this competition and do well often release their final model under a permissive license for reuse. These models can take days or weeks to train on modern hardware.\n",
    "\n",
    "These models can be downloaded and incorporated directly into new models that expect image data as input.\n",
    "\n",
    "Three examples of models of this type include:\n",
    "\n",
    "Oxford VGG Model\n",
    "Google Inception Model\n",
    "Microsoft ResNet Model\n",
    "\n",
    "\n",
    "For more examples, see the Caffe Model Zoo where more pre-trained models are shared.\n",
    "\n",
    "This approach is effective because the images were trained on a large corpus of photographs and require the model to make predictions on a relatively large number of classes, in turn, requiring that the model efficiently learn to extract features from photographs in order to perform well on the problem.\n",
    "\n",
    "In their Stanford course on Convolutional Neural Networks for Visual Recognition, the authors caution to carefully choose how much of the pre-trained model to use in your new model.\n",
    "\n",
    "[Convolutional Neural Networks] features are more generic in early layers and more original-dataset-specific in later layers\n",
    "\n",
    "— Transfer Learning, CS231n Convolutional Neural Networks for Visual Recognition"
   ]
  },
  {
   "cell_type": "markdown",
   "id": "a95dd6ef",
   "metadata": {},
   "source": [
    "# Transfer Learning with Language Data"
   ]
  },
  {
   "cell_type": "code",
   "execution_count": null,
   "id": "28c029bb",
   "metadata": {},
   "outputs": [],
   "source": [
    "It is common to perform transfer learning with natural language processing problems that use text as input or output.\n",
    "\n",
    "For these types of problems, a word embedding is used that is a mapping of words to a high-dimensional continuous vector space where different words with a similar meaning have a similar vector representation.\n",
    "\n",
    "Efficient algorithms exist to learn these distributed word representations and it is common for research organizations to release pre-trained models trained on very large corpa of text documents under a permissive license.\n",
    "\n",
    "Two examples of models of this type include:\n",
    "\n",
    "Google’s word2vec Model\n",
    "Stanford’s GloVe Model\n",
    "\n",
    "\n",
    "These distributed word representation models can be downloaded and incorporated into deep learning language models in either the interpretation of words as input or the generation of words as output from the model.\n",
    "\n",
    "In his book on Deep Learning for Natural Language Processing, Yoav Goldberg cautions:\n",
    "\n",
    "… one can download pre-trained word vectors that were trained on very large quantities of text […] differences in training regimes and underlying corpora have a strong influence on the resulting representations, and that the available pre-trained representations may not be the best choice for [your] particular use case.\n",
    "\n",
    "— Page 135, Neural Network Methods in Natural Language Processing, 2017."
   ]
  },
  {
   "cell_type": "code",
   "execution_count": null,
   "id": "eb47a6e1",
   "metadata": {},
   "outputs": [],
   "source": []
  },
  {
   "cell_type": "code",
   "execution_count": null,
   "id": "931e903f",
   "metadata": {},
   "outputs": [],
   "source": []
  },
  {
   "cell_type": "code",
   "execution_count": null,
   "id": "f60e0dd2",
   "metadata": {},
   "outputs": [],
   "source": []
  },
  {
   "cell_type": "code",
   "execution_count": null,
   "id": "ccaa82bd",
   "metadata": {},
   "outputs": [],
   "source": []
  },
  {
   "cell_type": "code",
   "execution_count": null,
   "id": "93489611",
   "metadata": {},
   "outputs": [],
   "source": []
  },
  {
   "cell_type": "code",
   "execution_count": null,
   "id": "965f1a74",
   "metadata": {},
   "outputs": [],
   "source": []
  },
  {
   "cell_type": "code",
   "execution_count": null,
   "id": "55b1361e",
   "metadata": {},
   "outputs": [],
   "source": []
  }
 ],
 "metadata": {
  "kernelspec": {
   "display_name": "Python 3",
   "language": "python",
   "name": "python3"
  },
  "language_info": {
   "codemirror_mode": {
    "name": "ipython",
    "version": 3
   },
   "file_extension": ".py",
   "mimetype": "text/x-python",
   "name": "python",
   "nbconvert_exporter": "python",
   "pygments_lexer": "ipython3",
   "version": "3.8.8"
  }
 },
 "nbformat": 4,
 "nbformat_minor": 5
}

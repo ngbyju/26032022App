{
 "cells": [
  {
   "cell_type": "markdown",
   "id": "37b7dc7a",
   "metadata": {},
   "source": [
    "# Crash Course In Recurrent Neural Networks\n",
    "Book \"Deep Learning with Python\" by Jason Brownlee Pages 169-255"
   ]
  },
  {
   "cell_type": "code",
   "execution_count": 1,
   "id": "86de8d2e",
   "metadata": {},
   "outputs": [],
   "source": [
    "import pandas as pd\n",
    "import numpy as np\n"
   ]
  },
  {
   "cell_type": "raw",
   "id": "eeeb53b9",
   "metadata": {},
   "source": [
    "There is another type of neural network that is dominating difficult machine learning problems that involve sequences of inputs called recurrent neural networks. Recurrent neural networks have connections that have loops, adding feedback and memory to the networks over time. This memory allows this type of network to learn and generalize across sequences of inputs rather\n",
    "than individual patterns.\n",
    "\n",
    "A powerful type of Recurrent Neural Network called the Long Short-Term Memory Network has been shown to be particularly e↵ective when stacked into a deep configuration, achieving state-of-the-art results on a diverse array of problems from language translation to automatic captioning of images and videos. In this lesson you will get a crash course in recurrent neural networks for deep learning, acquiring just enough understanding to start using LSTM networks in Python with Keras. After reading this lesson, you will know:\n",
    "\n",
    "The limitations of Multilayer Perceptrons that are addressed by recurrent neural networks.\n",
    "The problems that must be addressed to make Recurrent Neural networks useful.\n",
    "The details of the Long Short-Term Memory networks used in applied deep learning. \n",
    "\n",
    "Let’s get started."
   ]
  },
  {
   "cell_type": "markdown",
   "id": "ff9b578d",
   "metadata": {},
   "source": [
    "# Support For Sequences in Neural Networks "
   ]
  },
  {
   "cell_type": "raw",
   "id": "195eddd3",
   "metadata": {},
   "source": [
    "There are some problem types that are best framed involving either a sequence as an input or an output. For example, consider a univariate time series problem, like the price of a stock over time. This dataset can be framed as a prediction problem for a classical feedforward Multilayer Perceptron network by defining a windows size (e.g. 5) and training the network to learn to\n",
    "make short term predictions from the fixed sized window of inputs.\n",
    "\n",
    "This would work, but is very limited. The window of inputs adds memory to the problem, but is limited to just a fixed number of points and must be chosen with sufficient knowledge of the problem. A naive window would not capture the broader trends over minutes, hours and days that might be relevant to making a prediction. From one prediction to the next, the network only knows about the specific inputs it is provided. Univariate time series prediction is important, but there are even more interesting problems that involve sequences. Consider the following taxonomy of sequence problems that require a mapping of an input to an output (taken from Andrej Karpathy1).\n",
    "\n",
    "One-to-Many: sequence output, for image captioning.\n",
    "Many-to-One: sequence input, for sentiment classification.\n",
    "Many-to-Many: sequence in and out, for machine translation.\n",
    "Synchronized Many-to-Many: synced sequences in and out, for video classification.\n",
    "\n",
    "We can also see that a one-to-one example of input to output would be an example of a classical feedforward neural network for a prediction task like image classification. Support for sequences in neural networks is an important class of problem and one where deep learning has recently shown impressive results State-of-the art results have been using a type of network\n",
    "specifically designed for sequence problems called recurrent neural networks."
   ]
  },
  {
   "cell_type": "markdown",
   "id": "cbdedaee",
   "metadata": {},
   "source": [
    "# Recurrent Neural Networks"
   ]
  },
  {
   "cell_type": "raw",
   "id": "6f43d4d0",
   "metadata": {},
   "source": [
    "Recurrent Neural Networks or RNNs are a special type of neural network designed for sequence problems. Given a standard feedforward Multilayer Perceptron network, a recurrent neural network can be thought of as the addition of loops to the architecture. For example, in a given layer, each neuron may pass its signal latterly (sideways) in addition to forwarding to the next layer. The output of the network may feedback as an input to the network with the next input vector. And so on.\n",
    "\n",
    "The recurrent connections add state or memory to the network and allow it to learn broader abstractions from the input sequences. The field of recurrent neural networks is well established with popular methods. For the techniques to be effective on real problems, two major issues needed to be resolved for the network to be useful.\n",
    "\n",
    "1. How to train the network with Back propagation. \n",
    "2. How to stop gradients vanishing or exploding during training.\n",
    "\n"
   ]
  },
  {
   "cell_type": "markdown",
   "id": "75c55c3c",
   "metadata": {},
   "source": [
    "# How to Train Recurrent Neural Networks"
   ]
  },
  {
   "cell_type": "raw",
   "id": "447bade6",
   "metadata": {},
   "source": [
    "The staple technique for training feedforward neural networks is to back propagate error and update the network weights. Back propagation breaks down in a recurrent neural network, because of the recurrent or loop connections. This was addressed with a modification of the Back propagation technique called Back propagation Through Time or BPTT.\n",
    "\n",
    "Instead of performing back propagation on the recurrent network, the structure of the network is unrolled, where copies of the neurons that have recurrent connections are created. For example a single neuron with a connection to itself (A -> A) could be represented as two neurons with the same weight values (A -> B). This allows the cyclic graph of a recurrent\n",
    "neural network to be turned into an acyclic graph like a classic feedforward neural network, and Back propagation can be applied."
   ]
  },
  {
   "cell_type": "markdown",
   "id": "e5544901",
   "metadata": {},
   "source": [
    "# How to Have Stable Gradients During Training"
   ]
  },
  {
   "cell_type": "raw",
   "id": "5ca0113d",
   "metadata": {},
   "source": [
    "When Back propagation is used in very deep neural networks and in unrolled recurrent neural networks, the gradients that are calculated in order to update the weights can become unstable. They can become very large numbers called exploding gradients or very small numbers called the vanishing gradient problem. These large numbers in turn are used to update the weights in\n",
    "the network, making training unstable and the network unreliable. This problem is alleviated in deep Multilayer Perceptron networks through the use of the Rectifier transfer function, and even more exotic but now less popular approaches of using unsupervised pre-training of layers. In recurrent neural network architectures, this problem has been alleviated using a new type of architecture called the Long Short-Term Memory Networks that allows deep recurrent networks to be trained."
   ]
  },
  {
   "cell_type": "markdown",
   "id": "41111ec0",
   "metadata": {},
   "source": [
    "# Long Short-Term Memory Networks"
   ]
  },
  {
   "cell_type": "raw",
   "id": "ff3274fc",
   "metadata": {},
   "source": [
    "The Long Short-Term Memory or LSTM network is a recurrent neural network that is trained using Back propagation Through Time and overcomes the vanishing gradient problem. As such it can be used to create large (stacked) recurrent networks, that in turn can be used to address difficult sequence problems in machine learning and achieve state-of-the-art results. Instead of\n",
    "neurons, LSTM networks have memory blocks that are connected into layers.\n",
    "\n",
    "A block has components that make it smarter than a classical neuron and a memory for recent sequences. A block contains gates that manage the block’s state and output. A unit operates upon an input sequence and each gate within a unit uses the sigmoid activation function to control whether they are triggered or not, making the change of state and addition of information flowing through the unit conditional. There are three types of gates within a memory unit:\n",
    "\n",
    "1) Forget Gate: conditionally decides what information to discard from the unit.\n",
    "2) Input Gate: conditionally decides which values from the input to update the memory state.\n",
    "3) Output Gate: conditionally decides what to output based on input and the memory of the unit.\n",
    "\n",
    "Each unit is like a mini state machine where the gates of the units have weights that are learned during the training procedure. You can see how you may achieve a sophisticated learning and memory from a layer of LSTMs, and it is not hard to imagine how higher-order abstractions may be layered with multiple such layers."
   ]
  },
  {
   "cell_type": "markdown",
   "id": "23728c44",
   "metadata": {},
   "source": [
    "# Summary"
   ]
  },
  {
   "cell_type": "raw",
   "id": "86164aaf",
   "metadata": {},
   "source": [
    "In this lesson you discovered sequence problems and recurrent neural networks that can be used to address them. Specifically, you learned:\n",
    "\n",
    "The limitations of classical feedforward neural networks and how recurrent neural networks can overcome these problems.\n",
    "The practical problems in training recurrent neural networks and how they are overcome.\n",
    "The Long Short-Term Memory network used to create deep recurrent neural networks.\n",
    "\n",
    "\n"
   ]
  },
  {
   "cell_type": "markdown",
   "id": "3a446d34",
   "metadata": {},
   "source": [
    "# Next"
   ]
  },
  {
   "cell_type": "raw",
   "id": "5f651bef",
   "metadata": {},
   "source": [
    "In this lesson you took a crash course in recurrent neural networks. In the next lesson you will discover how you can tackle simple time series prediction problems with Multilayer Perceptron models, a precursor to working with recurrent networks."
   ]
  }
 ],
 "metadata": {
  "kernelspec": {
   "display_name": "Python 3",
   "language": "python",
   "name": "python3"
  },
  "language_info": {
   "codemirror_mode": {
    "name": "ipython",
    "version": 3
   },
   "file_extension": ".py",
   "mimetype": "text/x-python",
   "name": "python",
   "nbconvert_exporter": "python",
   "pygments_lexer": "ipython3",
   "version": "3.8.8"
  }
 },
 "nbformat": 4,
 "nbformat_minor": 5
}

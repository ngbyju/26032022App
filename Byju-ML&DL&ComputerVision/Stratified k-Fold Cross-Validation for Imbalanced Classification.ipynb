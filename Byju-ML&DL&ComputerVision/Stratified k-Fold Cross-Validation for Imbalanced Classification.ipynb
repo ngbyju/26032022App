{
 "cells": [
  {
   "cell_type": "markdown",
   "id": "dd7e0d36",
   "metadata": {},
   "source": [
    "# How to Fix k-Fold Cross-Validation for Imbalanced Classification\n",
    "https://machinelearningmastery.com/cross-validation-for-imbalanced-classification/"
   ]
  },
  {
   "cell_type": "raw",
   "id": "45a66095",
   "metadata": {},
   "source": [
    "Tutorial Overview\n",
    "This tutorial is divided into three parts; they are:\n",
    "\n",
    "Challenge of Evaluating Classifiers\n",
    "Failure of k-Fold Cross-Validation\n",
    "Fix Cross-Validation for Imbalanced Classification"
   ]
  },
  {
   "cell_type": "markdown",
   "id": "6eb1e54f",
   "metadata": {},
   "source": [
    "# Challenge of Evaluating Classifiers"
   ]
  },
  {
   "cell_type": "raw",
   "id": "bf071f5d",
   "metadata": {},
   "source": [
    "Evaluating a classification model is challenging because we won’t know how good a model is until it is used.\n",
    "\n",
    "Instead, we must estimate the performance of a model using available data where we already have the target or outcome.\n",
    "\n",
    "Model evaluation involves more than just evaluating a model; it includes testing different data preparation schemes, different learning algorithms, and different hyperparameters for well-performing learning algorithms.\n",
    "\n",
    "Model = Data Preparation + Learning Algorithm + Hyperparameters\n",
    "Ideally, the model construction procedure (data preparation, learning algorithm, and hyperparameters) with the best score (with your chosen metric) can be selected and used.\n",
    "\n",
    "The simplest model evaluation procedure is to split a dataset into two parts and use one part for training a model and the second part for testing the model. As such, the parts of the dataset are named for their function, train set and test set respectively.\n",
    "\n",
    "This is effective if your collected dataset is very large and representative of the problem. The number of examples required will differ from problem to problem, but may be thousands, hundreds of thousands, or millions of examples to be sufficient.\n",
    "\n",
    "A split of 50/50 for train and test would be ideal, although more skewed splits are common, such as 67/33 or 80/20 for train and test sets.\n",
    "\n",
    "We rarely have enough data to get an unbiased estimate of performance using a train/test split evaluation of a model. Instead, we often have a much smaller dataset than would be preferred, and resampling strategies must be used on this dataset.\n",
    "\n",
    "The most used model evaluation scheme for classifiers is the 10-fold cross-validation procedure.\n",
    "\n",
    "The k-fold cross-validation procedure involves splitting the training dataset into k folds. The first k-1 folds are used to train a model, and the holdout kth fold is used as the test set. This process is repeated and each of the folds is given an opportunity to be used as the holdout test set. A total of k models are fit and evaluated, and the performance of the model is calculated as the mean of these runs.\n",
    "\n",
    "The procedure has been shown to give a less optimistic estimate of model performance on small training datasets than a single train/test split. A value of k=10 has been shown to be effective across a wide range of dataset sizes and model types."
   ]
  },
  {
   "cell_type": "markdown",
   "id": "93f5ec80",
   "metadata": {},
   "source": [
    "# Failure of k-Fold Cross-Validation"
   ]
  },
  {
   "cell_type": "code",
   "execution_count": null,
   "id": "b066dd91",
   "metadata": {},
   "outputs": [],
   "source": [
    "\n",
    "Sadly, the k-fold cross-validation is not appropriate for evaluating imbalanced classifiers.\n",
    "\n",
    "A 10-fold cross-validation, in particular, the most commonly used error-estimation method in machine learning, can easily break down in the case of class imbalances, even if the skew is less extreme than the one previously considered.\n",
    "\n",
    "— Page 188, Imbalanced Learning: Foundations, Algorithms, and Applications, 2013.\n",
    "\n",
    "The reason is that the data is split into k-folds with a uniform probability distribution.\n",
    "\n",
    "This might work fine for data with a balanced class distribution, but when the distribution is severely skewed, it is likely that one or more folds will have few or no examples from the minority class. This means that some or perhaps many of the model evaluations will be misleading, as the model need only predict the majority class correctly.\n",
    "\n",
    "We can make this concrete with an example.\n",
    "\n",
    "First, we can define a dataset with a 1:100 minority to majority class distribution.\n",
    "\n",
    "This can be achieved using the make_classification() function for creating a synthetic dataset, specifying the number of examples (1,000), the number of classes (2), and the weighting of each class (99% and 1%)."
   ]
  },
  {
   "cell_type": "code",
   "execution_count": null,
   "id": "03ff457d",
   "metadata": {},
   "outputs": [],
   "source": [
    "The example below generates the synthetic binary classification dataset and summarizes the class distribution."
   ]
  },
  {
   "cell_type": "code",
   "execution_count": 2,
   "id": "d769dd23",
   "metadata": {},
   "outputs": [
    {
     "name": "stdout",
     "output_type": "stream",
     "text": [
      "> Class=0 : 990/1000 (99.0%)\n",
      "> Class=1 : 10/1000 (1.0%)\n"
     ]
    }
   ],
   "source": [
    "# create a binary classification dataset\n",
    "from numpy import unique\n",
    "from sklearn.datasets import make_classification\n",
    "# generate 2 class dataset\n",
    "X, y = make_classification(n_samples=1000, n_classes=2, weights=[0.99, 0.01], flip_y=0, random_state=1)\n",
    "# summarize dataset\n",
    "classes = unique(y)\n",
    "total = len(y)\n",
    "for c in classes:\n",
    "\tn_examples = len(y[y==c])\n",
    "\tpercent = n_examples / total * 100\n",
    "\tprint('> Class=%d : %d/%d (%.1f%%)' % (c, n_examples, total, percent))"
   ]
  },
  {
   "cell_type": "raw",
   "id": "7d9fa069",
   "metadata": {},
   "source": [
    "Running the example creates the dataset and summarizes the number of examples in each class.\n",
    "\n",
    "By setting the random_state argument, it ensures that we get the same randomly generated examples each time the code is run.\n",
    "\n",
    "A total of 10 examples in the minority class is not many. If we used 10-folds, we would get one example in each fold in the ideal case, which is not enough to train a model. For demonstration purposes, we will use 5-folds.\n",
    "\n",
    "In the ideal case, we would have 10/5 or two examples in each fold, meaning 4*2 (8) folds worth of examples in a training dataset and 1*2 folds (2) in a given test dataset.\n",
    "\n",
    "First, we will use the KFold class to randomly split the dataset into 5-folds and check the composition of each train and test set. The complete example is listed below"
   ]
  },
  {
   "cell_type": "code",
   "execution_count": 3,
   "id": "338a6c00",
   "metadata": {},
   "outputs": [
    {
     "name": "stdout",
     "output_type": "stream",
     "text": [
      ">Train: 0=791, 1=9, Test: 0=199, 1=1\n",
      ">Train: 0=793, 1=7, Test: 0=197, 1=3\n",
      ">Train: 0=794, 1=6, Test: 0=196, 1=4\n",
      ">Train: 0=790, 1=10, Test: 0=200, 1=0\n",
      ">Train: 0=792, 1=8, Test: 0=198, 1=2\n"
     ]
    }
   ],
   "source": [
    "# example of k-fold cross-validation with an imbalanced dataset\n",
    "from sklearn.datasets import make_classification\n",
    "from sklearn.model_selection import KFold\n",
    "# generate 2 class dataset\n",
    "X, y = make_classification(n_samples=1000, n_classes=2, weights=[0.99, 0.01], flip_y=0, random_state=1)\n",
    "kfold = KFold(n_splits=5, shuffle=True, random_state=1)\n",
    "# enumerate the splits and summarize the distributions\n",
    "for train_ix, test_ix in kfold.split(X):\n",
    "\t# select rows\n",
    "\ttrain_X, test_X = X[train_ix], X[test_ix]\n",
    "\ttrain_y, test_y = y[train_ix], y[test_ix]\n",
    "\t# summarize train and test composition\n",
    "\ttrain_0, train_1 = len(train_y[train_y==0]), len(train_y[train_y==1])\n",
    "\ttest_0, test_1 = len(test_y[test_y==0]), len(test_y[test_y==1])\n",
    "\tprint('>Train: 0=%d, 1=%d, Test: 0=%d, 1=%d' % (train_0, train_1, test_0, test_1))\n"
   ]
  },
  {
   "cell_type": "raw",
   "id": "9e71dde3",
   "metadata": {},
   "source": [
    "Running the example creates the same dataset and enumerates each split of the data, showing the class distribution for both the train and test sets.\n",
    "\n",
    "We can see that in this case, there are some splits that have the expected 8/2 split for train and test sets, and others that are much worse, such as 6/4 (optimistic) and 10/0 (pessimistic).\n",
    "\n",
    "Evaluating a model on these splits of the data would not give a reliable estimate of performance."
   ]
  },
  {
   "cell_type": "raw",
   "id": "f842b17c",
   "metadata": {},
   "source": [
    "We can demonstrate a similar issue exists if we use a simple train/test split of the dataset, although the issue is less severe.\n",
    "\n",
    "We can use the train_test_split() function to create a 50/50 split of the dataset and, on average, we would expect five examples from the minority class to appear in each dataset if we performed this split many times.\n",
    "\n",
    "The complete example is listed below."
   ]
  },
  {
   "cell_type": "code",
   "execution_count": 5,
   "id": "012add82",
   "metadata": {},
   "outputs": [
    {
     "name": "stdout",
     "output_type": "stream",
     "text": [
      ">Train: 0=497, 1=3, Test: 0=493, 1=7\n"
     ]
    }
   ],
   "source": [
    "\n",
    "# example of train/test split with an imbalanced dataset\n",
    "from sklearn.datasets import make_classification\n",
    "from sklearn.model_selection import train_test_split\n",
    "# generate 2 class dataset\n",
    "X, y = make_classification(n_samples=1000, n_classes=2, weights=[0.99, 0.01], flip_y=0, random_state=1)\n",
    "# split into train/test sets with same class ratio\n",
    "trainX, testX, trainy, testy = train_test_split(X, y, test_size=0.5, random_state=2)\n",
    "# summarize\n",
    "train_0, train_1 = len(trainy[trainy==0]), len(trainy[trainy==1])\n",
    "test_0, test_1 = len(testy[testy==0]), len(testy[testy==1])\n",
    "print('>Train: 0=%d, 1=%d, Test: 0=%d, 1=%d' % (train_0, train_1, test_0, test_1))"
   ]
  },
  {
   "cell_type": "raw",
   "id": "6e2c2d7e",
   "metadata": {},
   "source": [
    "Running the example creates the same dataset as before and splits it into a random train and test split.\n",
    "\n",
    "In this case, we can see only three examples of the minority class are present in the training set, with seven in the test set.\n",
    "\n",
    "Evaluating models on this split would not give them enough examples to learn from, too many to be evaluated on, and likely give poor performance. You can imagine how the situation could be worse with an even more severe random spit."
   ]
  },
  {
   "cell_type": "markdown",
   "id": "425b9a5a",
   "metadata": {},
   "source": [
    "# Fix Cross-Validation for Imbalanced Classification"
   ]
  },
  {
   "cell_type": "raw",
   "id": "9a0e5504",
   "metadata": {},
   "source": [
    "The solution is to not split the data randomly when using k-fold cross-validation or a train-test split.\n",
    "\n",
    "Specifically, we can split a dataset randomly, although in such a way that maintains the same class distribution in each subset. This is called stratification or stratified sampling and the target variable (y), the class, is used to control the sampling process.\n",
    "\n",
    "For example, we can use a version of k-fold cross-validation that preserves the imbalanced class distribution in each fold. It is called stratified k-fold cross-validation and will enforce the class distribution in each split of the data to match the distribution in the complete training dataset.\n",
    "\n",
    "… it is common, in the case of class imbalances in particular, to use stratified 10-fold cross-validation, which ensures that the proportion of positive to negative examples found in the original distribution is respected in all the folds.\n",
    "\n",
    "— Page 205, Imbalanced Learning: Foundations, Algorithms, and Applications, 2013.\n",
    "\n",
    "We can make this concrete with an example.\n",
    "\n",
    "We can stratify the splits using the StratifiedKFold class that supports stratified k-fold cross-validation as its name suggests.\n",
    "\n",
    "Below is the same dataset and the same example with the stratified version of cross-validation."
   ]
  },
  {
   "cell_type": "code",
   "execution_count": 8,
   "id": "1feed41c",
   "metadata": {},
   "outputs": [
    {
     "name": "stdout",
     "output_type": "stream",
     "text": [
      "==========================================================================================================\n",
      "==========================================================================================================\n"
     ]
    }
   ],
   "source": [
    "print(\"==========================================================================================================\")\n",
    "print(\"==========================================================================================================\")"
   ]
  },
  {
   "cell_type": "code",
   "execution_count": 7,
   "id": "33b4d2f5",
   "metadata": {},
   "outputs": [
    {
     "name": "stdout",
     "output_type": "stream",
     "text": [
      ">Train: 0=792, 1=8, Test: 0=198, 1=2\n",
      ">Train: 0=792, 1=8, Test: 0=198, 1=2\n",
      ">Train: 0=792, 1=8, Test: 0=198, 1=2\n",
      ">Train: 0=792, 1=8, Test: 0=198, 1=2\n",
      ">Train: 0=792, 1=8, Test: 0=198, 1=2\n"
     ]
    }
   ],
   "source": [
    "# example of stratified k-fold cross-validation with an imbalanced dataset\n",
    "from sklearn.datasets import make_classification\n",
    "from sklearn.model_selection import StratifiedKFold\n",
    "# generate 2 class dataset\n",
    "X, y = make_classification(n_samples=1000, n_classes=2, weights=[0.99, 0.01], flip_y=0, random_state=1)\n",
    "kfold = StratifiedKFold(n_splits=5, shuffle=True, random_state=1)\n",
    "# enumerate the splits and summarize the distributions\n",
    "for train_ix, test_ix in kfold.split(X, y):\n",
    "\t# select rows\n",
    "\ttrain_X, test_X = X[train_ix], X[test_ix]\n",
    "\ttrain_y, test_y = y[train_ix], y[test_ix]\n",
    "\t# summarize train and test composition\n",
    "\ttrain_0, train_1 = len(train_y[train_y==0]), len(train_y[train_y==1])\n",
    "\ttest_0, test_1 = len(test_y[test_y==0]), len(test_y[test_y==1])\n",
    "\tprint('>Train: 0=%d, 1=%d, Test: 0=%d, 1=%d' % (train_0, train_1, test_0, test_1))"
   ]
  },
  {
   "cell_type": "code",
   "execution_count": 11,
   "id": "077d9e7e",
   "metadata": {},
   "outputs": [
    {
     "name": "stdout",
     "output_type": "stream",
     "text": [
      "==========================================================================================================\n",
      " What was the difference in the code? It is a StratifiedKFold and also we are doing a Kfold.split on (X, y)\n",
      " Now each train and test set for each split of the data has the same class distribution.\n",
      "==========================================================================================================\n"
     ]
    }
   ],
   "source": [
    "print(\"==========================================================================================================\")\n",
    "print(\" What was the difference in the code? It is a StratifiedKFold and also we are doing a Kfold.split on (X, y)\")\n",
    "print(\" Now each train and test set for each split of the data has the same class distribution.\")\n",
    "print(\"==========================================================================================================\")"
   ]
  },
  {
   "cell_type": "raw",
   "id": "fcf62a9e",
   "metadata": {},
   "source": [
    "Running the example generates the dataset as before and summarizes the class distribution for the train and test sets for each split.\n",
    "\n",
    "In this case, we can see that each split matches what we expected in the ideal case.\n",
    "\n",
    "Each of the examples in the minority class is given one opportunity to be used in a test set, and each train and test set for each split of the data has the same class distribution."
   ]
  },
  {
   "cell_type": "raw",
   "id": "23e5396e",
   "metadata": {},
   "source": [
    "This example highlights the need to first select a value of k for k-fold cross-validation to ensure that there are a sufficient number of examples in the train and test sets to fit and evaluate a model (two examples from the minority class in the test set is probably too few for a test set).\n",
    "\n",
    "It also highlights the requirement to use stratified k-fold cross-validation with imbalanced datasets to preserve the class distribution in the train and test sets for each evaluation of a given model.\n",
    "\n",
    "We can also use a stratified version of a train/test split.\n",
    "\n",
    "This can be achieved by setting the “stratify” argument on the call to train_test_split() and setting it to the “y” variable containing the target variable from the dataset. From this, the function will determine the desired class distribution and ensure that the train and test sets both have this distribution.\n",
    "\n",
    "We can demonstrate this with a worked example, listed below."
   ]
  },
  {
   "cell_type": "code",
   "execution_count": 15,
   "id": "a6daf717",
   "metadata": {},
   "outputs": [
    {
     "name": "stdout",
     "output_type": "stream",
     "text": [
      ">Train: 0=792, 1=8, Test: 0=198, 1=2\n"
     ]
    }
   ],
   "source": [
    "# example of stratified train/test split with an imbalanced dataset\n",
    "from sklearn.datasets import make_classification\n",
    "from sklearn.model_selection import train_test_split\n",
    "# generate 2 class dataset\n",
    "X, y = make_classification(n_samples=1000, n_classes=2, weights=[0.99, 0.01], flip_y=0, random_state=1)\n",
    "# split into train/test sets with same class ratio\n",
    "trainX, testX, trainy, testy = train_test_split(X, y, test_size=0.2, random_state=2, stratify=y)\n",
    "# summarize\n",
    "train_0, train_1 = len(trainy[trainy==0]), len(trainy[trainy==1])\n",
    "test_0, test_1 = len(testy[testy==0]), len(testy[testy==1])\n",
    "print('>Train: 0=%d, 1=%d, Test: 0=%d, 1=%d' % (train_0, train_1, test_0, test_1))"
   ]
  },
  {
   "cell_type": "raw",
   "id": "5df3b844",
   "metadata": {},
   "source": [
    "Running the example creates a random split of the dataset into training and test sets, ensuring that the class distribution is preserved, in this case leaving five examples (minority class) in each dataset."
   ]
  }
 ],
 "metadata": {
  "kernelspec": {
   "display_name": "Python 3",
   "language": "python",
   "name": "python3"
  },
  "language_info": {
   "codemirror_mode": {
    "name": "ipython",
    "version": 3
   },
   "file_extension": ".py",
   "mimetype": "text/x-python",
   "name": "python",
   "nbconvert_exporter": "python",
   "pygments_lexer": "ipython3",
   "version": "3.8.8"
  }
 },
 "nbformat": 4,
 "nbformat_minor": 5
}

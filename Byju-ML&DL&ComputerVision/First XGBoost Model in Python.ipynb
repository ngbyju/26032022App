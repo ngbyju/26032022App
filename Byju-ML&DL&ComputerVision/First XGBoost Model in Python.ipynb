{
 "cells": [
  {
   "cell_type": "markdown",
   "id": "d033c87c",
   "metadata": {},
   "source": [
    "# How to Develop Your First XGBoost Model in Python\n",
    "https://machinelearningmastery.com/develop-first-xgboost-model-python-scikit-learn/"
   ]
  },
  {
   "cell_type": "raw",
   "id": "fa780724",
   "metadata": {},
   "source": [
    "XGBoost is an implementation of gradient boosted decision trees designed for speed and performance that is dominative competitive machine learning.\n",
    "\n",
    "In this post you will discover how you can install and create your first XGBoost model in Python.\n",
    "\n",
    "After reading this post you will know:\n",
    "\n",
    "How to install XGBoost on your system for use in Python.\n",
    "How to prepare data and train your first XGBoost model.\n",
    "How to make predictions using your XGBoost model."
   ]
  },
  {
   "cell_type": "raw",
   "id": "50c77f7c",
   "metadata": {},
   "source": [
    "Tutorial Overview\n",
    "This tutorial is broken down into the following 6 sections:\n",
    "\n",
    "Install XGBoost for use with Python.\n",
    "Problem definition and download dataset.\n",
    "Load and prepare data.\n",
    "Train XGBoost model.\n",
    "Make predictions and evaluate model.\n",
    "Tie it all together and run the example."
   ]
  },
  {
   "cell_type": "markdown",
   "id": "d7e70c1d",
   "metadata": {},
   "source": [
    "# 1. Install XGBoost for Use in Python"
   ]
  },
  {
   "cell_type": "raw",
   "id": "8add3b14",
   "metadata": {},
   "source": [
    "\n",
    "Assuming you have a working SciPy environment, XGBoost can be installed easily using pip.\n",
    "\n",
    "For example:\n",
    "\n",
    "sudo pip install xgboost\n",
    "To update your installation of XGBoost you can type:\n",
    "\n",
    "sudo pip install --upgrade xgboost\n",
    "An alternate way to install XGBoost if you cannot use pip or you want to run the latest code from GitHub requires that you make a clone of the XGBoost project and perform a manual build and installation.\n",
    "\n",
    "For example to build XGBoost without multithreading on Mac OS X (with GCC already installed via macports or homebrew), you can type:\n",
    "\n",
    "git clone --recursive https://github.com/dmlc/xgboost\n",
    "cd xgboost\n",
    "cp make/minimum.mk ./config.mk\n",
    "make -j4\n",
    "cd python-package\n",
    "sudo python setup.py install\n",
    "You can learn more about how to install XGBoost for different platforms on the XGBoost Installation Guide. For up-to-date instructions for installing XGBoost for Python see the XGBoost Python Package.\n",
    "\n",
    "For reference, you can review the XGBoost Python API reference.\n",
    "\n"
   ]
  },
  {
   "cell_type": "code",
   "execution_count": 1,
   "id": "07d37388",
   "metadata": {},
   "outputs": [
    {
     "name": "stdout",
     "output_type": "stream",
     "text": [
      "Requirement already satisfied: xgboost in c:\\users\\byju\\anaconda3\\lib\\site-packages (1.6.1)\n",
      "Requirement already satisfied: numpy in c:\\users\\byju\\anaconda3\\lib\\site-packages (from xgboost) (1.20.1)\n",
      "Requirement already satisfied: scipy in c:\\users\\byju\\anaconda3\\lib\\site-packages (from xgboost) (1.6.2)\n"
     ]
    }
   ],
   "source": [
    "# install Xgboost\n",
    "!pip install xgboost"
   ]
  },
  {
   "cell_type": "markdown",
   "id": "5868fd4e",
   "metadata": {},
   "source": [
    "# 2. Problem Description: Predict Onset of Diabetes"
   ]
  },
  {
   "cell_type": "raw",
   "id": "2bb20614",
   "metadata": {},
   "source": [
    "\n",
    "In this tutorial we are going to use the Pima Indians onset of diabetes dataset.\n",
    "\n",
    "This dataset is comprised of 8 input variables that describe medical details of patients and one output variable to indicate whether the patient will have an onset of diabetes within 5 years.\n",
    "\n",
    "You can learn more about this dataset on the UCI Machine Learning Repository website.\n",
    "\n",
    "This is a good dataset for a first XGBoost model because all of the input variables are numeric and the problem is a simple binary classification problem. It is not necessarily a good problem for the XGBoost algorithm because it is a relatively small dataset and an easy problem to model.\n",
    "\n",
    "Download this dataset and place it into your current working directory with the file name “pima-indians-diabetes.csv” (update: download from here)."
   ]
  },
  {
   "cell_type": "markdown",
   "id": "1c5f1415",
   "metadata": {},
   "source": [
    "# 3. Load and Prepare Data"
   ]
  },
  {
   "cell_type": "raw",
   "id": "03bb2888",
   "metadata": {},
   "source": [
    "\n",
    "In this section we will load the data from file and prepare it for use for training and evaluating an XGBoost model.\n",
    "\n",
    "We will start off by importing the classes and functions we intend to use in this tutorial.\n",
    "\n",
    "from numpy import loadtxt\n",
    "from xgboost import XGBClassifier\n",
    "from sklearn.model_selection import train_test_split\n",
    "from sklearn.metrics import accuracy_score\n",
    "Next, we can load the CSV file as a NumPy array using the NumPy function loadtext().\n",
    "\n",
    "# load data\n",
    "dataset = loadtxt('pima-indians-diabetes.csv', delimiter=\",\")\n",
    "We must separate the columns (attributes or features) of the dataset into input patterns (X) and output patterns (Y). We can do this easily by specifying the column indices in the NumPy array format.\n",
    "\n",
    "# split data into X and y\n",
    "X = dataset[:,0:8]\n",
    "Y = dataset[:,8]\n",
    "Finally, we must split the X and Y data into a training and test dataset. The training set will be used to prepare the XGBoost model and the test set will be used to make new predictions, from which we can evaluate the performance of the model.\n",
    "\n",
    "For this we will use the train_test_split() function from the scikit-learn library. We also specify a seed for the random number generator so that we always get the same split of data each time this example is executed.\n",
    "\n",
    "# split data into train and test sets\n",
    "seed = 7\n",
    "test_size = 0.33\n",
    "X_train, X_test, y_train, y_test = train_test_split(X, Y, test_size=test_size, random_state=seed)\n",
    "We are now ready to train our model."
   ]
  },
  {
   "cell_type": "markdown",
   "id": "4a5c4c40",
   "metadata": {},
   "source": [
    "# 4. Train the XGBoost Model"
   ]
  },
  {
   "cell_type": "raw",
   "id": "2b4009a4",
   "metadata": {},
   "source": [
    "\n",
    "XGBoost provides a wrapper class to allow models to be treated like classifiers or regressors in the scikit-learn framework.\n",
    "\n",
    "This means we can use the full scikit-learn library with XGBoost models.\n",
    "\n",
    "The XGBoost model for classification is called XGBClassifier. We can create and and fit it to our training dataset. Models are fit using the scikit-learn API and the model.fit() function.\n",
    "\n",
    "Parameters for training the model can be passed to the model in the constructor. Here, we use the sensible defaults.\n",
    "\n",
    "# fit model no training data\n",
    "model = XGBClassifier()\n",
    "model.fit(X_train, y_train)\n",
    "You can see the parameters used in a trained model by printing the model, for example:\n",
    "\n",
    "print(model)\n",
    "You can learn more about the defaults for the XGBClassifier and XGBRegressor classes in the XGBoost Python scikit-learn API.\n",
    "\n",
    "You can learn more about the meaning of each parameter and how to configure them on the XGBoost parameters page.\n",
    "\n",
    "We are now ready to use the trained model to make predictions."
   ]
  },
  {
   "cell_type": "markdown",
   "id": "1e086aaa",
   "metadata": {},
   "source": [
    "# 5. Make Predictions with XGBoost Model"
   ]
  },
  {
   "cell_type": "raw",
   "id": "e1616f05",
   "metadata": {},
   "source": [
    "We can make predictions using the fit model on the test dataset.\n",
    "\n",
    "To make predictions we use the scikit-learn function model.predict().\n",
    "\n",
    "By default, the predictions made by XGBoost are probabilities. Because this is a binary classification problem, each prediction is the probability of the input pattern belonging to the first class. We can easily convert them to binary class values by rounding them to 0 or 1.\n",
    "\n",
    "# make predictions for test data\n",
    "y_pred = model.predict(X_test)\n",
    "predictions = [round(value) for value in y_pred]\n",
    "Now that we have used the fit model to make predictions on new data, we can evaluate the performance of the predictions by comparing them to the expected values. For this we will use the built in accuracy_score() function in scikit-learn.\n",
    "\n",
    "# evaluate predictions\n",
    "accuracy = accuracy_score(y_test, predictions)\n",
    "print(\"Accuracy: %.2f%%\" % (accuracy * 100.0))"
   ]
  },
  {
   "cell_type": "markdown",
   "id": "29e05751",
   "metadata": {},
   "source": [
    "# 6. Tie it All Together\n",
    "### We can tie all of these pieces together, below is the full code listing."
   ]
  },
  {
   "cell_type": "code",
   "execution_count": 10,
   "id": "6ccc0f5e",
   "metadata": {},
   "outputs": [
    {
     "name": "stdout",
     "output_type": "stream",
     "text": [
      "Accuracy: 77.95%\n"
     ]
    }
   ],
   "source": [
    "# First XGBoost model for Pima Indians dataset\n",
    "from numpy import loadtxt\n",
    "from xgboost import XGBClassifier\n",
    "from sklearn.model_selection import train_test_split\n",
    "from sklearn.metrics import accuracy_score\n",
    "# load data\n",
    "dataset = loadtxt('pima-indians-diabetes.csv', delimiter=\",\")\n",
    "# split data into X and y\n",
    "X = dataset[:,0:8]\n",
    "Y = dataset[:,8]\n",
    "# split data into train and test sets\n",
    "seed = 1\n",
    "test_size = 0.33\n",
    "X_train, X_test, y_train, y_test = train_test_split(X, Y, test_size=test_size, random_state=seed)\n",
    "# fit model on training data\n",
    "model = XGBClassifier()\n",
    "model.fit(X_train, y_train)\n",
    "# make predictions for test data\n",
    "y_pred = model.predict(X_test)\n",
    "predictions = [round(value) for value in y_pred]\n",
    "# evaluate predictions\n",
    "accuracy = accuracy_score(y_test, predictions)\n",
    "print(\"Accuracy: %.2f%%\" % (accuracy * 100.0))"
   ]
  },
  {
   "cell_type": "raw",
   "id": "ee98e9cd",
   "metadata": {},
   "source": [
    "This is a good accuracy score on this problem, which we would expect, given the capabilities of the model and the modest complexity of the problem."
   ]
  },
  {
   "cell_type": "code",
   "execution_count": null,
   "id": "f9baad3b",
   "metadata": {},
   "outputs": [],
   "source": []
  }
 ],
 "metadata": {
  "kernelspec": {
   "display_name": "Python 3",
   "language": "python",
   "name": "python3"
  },
  "language_info": {
   "codemirror_mode": {
    "name": "ipython",
    "version": 3
   },
   "file_extension": ".py",
   "mimetype": "text/x-python",
   "name": "python",
   "nbconvert_exporter": "python",
   "pygments_lexer": "ipython3",
   "version": "3.8.8"
  }
 },
 "nbformat": 4,
 "nbformat_minor": 5
}
